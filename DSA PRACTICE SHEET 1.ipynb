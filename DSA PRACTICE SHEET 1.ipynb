{
 "cells": [
  {
   "cell_type": "markdown",
   "id": "539d52e4",
   "metadata": {},
   "source": [
    "# STRIVER DSA SHEET"
   ]
  },
  {
   "cell_type": "markdown",
   "id": "d6227a31",
   "metadata": {},
   "source": [
    "# STEP - 2"
   ]
  },
  {
   "cell_type": "code",
   "execution_count": null,
   "id": "8dad2ca4",
   "metadata": {},
   "outputs": [],
   "source": [
    "def count_missing_characters(input_string):\n",
    "    alphabets = set('abcdefghijklmnopqrstuvwxyz')\n",
    "    vowels = set('aeiou')\n",
    "    \n",
    "    for char in input_string:\n",
    "        if char in alphabets:\n",
    "            alphabets.remove(char)\n",
    "        if char in vowels:\n",
    "            vowels.remove(char)\n",
    "            \n",
    "    missing_vowels_count = len(vowels)\n",
    "    missing_consonants_count = len(alphabets) - missing_vowels_count\n",
    "    \n",
    "    return str(missing_consonants_count) + \" \" + str(missing_vowels_count)\n",
    "\n",
    "input_string = \"a quick brown fox jumps over the lazy dog\"\n",
    "print(count_missing_characters(input_string))\n",
    "\n",
    "input_string = \"bc\"\n",
    "print(count_missing_characters(input_string))"
   ]
  },
  {
   "cell_type": "markdown",
   "id": "761354b9",
   "metadata": {},
   "source": [
    "# SORTING TECHNIQUE"
   ]
  },
  {
   "cell_type": "code",
   "execution_count": null,
   "id": "6bc7831d",
   "metadata": {},
   "outputs": [],
   "source": [
    "def bubble_sort(l):\n",
    "    n=len(l)\n",
    "    for i in range(n-1):\n",
    "        swap=False\n",
    "        for j in range(n-i-1):\n",
    "            if l[j]>l[j+1]:\n",
    "                l[j],l[j+1]=l[j+1],l[j]\n",
    "                swap=True\n",
    "        if swap==False:\n",
    "            return\n",
    "l=[2,1,5,4,9]\n",
    "bubble_sort(l)\n",
    "print(*l)"
   ]
  },
  {
   "cell_type": "code",
   "execution_count": 2,
   "id": "3cf99df1",
   "metadata": {},
   "outputs": [
    {
     "name": "stdout",
     "output_type": "stream",
     "text": [
      "1 2 4 5 9\n"
     ]
    }
   ],
   "source": [
    "def selection_sort(l):\n",
    "    n=len(l)\n",
    "    for i in range(n-1):\n",
    "        mid_idx=i\n",
    "        for j in range(i+1,n):\n",
    "            if l[j]<l[mid_idx]:\n",
    "                mid_idx=j\n",
    "        l[mid_idx],l[i]=l[i],l[mid_idx]\n",
    "l=[2,1,5,4,9]\n",
    "selection_sort(l)\n",
    "print(*l)"
   ]
  },
  {
   "cell_type": "code",
   "execution_count": 3,
   "id": "13128927",
   "metadata": {},
   "outputs": [
    {
     "name": "stdout",
     "output_type": "stream",
     "text": [
      "1 2 4 5 9\n"
     ]
    }
   ],
   "source": [
    "def insertion_sort(l):\n",
    "    for i in range(1,len(l)):\n",
    "        x=l[i]\n",
    "        j=i-1\n",
    "        while j>=0 and x<l[j]:\n",
    "            l[j+1]=l[j]\n",
    "            j=j-1\n",
    "        l[j+1]=x\n",
    "l=[2,1,5,4,9]\n",
    "insertion_sort(l)\n",
    "print(*l)"
   ]
  },
  {
   "cell_type": "code",
   "execution_count": 7,
   "id": "91aafb3e",
   "metadata": {},
   "outputs": [
    {
     "name": "stdout",
     "output_type": "stream",
     "text": [
      "1 2 4 5 9\n"
     ]
    }
   ],
   "source": [
    "def merge(arr,low,mid,high):\n",
    "    left=arr[low:mid+1]\n",
    "    right=arr[mid+1:high+1]\n",
    "    i=0\n",
    "    j=0\n",
    "    k=low\n",
    "    while i<len(left) and j<len(right):\n",
    "        if left[i]<right[j]:\n",
    "            arr[k]=left[i]\n",
    "            i+=1\n",
    "            k+=1\n",
    "        else:\n",
    "            arr[k]=right[j]\n",
    "            j+=1\n",
    "            k+=1\n",
    "    while i<len(left):\n",
    "        arr[k]=left[i]\n",
    "        i+=1\n",
    "        k+=1\n",
    "    while j<len(right):\n",
    "        arr[k]=right[j]\n",
    "        j+=1\n",
    "        k+=1\n",
    "def merge_sort(arr,l,r):\n",
    "    if l<r:\n",
    "        m=(l+r)//2\n",
    "        merge_sort(arr,l,m)\n",
    "        merge_sort(arr,m+1,r)\n",
    "        merge(arr,l,m,r)\n",
    "arr=[2,1,5,4,9]\n",
    "merge_sort(arr,0,4)\n",
    "print(*arr)"
   ]
  },
  {
   "cell_type": "code",
   "execution_count": null,
   "id": "ebd1554d",
   "metadata": {},
   "outputs": [],
   "source": [
    "def array_partion(arr,low,high):\n",
    "    pivot=arr[low]\n",
    "    i=low-1\n",
    "    j=high+1\n",
    "    while True:\n",
    "        i=i+1\n",
    "        while arr[i]<pivot:\n",
    "            i=i+1\n",
    "        j=j-1\n",
    "        while arr[j]>pivot:\n",
    "            j=j-1\n",
    "        if i>=j:\n",
    "            return j\n",
    "        arr[i],arr[j]=arr[j],arr[i]\n",
    "def quick_sort(arr,low,high):\n",
    "    if low<high:\n",
    "        p=array_partion(arr,low,high)\n",
    "        quick_sort(arr,low,p)\n",
    "        quick_sort(arr,p+1,high)\n",
    "    \n",
    "arr=[5,1,3,6,2,9]\n",
    "quick_sort(arr,0,5)\n",
    "print(*arr)"
   ]
  },
  {
   "cell_type": "code",
   "execution_count": null,
   "id": "19db8e5c",
   "metadata": {},
   "outputs": [],
   "source": [
    "#recursive bubble sort\n",
    "def bubble_sort_recursive(arr, n=None):\n",
    "    if n is None:\n",
    "        n = len(arr)\n",
    "\n",
    "    # Base case\n",
    "    if n == 1:\n",
    "        return\n",
    "\n",
    "    # One pass of bubble sort: largest element moves to end\n",
    "    for i in range(n - 1):\n",
    "        if arr[i] > arr[i + 1]:\n",
    "            arr[i], arr[i + 1] = arr[i + 1], arr[i]\n",
    "\n",
    "    # Recursive call for the remaining array\n",
    "    bubble_sort_recursive(arr, n - 1)\n",
    "\n",
    "# Example usage\n",
    "arr = [64, 34, 25, 12, 22, 11, 90]\n",
    "bubble_sort_recursive(arr)\n",
    "print(\"Sorted array:\", arr)\n"
   ]
  },
  {
   "cell_type": "code",
   "execution_count": null,
   "id": "a23230d0",
   "metadata": {},
   "outputs": [],
   "source": [
    "#recursive insertion sort\n",
    "def insertion_sort_recursive(arr, n=None):\n",
    "    if n is None:\n",
    "        n = len(arr)\n",
    "\n",
    "    # Base case\n",
    "    if n <= 1:\n",
    "        return\n",
    "\n",
    "    # Sort first n-1 elements\n",
    "    insertion_sort_recursive(arr, n - 1)\n",
    "\n",
    "    # Insert the last element at its correct position in sorted array\n",
    "    last = arr[n - 1]\n",
    "    j = n - 2\n",
    "\n",
    "    # Move elements greater than 'last' one position ahead\n",
    "    while j >= 0 and arr[j] > last:\n",
    "        arr[j + 1] = arr[j]\n",
    "        j -= 1\n",
    "\n",
    "    arr[j + 1] = last\n",
    "\n",
    "# Example usage\n",
    "arr = [5, 3, 4, 1, 2]\n",
    "insertion_sort_recursive(arr)\n",
    "print(\"Sorted array:\", arr)\n"
   ]
  },
  {
   "cell_type": "markdown",
   "id": "9a6f4074",
   "metadata": {},
   "source": [
    "# ARRAY EASY"
   ]
  },
  {
   "cell_type": "code",
   "execution_count": 3,
   "id": "14304735",
   "metadata": {},
   "outputs": [
    {
     "name": "stdout",
     "output_type": "stream",
     "text": [
      "enter the number: 5\n",
      "enter the number: 5\n",
      "enter the number: 8\n",
      "enter the number: 3\n",
      "enter the number: 2\n",
      "enter the number: 7\n",
      "list are: [5, 8, 3, 2, 7]\n",
      "8\n"
     ]
    }
   ],
   "source": [
    "#largest element in an array\n",
    "def largest_ele(l):\n",
    "    large=l[0]\n",
    "    for i in l[1:]:\n",
    "        if i>large:\n",
    "            large=i\n",
    "    return large\n",
    "if __name__==\"__main__\":\n",
    "    n=int(input(\"enter the number: \"))\n",
    "    l=[]\n",
    "    for i in range(n):\n",
    "        l.append(int(input(\"enter the number: \")))\n",
    "    print(f\"list are: {l}\")\n",
    "    print(largest_ele(l))"
   ]
  },
  {
   "cell_type": "code",
   "execution_count": 9,
   "id": "8e57f7a5",
   "metadata": {},
   "outputs": [
    {
     "name": "stdout",
     "output_type": "stream",
     "text": [
      "enter the numebr: 6\n",
      "enter the number: 8\n",
      "enter the number: 3\n",
      "enter the number: 5\n",
      "enter the number: 7\n",
      "enter the number: 6\n",
      "enter the number: 4\n",
      "list are [8, 3, 5, 7, 6, 4]\n",
      "7\n"
     ]
    }
   ],
   "source": [
    "#second largest element:\n",
    "def second_largest(l):\n",
    "    large=l[0]\n",
    "    slarge=None\n",
    "    for i in l[1:]:\n",
    "        if i>large:\n",
    "            slarge=large\n",
    "            large=i\n",
    "        elif i!=large:\n",
    "            if slarge==None or slarge<i:\n",
    "                slarge=i\n",
    "    return slarge\n",
    "if __name__==\"__main__\":\n",
    "    n=int(input(\"enter the numebr: \"))\n",
    "    l=[]\n",
    "    for i in range(n):\n",
    "        l.append(int(input(\"enter the number: \")))\n",
    "    print(f\"list are {l}\")\n",
    "    print(second_largest(l))"
   ]
  },
  {
   "cell_type": "code",
   "execution_count": 13,
   "id": "9d0301da",
   "metadata": {
    "scrolled": true
   },
   "outputs": [
    {
     "name": "stdout",
     "output_type": "stream",
     "text": [
      "enter the number: 3\n",
      "enter the number: 3\n",
      "enter the number: 2\n",
      "enter the number: 1\n",
      "list are [3, 2, 1]\n",
      "False\n"
     ]
    }
   ],
   "source": [
    "#check array sorted\n",
    "def sorted_array(l):\n",
    "    for i in range(len(l)-1):\n",
    "        if l[i]>l[i+1]:\n",
    "            return False\n",
    "    return True\n",
    "if __name__==\"__main__\":\n",
    "    n=int(input(\"enter the number: \"))\n",
    "    l=[]\n",
    "    for i in range(n):\n",
    "        l.append(int(input(\"enter the number: \")))\n",
    "    print(f\"list are {l}\")\n",
    "    print(sorted_array(l))"
   ]
  },
  {
   "cell_type": "code",
   "execution_count": 2,
   "id": "38c8c8fd",
   "metadata": {},
   "outputs": [
    {
     "name": "stdout",
     "output_type": "stream",
     "text": [
      "enter the number: 5\n",
      "enter the number: 10\n",
      "enter the number: 10\n",
      "enter the number: 20\n",
      "enter the number: 20\n",
      "enter the number: 30\n",
      "list are [10, 10, 20, 20, 30]\n",
      "[10, 20, 30]\n"
     ]
    }
   ],
   "source": [
    "#Remove duplicates from Sorted array\n",
    "# Remove Duplicate from Sorted array\n",
    "def remove_duplicate_sorted_array(arr):\n",
    "    res=1\n",
    "    for i in range(1,len(arr)):\n",
    "        if arr[res-1]!=arr[i]:\n",
    "            arr[res]=arr[i]\n",
    "            res+=1\n",
    "    return arr[:res]\n",
    "if __name__==\"__main__\":\n",
    "    n=int(input(\"enter the number: \"))\n",
    "    arr=[]\n",
    "    for i in range(n):\n",
    "        arr.append(int(input(\"enter the number: \")))\n",
    "    print(f\"list are {arr}\")\n",
    "    print(remove_duplicate_sorted_array(arr))"
   ]
  },
  {
   "cell_type": "code",
   "execution_count": 13,
   "id": "89106430",
   "metadata": {},
   "outputs": [
    {
     "name": "stdout",
     "output_type": "stream",
     "text": [
      "enter the number: 7\n",
      "enter the number: 1\n",
      "enter the number: 2\n",
      "enter the number: 3\n",
      "enter the number: 4\n",
      "enter the number: 5\n",
      "enter the number: 6\n",
      "enter the number: 7\n",
      "list are [1, 2, 3, 4, 5, 6, 7]\n",
      "enter the number for roation: 3\n",
      "[5, 6, 7, 1, 2, 3, 4]\n"
     ]
    }
   ],
   "source": [
    "#Rotate array\n",
    "def rotate_array(l,k):\n",
    "    l[0:k+1]=reversed(l[0:k+1])\n",
    "    l[k+1:len(l)]=reversed(l[k+1:len(l)])\n",
    "    l[0:len(l)]=reversed(l[0:len(l)])\n",
    "    return l\n",
    "if __name__==\"__main__\":\n",
    "    n=int(input(\"enter the number: \"))\n",
    "    arr=[]\n",
    "    for i in range(n):\n",
    "        arr.append(int(input(\"enter the number: \")))\n",
    "    print(f\"list are {arr}\")\n",
    "    k=int(input(\"enter the number for roation: \"))\n",
    "    print(rotate_array(arr,k))\n",
    "    \n"
   ]
  },
  {
   "cell_type": "code",
   "execution_count": 19,
   "id": "1a5b3311",
   "metadata": {},
   "outputs": [
    {
     "name": "stdout",
     "output_type": "stream",
     "text": [
      "enter the number: 5\n",
      "enter the number: 0\n",
      "enter the number: 1\n",
      "enter the number: 0\n",
      "enter the number: 3\n",
      "enter the number: 12\n",
      "list are [0, 1, 0, 3, 12]\n",
      "[1, 3, 12, 0, 0]\n"
     ]
    }
   ],
   "source": [
    "##move to zero index\n",
    "def move_to_zero_index(l):\n",
    "    pos=0\n",
    "    for i in range(len(l)):\n",
    "        if l[i]!=0:\n",
    "            l[pos],l[i]=l[i],l[pos]\n",
    "            pos+=1\n",
    "    return l\n",
    "        \n",
    "if __name__==\"__main__\":\n",
    "    n=int(input(\"enter the number: \"))\n",
    "    arr=[]\n",
    "    for i in range(n):\n",
    "        arr.append(int(input(\"enter the number: \")))\n",
    "    print(f\"list are {arr}\")\n",
    "    print(move_to_zero_index(arr))\n"
   ]
  },
  {
   "cell_type": "code",
   "execution_count": 22,
   "id": "9c7e9de5",
   "metadata": {},
   "outputs": [
    {
     "name": "stdout",
     "output_type": "stream",
     "text": [
      "enter the number: 3\n",
      "enter the number: 1\n",
      "enter the number: 2\n",
      "enter the number: 3\n",
      "list are [1, 2, 3]\n",
      "enter the value for search: 5\n",
      "False\n"
     ]
    }
   ],
   "source": [
    "#linear search\n",
    "def linear_search(arr,x):\n",
    "    for i in arr:\n",
    "        if i == x:\n",
    "            return True\n",
    "    else:\n",
    "        return False\n",
    "if __name__==\"__main__\":\n",
    "    n=int(input(\"enter the number: \"))\n",
    "    arr=[]\n",
    "    for i in range(n):\n",
    "        arr.append(int(input(\"enter the number: \")))\n",
    "    print(f\"list are {arr}\")\n",
    "    x=int(input(\"enter the value for search: \"))\n",
    "    print(linear_search(arr,x))"
   ]
  },
  {
   "cell_type": "code",
   "execution_count": 2,
   "id": "ec27affd",
   "metadata": {},
   "outputs": [
    {
     "name": "stdout",
     "output_type": "stream",
     "text": [
      "[1, 2, 3, 4, 5]\n"
     ]
    }
   ],
   "source": [
    "## Find the Union\n",
    "def union(arr1,arr2):\n",
    "    n=len(arr1)\n",
    "    m=len(arr2)\n",
    "    result=[]\n",
    "    i=j=0\n",
    "    while i<n and j<m:\n",
    "        if arr1[i] < arr2[j]:\n",
    "            if not result or result[-1]!=arr1[i]:\n",
    "                result.append(arr1[i])\n",
    "            i+=1\n",
    "        elif arr2[j]<arr1[i]:\n",
    "            if not result or result[-1]!=arr2[j]:\n",
    "                result.append(arr2[j])\n",
    "            j+=1\n",
    "        else:\n",
    "            if not result or result[-1]!=arr1[i]:\n",
    "                result.append(arr1[i])\n",
    "            i+=1\n",
    "            j+=1\n",
    "    while i<n:\n",
    "        if result[-1]!=arr1[i]:\n",
    "            result.append(arr1[i])\n",
    "        i+=1\n",
    "        if result[-1]!=arr2[j]:\n",
    "            result.append(arr2[j])\n",
    "        j+=1\n",
    "    return result      \n",
    "if __name__==\"__main__\":\n",
    "    arr1=[1,2,3,4,5]\n",
    "    arr2=[2,3,6]\n",
    "    print(union(arr1,arr2))"
   ]
  },
  {
   "cell_type": "code",
   "execution_count": 5,
   "id": "b7250a93",
   "metadata": {},
   "outputs": [
    {
     "name": "stdout",
     "output_type": "stream",
     "text": [
      "enter the number: 6\n",
      "enter the number: 1\n",
      "enter the number: 3\n",
      "enter the number: 4\n",
      "enter the number: 5\n",
      "enter the number: 6\n",
      "enter the number: 7\n",
      "list are [1, 3, 4, 5, 6, 7]\n",
      "2\n"
     ]
    }
   ],
   "source": [
    "#Missing Number\n",
    "def missing_number(arr):\n",
    "    n=len(arr)\n",
    "    expected_sum=n*(n+1)//2\n",
    "    acctual_sum=0\n",
    "    for i in arr:\n",
    "        acctual_sum=acctual_sum+i\n",
    "    return expected_sum-acctual_sum\n",
    "            \n",
    "            \n",
    "if __name__==\"__main__\":\n",
    "    n=int(input(\"enter the number: \"))\n",
    "    arr=[]\n",
    "    for i in range(n):\n",
    "        arr.append(int(input(\"enter the number: \")))\n",
    "    print(f\"list are {arr}\")\n",
    "    print(missing_number(arr))"
   ]
  },
  {
   "cell_type": "code",
   "execution_count": 16,
   "id": "255a9a0d",
   "metadata": {
    "scrolled": true
   },
   "outputs": [
    {
     "name": "stdout",
     "output_type": "stream",
     "text": [
      "enter the number: 6\n",
      "enter the number: 1\n",
      "enter the number: 0\n",
      "enter the number: 1\n",
      "enter the number: 1\n",
      "enter the number: 0\n",
      "enter the number: 1\n",
      "list are [1, 0, 1, 1, 0, 1]\n",
      "2\n"
     ]
    }
   ],
   "source": [
    "##Max Consecutive Ones\n",
    "def max_consecutive_ones(arr):\n",
    "    current_count=0\n",
    "    max_count=0\n",
    "    for i in arr:\n",
    "        if i==1:\n",
    "            current_count+=1\n",
    "            max_count=max(max_count,current_count)\n",
    "        else:\n",
    "            current_count=0\n",
    "    return max_count\n",
    "if __name__==\"__main__\":\n",
    "    n=int(input(\"enter the number: \"))\n",
    "    arr=[]\n",
    "    for i in range(n):\n",
    "        arr.append(int(input(\"enter the number: \")))\n",
    "    print(f\"list are {arr}\")\n",
    "    print(max_consecutive_ones(arr))"
   ]
  },
  {
   "cell_type": "code",
   "execution_count": 2,
   "id": "bf3faab6",
   "metadata": {},
   "outputs": [
    {
     "name": "stdout",
     "output_type": "stream",
     "text": [
      "enter the number: 5\n",
      "enter the number: 4\n",
      "enter the number: 2\n",
      "enter the number: 2\n",
      "enter the number: 6\n",
      "enter the number: 4\n",
      "list are [4, 2, 2, 6, 4]\n",
      "6\n"
     ]
    }
   ],
   "source": [
    "##Find the number that appears once, and other numbers twice\n",
    "def  Single_Number(arr):\n",
    "    val=0\n",
    "    for i in arr:\n",
    "        val=val^i\n",
    "#         print(val)\n",
    "    return val\n",
    "if __name__==\"__main__\":\n",
    "    n=int(input(\"enter the number: \"))\n",
    "    arr=[]\n",
    "    for i in range(n):\n",
    "        arr.append(int(input(\"enter the number: \")))\n",
    "    print(f\"list are {arr}\")\n",
    "    print(Single_Number(arr))"
   ]
  },
  {
   "cell_type": "code",
   "execution_count": 3,
   "id": "b8c5ce9d",
   "metadata": {
    "scrolled": false
   },
   "outputs": [
    {
     "name": "stdout",
     "output_type": "stream",
     "text": [
      "enter the number: 7\n",
      "enter the number: 3\n",
      "enter the number: -4\n",
      "enter the number: 5\n",
      "enter the number: 4\n",
      "enter the number: -1\n",
      "enter the number: 7\n",
      "enter the number: -8\n",
      "list are [3, -4, 5, 4, -1, 7, -8]\n",
      "15\n"
     ]
    }
   ],
   "source": [
    "##Longest subarray with given sum K(positives+neg)\n",
    "#Kadane's Algorithm\n",
    "def max_sum_subarray(arr):\n",
    "    summ=0\n",
    "    maxsum=arr[0]\n",
    "    for i in range(len(arr)):\n",
    "        summ=summ+arr[i]\n",
    "        if(summ>maxsum):\n",
    "            maxsum=summ\n",
    "        if (summ<0):\n",
    "            summ=0\n",
    "    return maxsum\n",
    "if __name__==\"__main__\":\n",
    "    n=int(input(\"enter the number: \"))\n",
    "    arr=[]\n",
    "    for i in range(n):\n",
    "        arr.append(int(input(\"enter the number: \")))\n",
    "    print(f\"list are {arr}\")\n",
    "    print(max_sum_subarray(arr))  "
   ]
  },
  {
   "cell_type": "code",
   "execution_count": 5,
   "id": "c50c45d2",
   "metadata": {},
   "outputs": [
    {
     "name": "stdout",
     "output_type": "stream",
     "text": [
      "enter the number: 6\n",
      "enter the number: 9\n",
      "enter the number: 4\n",
      "enter the number: 20\n",
      "enter the number: 3\n",
      "enter the number: 10\n",
      "enter the number: 5\n",
      "list are [9, 4, 20, 3, 10, 5]\n",
      "enter the number: 33\n",
      "2\n"
     ]
    }
   ],
   "source": [
    "#Longest Subarray sum(Positives)\n",
    "#brute force approach\n",
    "def subarray_sum_k(arr,k):\n",
    "    count=0\n",
    "    for i in range(len(arr)):\n",
    "        summ=0\n",
    "        for j in range(i,len(arr)):\n",
    "            summ+=arr[j]\n",
    "            if summ==k:\n",
    "                count+=1\n",
    "    return count\n",
    "if __name__==\"__main__\":\n",
    "    n=int(input(\"enter the number: \"))\n",
    "    arr=[]\n",
    "    for i in range(n):\n",
    "        arr.append(int(input(\"enter the number: \")))\n",
    "    print(f\"list are {arr}\")\n",
    "    k=int(input(\"enter the number: \"))\n",
    "    print(subarray_sum_k(arr,k))  "
   ]
  },
  {
   "cell_type": "code",
   "execution_count": 39,
   "id": "c150cfc2",
   "metadata": {},
   "outputs": [
    {
     "name": "stdout",
     "output_type": "stream",
     "text": [
      "2\n"
     ]
    }
   ],
   "source": [
    "#using prefixsum\n",
    "#Optimal app roach\n",
    "def sub_array_sum(arr,k):\n",
    "    sub_arr={0:1}\n",
    "    total=0\n",
    "    count=0\n",
    "    for i in arr:\n",
    "        total+=i\n",
    "        if total-k in sub_arr:\n",
    "            count+=sub_arr[total-k]\n",
    "        if total in sub_arr:\n",
    "            sub_arr[total]+=1\n",
    "        else:\n",
    "            sub_arr[total]=1\n",
    "    return count\n",
    "# arr=[9,4,20,3,10,5]\n",
    "# k=33\n",
    "arr=[1,2,3]\n",
    "k=3\n",
    "print(sub_array_sum(arr,k))"
   ]
  },
  {
   "cell_type": "markdown",
   "id": "7d942465",
   "metadata": {},
   "source": [
    "# ARRAY MIDIUM"
   ]
  },
  {
   "cell_type": "code",
   "execution_count": 34,
   "id": "a97e9ac3",
   "metadata": {},
   "outputs": [
    {
     "name": "stdout",
     "output_type": "stream",
     "text": [
      "[1, 2]\n"
     ]
    }
   ],
   "source": [
    "#2Sum Problem\n",
    "#brute force approach\n",
    "def two_sum_problem(arr,target):\n",
    "    for i in range(len(arr)):\n",
    "        for j in range(i+1,len(arr)):\n",
    "            if arr[i]+arr[j]==target:\n",
    "                return [i,j]\n",
    "arr=[3,2,4]\n",
    "target = 6\n",
    "print(two_sum_problem(arr,target))"
   ]
  },
  {
   "cell_type": "code",
   "execution_count": 42,
   "id": "8793d021",
   "metadata": {},
   "outputs": [
    {
     "name": "stdout",
     "output_type": "stream",
     "text": [
      "[0, 1]\n"
     ]
    }
   ],
   "source": [
    "## optimal approach\n",
    "def two_sum(arr,target):\n",
    "    index_map={}\n",
    "    for index,value in enumerate(arr):\n",
    "        dif=target-value\n",
    "        if dif in index_map:\n",
    "            return [index_map[dif],index]\n",
    "        index_map[value]=index\n",
    "    return []\n",
    "arr=[4,2,3]\n",
    "target = 6\n",
    "print(two_sum(arr,target))"
   ]
  },
  {
   "cell_type": "code",
   "execution_count": 54,
   "id": "38d1ed92",
   "metadata": {},
   "outputs": [
    {
     "name": "stdout",
     "output_type": "stream",
     "text": [
      "[0, 0, 1, 1, 2, 2]\n"
     ]
    }
   ],
   "source": [
    "#Sort an array of 0's 1's and 2's\n",
    "#  (One-pass, O(n) time, O(1) space)\n",
    "#  we use the Dutch National Flag Algorithm.\n",
    "def sort(arr):\n",
    "    low=0 #position for next 0\n",
    "    mid=0 #current element\n",
    "    high=len(arr)-1 #position for next 2\n",
    "    while mid<=high:\n",
    "        if arr[mid]==0: \n",
    "            arr[low],arr[mid]=arr[mid],arr[low]\n",
    "            low+=1\n",
    "            mid+=1\n",
    "        elif arr[mid]==1:\n",
    "            mid+=1\n",
    "        else:\n",
    "            arr[mid],arr[high]=arr[high],arr[mid]\n",
    "            high-=1\n",
    "    return arr\n",
    "arr=[2,0,2,1,1,0]\n",
    "print(sort(arr))"
   ]
  },
  {
   "cell_type": "code",
   "execution_count": 9,
   "id": "54a1a6de",
   "metadata": {},
   "outputs": [
    {
     "name": "stdout",
     "output_type": "stream",
     "text": [
      "3\n"
     ]
    }
   ],
   "source": [
    "#using hashmap\n",
    "def majority(arr):\n",
    "    c=0\n",
    "    index_map={}\n",
    "    for i in arr:\n",
    "        if i in index_map:\n",
    "            index_map[i]+=1\n",
    "        else:\n",
    "            index_map[i]=1\n",
    "        if index_map[i]>len(arr)//2:\n",
    "            return i\n",
    "            \n",
    "arr=[3,2,3]\n",
    "print(majority(arr))"
   ]
  },
  {
   "cell_type": "code",
   "execution_count": 58,
   "id": "2ec39bdc",
   "metadata": {},
   "outputs": [
    {
     "name": "stdout",
     "output_type": "stream",
     "text": [
      "3\n"
     ]
    }
   ],
   "source": [
    "##moore-voting algorithm\n",
    "# Majority Element (>n/2 times)\n",
    "def majority_ele(arr):\n",
    "    count=0\n",
    "    candidate=0\n",
    "    for i in arr:\n",
    "        if count==0:\n",
    "            candidate=i\n",
    "        if i==candidate:\n",
    "            count+=1\n",
    "        else:\n",
    "            count-=1\n",
    "    if arr.count(candidate)>len(arr)//2:\n",
    "        return candidate\n",
    "    else:\n",
    "        return -1\n",
    "arr=[3,2,3]\n",
    "print(majority_ele(arr))"
   ]
  },
  {
   "cell_type": "code",
   "execution_count": 1,
   "id": "6a070a28",
   "metadata": {},
   "outputs": [
    {
     "name": "stdout",
     "output_type": "stream",
     "text": [
      "Enter number of elements: 5\n",
      "Enter element 1: -2\n",
      "Enter element 2: 1\n",
      "Enter element 3: 3\n",
      "Enter element 4: -4\n",
      "Enter element 5: 5\n",
      "\n",
      "Original Array: [-2, 1, 3, -4, 5]\n",
      "Maximum Subarray Sum: 5\n",
      "Subarray with Maximum Sum: [1, 3, -4, 5]\n"
     ]
    }
   ],
   "source": [
    "#Print subarray with maximum subarray sum (extended version of above problem)\n",
    "def max_subarray_with_elements(arr):\n",
    "    max_sum = current_sum = arr[0]\n",
    "    start = end = temp_start = 0\n",
    "\n",
    "    for i in range(1, len(arr)):\n",
    "        if current_sum + arr[i] < arr[i]:\n",
    "            current_sum = arr[i]\n",
    "            temp_start = i\n",
    "        else:\n",
    "            current_sum += arr[i]\n",
    "\n",
    "        if current_sum > max_sum:\n",
    "            max_sum = current_sum\n",
    "            start = temp_start\n",
    "            end = i\n",
    "\n",
    "    return max_sum, arr[start:end + 1]\n",
    "\n",
    "if __name__ == \"__main__\":\n",
    "    n = int(input(\"Enter number of elements: \"))\n",
    "    arr = [int(input(f\"Enter element {i+1}: \")) for i in range(n)]\n",
    "\n",
    "    max_sum, subarray = max_subarray_with_elements(arr)\n",
    "\n",
    "    print(f\"\\nOriginal Array: {arr}\")\n",
    "    print(f\"Maximum Subarray Sum: {max_sum}\")\n",
    "    print(f\"Subarray with Maximum Sum: {subarray}\")\n",
    "#  [-2, 1, 3, -4, 5]"
   ]
  },
  {
   "cell_type": "code",
   "execution_count": 13,
   "id": "cdf6af1f",
   "metadata": {},
   "outputs": [
    {
     "name": "stdout",
     "output_type": "stream",
     "text": [
      "5\n"
     ]
    }
   ],
   "source": [
    "#Stock Buy and Sell\n",
    "def stock_buy_sell(price):\n",
    "    n=len(price)\n",
    "    max_profit=0\n",
    "    buy_price=price[0]\n",
    "    for i in range(1,n):\n",
    "        current_profit=price[i]-buy_price\n",
    "        if(current_profit>max_profit):\n",
    "            max_profit=current_profit\n",
    "        if price[i]<buy_price:\n",
    "            buy_price=price[i]\n",
    "    return max_profit\n",
    "            \n",
    "price=[7,1,5,3,6,4]\n",
    "print(stock_buy_sell(price))\n",
    "        "
   ]
  },
  {
   "cell_type": "code",
   "execution_count": 20,
   "id": "40bc6ff5",
   "metadata": {},
   "outputs": [
    {
     "name": "stdout",
     "output_type": "stream",
     "text": [
      "[3, -2, 1, -5, 2, -4]\n"
     ]
    }
   ],
   "source": [
    "#Rearrange the array in alternating positive and negative items\n",
    "# arr are equal\n",
    "def rearrange(arr):\n",
    "    pos_index=0\n",
    "    neg_index=1\n",
    "    res=[0]*len(arr)\n",
    "    for i in range(len(arr)):\n",
    "        if(arr[i]<0):\n",
    "            res[neg_index]=arr[i]\n",
    "            neg_index+=2\n",
    "        else:\n",
    "            res[pos_index]=arr[i]\n",
    "            pos_index+=2\n",
    "    return res\n",
    "            \n",
    "arr=[3,1,-2,-5,2,-4]\n",
    "print(rearrange(arr))"
   ]
  },
  {
   "cell_type": "code",
   "execution_count": 10,
   "id": "e8fbec55",
   "metadata": {},
   "outputs": [
    {
     "name": "stdout",
     "output_type": "stream",
     "text": [
      "[1, -4, 2, -5, 6, -7, 8]\n"
     ]
    }
   ],
   "source": [
    "#*** if arr not equal\n",
    "def rearrange_if_not_equal(arr):\n",
    "    pos=[]\n",
    "    neg=[]\n",
    "    n=len(arr)\n",
    "    for i in range(n):\n",
    "        if arr[i]>0:\n",
    "            pos.append(arr[i])\n",
    "        else:\n",
    "            neg.append(arr[i])\n",
    "    if len(pos)>len(neg):\n",
    "        for i in range(len(neg)):\n",
    "            arr[2*i]=pos[i]\n",
    "            arr[2*i+1]=neg[i]\n",
    "        index=len(neg)*2\n",
    "        for i in range(len(neg),len(pos)):\n",
    "            arr[index]=pos[i]\n",
    "            index+=1\n",
    "    else:\n",
    "        for i in range(len(pos)):\n",
    "            arr[2*i]=pos[i]\n",
    "            arr[2*i+1]=neg[i]\n",
    "        index=len(pos)*2\n",
    "        for i in range(len(pos),len(neg)):\n",
    "            arr[index]=neg[i]\n",
    "            index+=1\n",
    "    return arr\n",
    "arr=[1,2,-4,-5,6,-7,8]\n",
    "print(rearrange_if_not_equal(arr))\n",
    "        \n",
    "    \n",
    "     "
   ]
  },
  {
   "cell_type": "code",
   "execution_count": 26,
   "id": "80f3d17a",
   "metadata": {},
   "outputs": [
    {
     "name": "stdout",
     "output_type": "stream",
     "text": [
      "[17, 5, 2]\n"
     ]
    }
   ],
   "source": [
    "#Leaders in an Array problem\n",
    "def find_leaders(arr):\n",
    "    n=len(arr)\n",
    "    max_from_right=arr[-1]\n",
    "    leaders=[max_from_right]\n",
    "    for i in range(n-2,-1,-1):\n",
    "        if arr[i]>=max_from_right:\n",
    "            max_from_right=arr[i]\n",
    "            leaders.append(arr[i])\n",
    "    return leaders[::-1]\n",
    "arr = [16, 17, 4, 3, 5, 2]\n",
    "print(find_leaders(arr)) "
   ]
  },
  {
   "cell_type": "code",
   "execution_count": 8,
   "id": "62c8c86d",
   "metadata": {},
   "outputs": [
    {
     "name": "stdout",
     "output_type": "stream",
     "text": [
      "4\n"
     ]
    }
   ],
   "source": [
    "#Longest Consecutive Sequence in an Array\n",
    "def longest_consecutive(arr):\n",
    "    arr_set=set(arr)\n",
    "    longest=0\n",
    "    for i in arr:\n",
    "        # Only start counting when num is the beginning of a sequence\n",
    "        if i-1 not in arr_set:\n",
    "            length=1\n",
    "            current=i\n",
    "            while current +1 in arr_set:\n",
    "                current+=1\n",
    "                length+=1\n",
    "            longest=max(longest,length)\n",
    "    return longest\n",
    "arr=[100, 4, 200, 1, 3, 2]\n",
    "print(longest_consecutive(arr))"
   ]
  },
  {
   "cell_type": "code",
   "execution_count": 26,
   "id": "dd383bc7",
   "metadata": {},
   "outputs": [
    {
     "name": "stdout",
     "output_type": "stream",
     "text": [
      "[1, 3, 2]\n"
     ]
    }
   ],
   "source": [
    "# next permutation\n",
    "def next_permutation(arr):\n",
    "    n=len(arr)\n",
    "# Step 1: Find the first decreasing element from the end\n",
    "    i=n-2\n",
    "    while i>=0 and arr[i]>=arr[i+1]:\n",
    "        i-=1\n",
    "# Step 2: If such element found, find the next greater element and swap\n",
    "    if i>=0:\n",
    "        j=n-1\n",
    "        while arr[j]<=arr[i]:\n",
    "            j=j-1\n",
    "        arr[i],arr[j]=arr[j],arr[i]\n",
    "    # Step 3: Reverse the subarray from i+1 to end\n",
    "    arr[i+1:]=reversed(arr[i+1:])\n",
    "    return arr\n",
    "arr=[1,2,3]\n",
    "print(next_permutation(arr))\n",
    "        "
   ]
  },
  {
   "cell_type": "code",
   "execution_count": null,
   "id": "8c8c2ee1",
   "metadata": {},
   "outputs": [],
   "source": [
    "# Pow(x, n)\n",
    "def power(x,n):\n",
    "    res=1\n",
    "    neg=n<0\n",
    "    n=abs(n)\n",
    "    while(n>0):\n",
    "        if(n%2==1):\n",
    "            res=res*x\n",
    "        x=x*x\n",
    "        n//=2\n",
    "    if neg:\n",
    "        return 1/res\n",
    "    else:\n",
    "        return res\n",
    "x = 2.00000\n",
    "n = -2\n",
    "print(power(x,n))"
   ]
  },
  {
   "cell_type": "code",
   "execution_count": 14,
   "id": "8646c18b",
   "metadata": {},
   "outputs": [
    {
     "name": "stdout",
     "output_type": "stream",
     "text": [
      "3\n"
     ]
    }
   ],
   "source": [
    "#Reverse Pairs (Leetcode)\n",
    "def reversePairs(nums):\n",
    "    def merge_sort(start, end):\n",
    "        if start >= end:\n",
    "            return 0\n",
    "        \n",
    "        mid = (start + end) // 2\n",
    "        count = merge_sort(start, mid) + merge_sort(mid + 1, end)\n",
    "\n",
    "        # Count reverse pairs\n",
    "        j = mid + 1\n",
    "        for i in range(start, mid + 1):\n",
    "            while j <= end and nums[i] > 2 * nums[j]:\n",
    "                j += 1\n",
    "            count += j - (mid + 1)\n",
    "        \n",
    "        # Merge the two sorted halves\n",
    "        temp = []\n",
    "        l, r = start, mid + 1\n",
    "        while l <= mid and r <= end:\n",
    "            if nums[l] <= nums[r]:\n",
    "                temp.append(nums[l])\n",
    "                l += 1\n",
    "            else:\n",
    "                temp.append(nums[r])\n",
    "                r += 1\n",
    "        while l <= mid:\n",
    "            temp.append(nums[l])\n",
    "            l += 1\n",
    "        while r <= end:\n",
    "            temp.append(nums[r])\n",
    "            r += 1\n",
    "        nums[start:end+1] = temp\n",
    "        \n",
    "        return count\n",
    "\n",
    "    return merge_sort(0, len(nums) - 1)\n",
    "nums = [2, 4, 3, 5, 1]\n",
    "print(reversePairs(nums))\n",
    "# Output: 3\n",
    "# Explanation: The reverse pairs are (1, 4), (2, 4), (3, 4).\n"
   ]
  },
  {
   "cell_type": "code",
   "execution_count": 12,
   "id": "c87e4323",
   "metadata": {},
   "outputs": [
    {
     "name": "stdout",
     "output_type": "stream",
     "text": [
      "Unique Paths (Memoized): 28\n"
     ]
    }
   ],
   "source": [
    "# Grid Unique Paths \n",
    "def uniquePaths_recursive_memo(m: int, n: int, memo=None) -> int:\n",
    "    if memo is None:\n",
    "        memo = {}\n",
    "\n",
    "    # Check in memo\n",
    "    if (m, n) in memo:\n",
    "        return memo[(m, n)]\n",
    "\n",
    "    # Base case\n",
    "    if m == 1 or n == 1:\n",
    "        return 1\n",
    "\n",
    "    # Save and return the result\n",
    "    memo[(m, n)] = uniquePaths_recursive_memo(m - 1, n, memo) + uniquePaths_recursive_memo(m, n - 1, memo)\n",
    "    return memo[(m, n)]\n",
    "if __name__ == \"__main__\":\n",
    "    m, n = 3, 7\n",
    "    print(\"Unique Paths (Memoized):\", uniquePaths_recursive_memo(m, n))  # Fast and optimized\n"
   ]
  },
  {
   "cell_type": "code",
   "execution_count": 3,
   "id": "7a0a2ff0",
   "metadata": {},
   "outputs": [
    {
     "name": "stdout",
     "output_type": "stream",
     "text": [
      "Enter number of rows: 3\n",
      "Enter number of columns: 3\n",
      "Enter the matrix row by row (space-separated):\n",
      "Row 1: 1 1 1\n",
      "Row 2: 1 0 1\n",
      "Row 3: 1 1 1\n",
      "\n",
      "Original Matrix:\n",
      "[1, 1, 1]\n",
      "[1, 0, 1]\n",
      "[1, 1, 1]\n",
      "\n",
      "Matrix after setZeroes:\n",
      "[1, 0, 1]\n",
      "[0, 0, 0]\n",
      "[1, 0, 1]\n"
     ]
    }
   ],
   "source": [
    "#Set Matrix Zeros\n",
    "def setZeroes(matrix):\n",
    "    rows = len(matrix)\n",
    "    cols = len(matrix[0])\n",
    "\n",
    "    first_row_zero = any(matrix[0][j] == 0 for j in range(cols))\n",
    "    first_col_zero = any(matrix[i][0] == 0 for i in range(rows))\n",
    "\n",
    "    # Use first row and column as markers\n",
    "    for i in range(1, rows):\n",
    "        for j in range(1, cols):\n",
    "            if matrix[i][j] == 0:\n",
    "                matrix[i][0] = 0\n",
    "                matrix[0][j] = 0\n",
    "\n",
    "    # Set zeroes based on markers\n",
    "    for i in range(1, rows):\n",
    "        for j in range(1, cols):\n",
    "            if matrix[i][0] == 0 or matrix[0][j] == 0:\n",
    "                matrix[i][j] = 0\n",
    "\n",
    "    # Update first row if needed\n",
    "    if first_row_zero:\n",
    "        for j in range(cols):\n",
    "            matrix[0][j] = 0\n",
    "\n",
    "    # Update first column if needed\n",
    "    if first_col_zero:\n",
    "        for i in range(rows):\n",
    "            matrix[i][0] = 0\n",
    "\n",
    "# Input section\n",
    "rows = int(input(\"Enter number of rows: \"))\n",
    "cols = int(input(\"Enter number of columns: \"))\n",
    "\n",
    "print(\"Enter the matrix row by row (space-separated):\")\n",
    "matrix = []\n",
    "for i in range(rows):\n",
    "    row = list(map(int, input(f\"Row {i+1}: \").split()))\n",
    "    matrix.append(row)\n",
    "\n",
    "print(\"\\nOriginal Matrix:\")\n",
    "for row in matrix:\n",
    "    print(row)\n",
    "\n",
    "# Apply the function\n",
    "setZeroes(matrix)\n",
    "\n",
    "print(\"\\nMatrix after setZeroes:\")\n",
    "for row in matrix:\n",
    "    print(row)\n"
   ]
  },
  {
   "cell_type": "code",
   "execution_count": 4,
   "id": "f96e8240",
   "metadata": {},
   "outputs": [
    {
     "name": "stdout",
     "output_type": "stream",
     "text": [
      "Enter size of square matrix (n x n): 3\n",
      "Row 1: 1 2 3\n",
      "Row 2: 4 5 6\n",
      "Row 3: 7 8 9\n",
      "\n",
      "Original Matrix:\n",
      "[1, 2, 3]\n",
      "[4, 5, 6]\n",
      "[7, 8, 9]\n",
      "\n",
      "Matrix after 90° rotation:\n",
      "[7, 4, 1]\n",
      "[8, 5, 2]\n",
      "[9, 6, 3]\n"
     ]
    }
   ],
   "source": [
    "#Rotate Matrix by 90 degrees\n",
    "def rotate(matrix):\n",
    "    n=len(matrix)\n",
    "     # Step 1: Transpose the matrix\n",
    "    for i in range(n):\n",
    "        for j in range(i+1,n):\n",
    "            matrix[i][j],matrix[j][i]=matrix[j][i],matrix[i][j]\n",
    "    # Step 2: Reverse each row\n",
    "    for row in matrix:\n",
    "        row.reverse()\n",
    "n = int(input(\"Enter size of square matrix (n x n): \"))\n",
    "matrix = [list(map(int, input(f\"Row {i+1}: \").split())) for i in range(n)]\n",
    "\n",
    "print(\"\\nOriginal Matrix:\")\n",
    "for row in matrix:\n",
    "    print(row)\n",
    "\n",
    "rotate(matrix)\n",
    "\n",
    "print(\"\\nMatrix after 90° rotation:\")\n",
    "for row in matrix:\n",
    "    print(row)\n"
   ]
  },
  {
   "cell_type": "code",
   "execution_count": 5,
   "id": "967954c3",
   "metadata": {},
   "outputs": [
    {
     "name": "stdout",
     "output_type": "stream",
     "text": [
      "Enter number of rows: 3\n",
      "Enter number of columns: 4\n",
      "Row 1: 1 2 3 4\n",
      "Row 2: 5 6 7 8\n",
      "Row 3: 9 10 11 12\n",
      "\n",
      "Matrix:\n",
      "[1, 2, 3, 4]\n",
      "[5, 6, 7, 8]\n",
      "[9, 10, 11, 12]\n",
      "Spiral Order: 1 2 3 4 8 12 11 10 9 5 6 7\n"
     ]
    }
   ],
   "source": [
    "#Print the matrix in spiral manner\n",
    "def spiralPrint(matrix):\n",
    "    if not matrix:\n",
    "        return\n",
    "    top,bottom=0,len(matrix)\n",
    "    left,right=0,len(matrix[0])\n",
    "    result=[]\n",
    "    while top<bottom and left<right:\n",
    "        #print top row\n",
    "        for i in range(left,right):\n",
    "            result.append(matrix[top][i])\n",
    "        top+=1\n",
    "        #print right column\n",
    "        for i in range(top,bottom):\n",
    "            result.append(matrix[i][right-1])\n",
    "        right-=1\n",
    "        if top<bottom:\n",
    "            #print bottom row\n",
    "            for i in range(right-1,left-1,-1):\n",
    "                result.append(matrix[bottom-1][i])\n",
    "            bottom-=1\n",
    "        if left<right:\n",
    "            #print left column\n",
    "            for i in range(bottom-1,top-1,-1):\n",
    "                result.append(matrix[i][left])\n",
    "            left+=1\n",
    "    print(\"Spiral Order:\", *result)\n",
    "rows = int(input(\"Enter number of rows: \"))\n",
    "cols = int(input(\"Enter number of columns: \"))\n",
    "matrix = [list(map(int, input(f\"Row {i+1}: \").split())) for i in range(rows)]\n",
    "\n",
    "print(\"\\nMatrix:\")\n",
    "for row in matrix:\n",
    "    print(row)\n",
    "\n",
    "spiralPrint(matrix)\n"
   ]
  },
  {
   "cell_type": "code",
   "execution_count": 5,
   "id": "fd1cecb5",
   "metadata": {},
   "outputs": [
    {
     "name": "stdout",
     "output_type": "stream",
     "text": [
      "Duplicate number is: 2\n"
     ]
    }
   ],
   "source": [
    "#find Duplicate\n",
    "# Find the duplicate in an array of N+1 integers\n",
    "#  Floyd’s Tortoise and Hare (Cycle Detection)\n",
    "def findDuplicate(nums):\n",
    "    # Phase 1: Find intersection point in the cycle\n",
    "    slow = fast = nums[0]\n",
    "    while True:\n",
    "        slow = nums[slow]\n",
    "        fast = nums[nums[fast]]\n",
    "        if slow == fast:\n",
    "            break\n",
    "\n",
    "    # Phase 2: Find entrance to the cycle (duplicate number)\n",
    "    slow = nums[0]\n",
    "    while slow != fast:\n",
    "        slow = nums[slow]\n",
    "        fast = nums[fast]\n",
    "\n",
    "    return slow\n",
    "\n",
    "# Example usage\n",
    "if __name__ == \"__main__\":\n",
    "    nums = [1,3,4,2,2]\n",
    "    print(\"Duplicate number is:\", findDuplicate(nums))\n"
   ]
  },
  {
   "cell_type": "markdown",
   "id": "75786aa8",
   "metadata": {},
   "source": [
    "# Array hard problem"
   ]
  },
  {
   "cell_type": "code",
   "execution_count": 5,
   "id": "99563984",
   "metadata": {},
   "outputs": [
    {
     "name": "stdout",
     "output_type": "stream",
     "text": [
      "[1]\n",
      "[1, 1]\n",
      "[1, 2, 1]\n",
      "[1, 3, 3, 1]\n",
      "[1, 4, 6, 4, 1]\n"
     ]
    }
   ],
   "source": [
    "# Pascal's Triangle\n",
    "def generate_pascals_triangle(n):\n",
    "    triangle=[]\n",
    "    for row_num in range(n):\n",
    "        row=[1]#Every row starts with 1\n",
    "        if triangle:\n",
    "            last_row=triangle[-1]\n",
    "            #fill the middle element\n",
    "            for i in range(len(last_row)-1):\n",
    "                row.append(last_row[i]+last_row[i+1])\n",
    "            row.append(1)\n",
    "        triangle.append(row)\n",
    "    return triangle\n",
    "n=5\n",
    "triangle=generate_pascals_triangle(n)\n",
    "for row in triangle:\n",
    "    print(row)"
   ]
  },
  {
   "cell_type": "code",
   "execution_count": 42,
   "id": "d98ea849",
   "metadata": {},
   "outputs": [
    {
     "name": "stdout",
     "output_type": "stream",
     "text": [
      "[1, 2]\n"
     ]
    }
   ],
   "source": [
    "# Majority Element (n/3 times)\n",
    "def majority_by_3(arr):\n",
    "    if not arr:\n",
    "        return []\n",
    "    count1=count2=0\n",
    "    candidate1=candidate2=None\n",
    "    for i in arr:\n",
    "        if candidate1==i:\n",
    "            count1+=1\n",
    "        elif candidate2==i:\n",
    "            count2+=1\n",
    "        elif count1==0:\n",
    "            candidate1=i\n",
    "            count1=1\n",
    "        elif count2==0:\n",
    "            candidate2=i\n",
    "            count2=1\n",
    "        else:\n",
    "            count1-=1\n",
    "            count2-=1\n",
    "    result=[]\n",
    "    if arr.count(candidate1)>len(arr)//3:\n",
    "        result.append(candidate1)\n",
    "    if candidate2!=candidate1 and arr.count(candidate2)>len(arr)//3:\n",
    "        result.append(candidate2)\n",
    "    return result\n",
    "arr = [1,1,1,3,3,2,2,2]\n",
    "print(majority_by_3(arr)) "
   ]
  },
  {
   "cell_type": "code",
   "execution_count": 6,
   "id": "3b0a1b9b",
   "metadata": {},
   "outputs": [
    {
     "name": "stdout",
     "output_type": "stream",
     "text": [
      "[[-1, -1, 2], [-1, 0, 1]]\n"
     ]
    }
   ],
   "source": [
    "#3 sum problem\n",
    "def three_sum(nums):\n",
    "    nums.sort()\n",
    "    result = []\n",
    "    n = len(nums)\n",
    "\n",
    "    for i in range(n):\n",
    "        # Skip duplicate elements for the first element\n",
    "        if i > 0 and nums[i] == nums[i - 1]:\n",
    "            continue\n",
    "\n",
    "        left = i + 1\n",
    "        right = n - 1\n",
    "\n",
    "        while left < right:\n",
    "            total = nums[i] + nums[left] + nums[right]\n",
    "\n",
    "            if total == 0:\n",
    "                result.append([nums[i], nums[left], nums[right]])\n",
    "                \n",
    "                # Skip duplicates for second and third elements\n",
    "                while left < right and nums[left] == nums[left + 1]:\n",
    "                    left += 1\n",
    "                while left < right and nums[right] == nums[right - 1]:\n",
    "                    right -= 1\n",
    "\n",
    "                left += 1\n",
    "                right -= 1\n",
    "            elif total < 0:\n",
    "                left += 1\n",
    "            else:\n",
    "                right -= 1\n",
    "\n",
    "    return result\n",
    "nums = [-1, 0, 1, 2, -1, -4]\n",
    "print(three_sum(nums))"
   ]
  },
  {
   "cell_type": "code",
   "execution_count": 27,
   "id": "14c580c1",
   "metadata": {},
   "outputs": [
    {
     "name": "stdout",
     "output_type": "stream",
     "text": [
      "[[-2, -1, 1, 2], [-2, 0, 0, 2], [-1, 0, 0, 1]]\n"
     ]
    }
   ],
   "source": [
    "#4sum problem\n",
    "def four_sum(nums, target):\n",
    "    nums.sort()\n",
    "    n = len(nums)\n",
    "    result = []\n",
    "\n",
    "    for i in range(n):\n",
    "        # Skip duplicates for the first number\n",
    "        if i > 0 and nums[i] == nums[i - 1]:\n",
    "            continue\n",
    "\n",
    "        for j in range(i + 1, n):\n",
    "            # Skip duplicates for the second number\n",
    "            if j > i + 1 and nums[j] == nums[j - 1]:\n",
    "                continue\n",
    "\n",
    "            left = j + 1\n",
    "            right = n - 1\n",
    "\n",
    "            while left < right:\n",
    "                total = nums[i] + nums[j] + nums[left] + nums[right]\n",
    "\n",
    "                if total == target:\n",
    "                    result.append([nums[i], nums[j], nums[left], nums[right]])\n",
    "\n",
    "                    # Skip duplicates for third and fourth numbers\n",
    "                    while left < right and nums[left] == nums[left + 1]:\n",
    "                        left += 1\n",
    "                    while left < right and nums[right] == nums[right - 1]:\n",
    "                        right -= 1\n",
    "\n",
    "                    left += 1\n",
    "                    right -= 1\n",
    "\n",
    "                elif total < target:\n",
    "                    left += 1\n",
    "                else:\n",
    "                    right -= 1\n",
    "\n",
    "    return result\n",
    "nums = [1, 0, -1, 0, -2, 2]\n",
    "target = 0\n",
    "print(four_sum(nums, target))\n"
   ]
  },
  {
   "cell_type": "code",
   "execution_count": 11,
   "id": "0213ceeb",
   "metadata": {},
   "outputs": [
    {
     "name": "stdout",
     "output_type": "stream",
     "text": [
      "([3, -4, 5], 3)\n"
     ]
    }
   ],
   "source": [
    "# Largest Subarray with k Sum\n",
    "def longest_subarray_with_sum_k(arr,k):\n",
    "    curr_sum=0\n",
    "    max_length=0\n",
    "    index_map={}\n",
    "    start_idx=end_idx=-1\n",
    "    for index,value in enumerate(arr):\n",
    "        curr_sum+=value\n",
    "        if curr_sum==k:\n",
    "            max_length=index+1\n",
    "            start_idx=0\n",
    "            end_idx=index\n",
    "        if (curr_sum-k) in index_map:\n",
    "            prev_idx=index_map[curr_sum-k]\n",
    "            if index-prev_idx>max_length:\n",
    "                max_length=index-prev_idx\n",
    "                start_idx=prev_idx+1\n",
    "                end_idx=index\n",
    "        if curr_sum not in index_map:\n",
    "            index_map[curr_sum]=index\n",
    "    if max_length==0:\n",
    "        return []\n",
    "    return arr[start_idx:end_idx+1],max_length\n",
    "arr=[-2, 1, 3, -4, 5]\n",
    "k=4\n",
    "print(longest_subarray_with_sum_k(arr,k))"
   ]
  },
  {
   "cell_type": "code",
   "execution_count": 32,
   "id": "2601e4f5",
   "metadata": {},
   "outputs": [
    {
     "name": "stdout",
     "output_type": "stream",
     "text": [
      "[[1, 6], [8, 18]]\n"
     ]
    }
   ],
   "source": [
    "#Merge Overlapping Subintervals\n",
    "def merge(intervals):\n",
    "    # Step 1: Sort intervals by the start value\n",
    "    intervals.sort(key=lambda x: x[0])\n",
    "\n",
    "    merged = []\n",
    "    for interval in intervals:\n",
    "        # If merged list is empty OR no overlap\n",
    "        if not merged or merged[-1][1] < interval[0]:\n",
    "            merged.append(interval)\n",
    "        else:\n",
    "            # Overlapping intervals, merge them\n",
    "            merged[-1][1] = max(merged[-1][1], interval[1])\n",
    "    \n",
    "    return merged\n",
    "\n",
    "# Example usage\n",
    "intervals = [[1,3],[2,6],[8,16],[15,18]]\n",
    "print(merge(intervals))  # Output: [[1,6],[8,10],[15,18]]\n"
   ]
  },
  {
   "cell_type": "code",
   "execution_count": 33,
   "id": "c0bae5f1",
   "metadata": {},
   "outputs": [
    {
     "name": "stdout",
     "output_type": "stream",
     "text": [
      "[1, 2, 2, 3, 5, 6]\n"
     ]
    }
   ],
   "source": [
    "# Merge two sorted arrays without extra space\n",
    "def merge(nums1, m, nums2, n):\n",
    "    i = m - 1  # Last element in valid nums1\n",
    "    j = n - 1  # Last element in nums2\n",
    "    k = m + n - 1  # Last position in nums1\n",
    "\n",
    "    # Merge in reverse order\n",
    "    while i >= 0 and j >= 0:\n",
    "        if nums1[i] > nums2[j]:\n",
    "            nums1[k] = nums1[i]\n",
    "            i -= 1\n",
    "        else:\n",
    "            nums1[k] = nums2[j]\n",
    "            j -= 1\n",
    "        k -= 1\n",
    "\n",
    "    # If nums2 is still left\n",
    "    while j >= 0:\n",
    "        nums1[k] = nums2[j]\n",
    "        j -= 1\n",
    "        k -= 1\n",
    "\n",
    "# Inputs\n",
    "nums1 = [1,2,3,0,0,0]\n",
    "m = 3\n",
    "nums2 = [2,5,6]\n",
    "n = 3\n",
    "\n",
    "# Call the function\n",
    "merge(nums1, m, nums2, n)\n",
    "\n",
    "# Output the merged array\n",
    "print(nums1)\n"
   ]
  },
  {
   "cell_type": "code",
   "execution_count": 6,
   "id": "8a1e702b",
   "metadata": {},
   "outputs": [
    {
     "name": "stdout",
     "output_type": "stream",
     "text": [
      "Repeating number: 3\n",
      "Missing number: 2\n"
     ]
    }
   ],
   "source": [
    "#Find the repeating and missing number\n",
    "# Repeat and Missing Number\n",
    "def find_missing_and_repeating(arr):\n",
    "    n = len(arr)\n",
    "    # Expected Sum and Expected Sum of Squares\n",
    "    S = (n * (n + 1)) // 2\n",
    "    S2 = (n * (n + 1) * (2 * n + 1)) // 6\n",
    "    \n",
    "    # Actual Sum and Actual Sum of Squares\n",
    "    curr_sum = 0\n",
    "    curr_sum_sq = 0\n",
    "    \n",
    "    for num in arr:\n",
    "        curr_sum += num\n",
    "        curr_sum_sq += num * num\n",
    "    \n",
    "    # Equations:\n",
    "    # Let missing number = M, repeating number = R\n",
    "    # M - R = (Expected Sum - Actual Sum)\n",
    "    # M^2 - R^2 = (Expected Sum of Squares - Actual Sum of Squares)\n",
    "    # => (M+R)(M-R) = (Expected Sum of Squares - Actual Sum of Squares)\n",
    "    \n",
    "    diff = S - curr_sum             # M - R\n",
    "    diff_sq = S2 - curr_sum_sq       # M^2 - R^2\n",
    "    \n",
    "    sum_M_R = diff_sq // diff        # M + R\n",
    "    \n",
    "    # Solving two equations:\n",
    "    missing = (diff + sum_M_R) // 2\n",
    "    repeating = missing - diff\n",
    "    \n",
    "    return (repeating, missing)\n",
    "arr = [3,3,1]\n",
    "repeating, missing = find_missing_and_repeating(arr)\n",
    "print(\"Repeating number:\", repeating)\n",
    "print(\"Missing number:\", missing)"
   ]
  },
  {
   "cell_type": "code",
   "execution_count": 36,
   "id": "5c48fcaf",
   "metadata": {},
   "outputs": [
    {
     "name": "stdout",
     "output_type": "stream",
     "text": [
      "Number of inversions: 8\n"
     ]
    }
   ],
   "source": [
    "#Count_Inversions\n",
    "# Inversion of Array (Pre-req: Merge Sort)\n",
    "def merge_count_split_inv(arr, temp_arr, left, right):\n",
    "    if left == right:\n",
    "        return 0\n",
    "    mid = (left + right) // 2\n",
    "    inv_count = merge_count_split_inv(arr, temp_arr, left, mid)\n",
    "    inv_count += merge_count_split_inv(arr, temp_arr, mid + 1, right)\n",
    "    inv_count += merge_and_count(arr, temp_arr, left, mid, right)\n",
    "    return inv_count\n",
    "\n",
    "def merge_and_count(arr, temp_arr, left, mid, right):\n",
    "    i = left    # Starting index for left subarray\n",
    "    j = mid + 1 # Starting index for right subarray\n",
    "    k = left    # Starting index to be sorted\n",
    "    inv_count = 0\n",
    "    \n",
    "    # Merge the two subarrays while counting inversions\n",
    "    while i <= mid and j <= right:\n",
    "        if arr[i] <= arr[j]:\n",
    "            temp_arr[k] = arr[i]\n",
    "            i += 1\n",
    "        else:\n",
    "            temp_arr[k] = arr[j]\n",
    "            inv_count += (mid-i + 1)  # All the elements left in the left subarray are greater than arr[j]\n",
    "            j += 1\n",
    "        k += 1\n",
    "    \n",
    "    # Copy the remaining elements of left subarray, if any\n",
    "    while i <= mid:\n",
    "        temp_arr[k] = arr[i]\n",
    "        i += 1\n",
    "        k += 1\n",
    "    \n",
    "    # Copy the remaining elements of right subarray, if any\n",
    "    while j <= right:\n",
    "        temp_arr[k] = arr[j]\n",
    "        j += 1\n",
    "        k += 1\n",
    "    \n",
    "    # Copy the sorted subarray into the original array\n",
    "    for i in range(left, right + 1):\n",
    "        arr[i] = temp_arr[i]\n",
    "        \n",
    "    return inv_count\n",
    "\n",
    "def Count_Inversions(arr):\n",
    "    n = len(arr)\n",
    "    temp_arr = [0] * n\n",
    "    return merge_count_split_inv(arr, temp_arr, 0, n - 1)\n",
    "\n",
    "arr = [5, 3, 2, 4, 1]\n",
    "print(\"Number of inversions:\", Count_Inversions(arr))\n"
   ]
  },
  {
   "cell_type": "code",
   "execution_count": 13,
   "id": "17970ad7",
   "metadata": {},
   "outputs": [
    {
     "name": "stdout",
     "output_type": "stream",
     "text": [
      "Number of reverse pairs: 2\n"
     ]
    }
   ],
   "source": [
    "#reverse pair\n",
    "def merge_and_count(arr, temp_arr, left, mid, right):\n",
    "    i = left  # Starting index for left subarray\n",
    "    j = mid + 1  # Starting index for right subarray\n",
    "    k = left  # Starting index to be sorted\n",
    "    count = 0\n",
    "    \n",
    "    # Count reverse pairs while merging\n",
    "    while i <= mid:\n",
    "        while j <= right and arr[i] > 2 * arr[j]:\n",
    "            j += 1\n",
    "        count += (j - mid - 1)\n",
    "        i += 1\n",
    "    \n",
    "    # Now perform the actual merge (same as in merge sort)\n",
    "    i = left\n",
    "    j = mid + 1\n",
    "    while i <= mid and j <= right:\n",
    "        if arr[i] <= arr[j]:\n",
    "            temp_arr[k] = arr[i]\n",
    "            i += 1\n",
    "        else:\n",
    "            temp_arr[k] = arr[j]\n",
    "            j += 1\n",
    "        k += 1\n",
    "    \n",
    "    # Copy the remaining elements of left subarray\n",
    "    while i <= mid:\n",
    "        temp_arr[k] = arr[i]\n",
    "        i += 1\n",
    "        k += 1\n",
    "    \n",
    "    # Copy the remaining elements of right subarray\n",
    "    while j <= right:\n",
    "        temp_arr[k] = arr[j]\n",
    "        j += 1\n",
    "        k += 1\n",
    "    \n",
    "    # Copy the sorted subarray into the original array\n",
    "    for i in range(left, right + 1):\n",
    "        arr[i] = temp_arr[i]\n",
    "    \n",
    "    return count\n",
    "\n",
    "def merge_count_reverse_pairs(arr, temp_arr, left, right):\n",
    "    count = 0\n",
    "    if left < right:\n",
    "        mid = (left + right) // 2\n",
    "        \n",
    "        count += merge_count_reverse_pairs(arr, temp_arr, left, mid)\n",
    "        count += merge_count_reverse_pairs(arr, temp_arr, mid + 1, right)\n",
    "        count += merge_and_count(arr, temp_arr, left, mid, right)\n",
    "    \n",
    "    return count\n",
    "\n",
    "def count_reverse_pairs(arr):\n",
    "    temp_arr = [0] * len(arr)\n",
    "    return merge_count_reverse_pairs(arr, temp_arr, 0, len(arr) - 1)\n",
    "\n",
    "# Example array\n",
    "arr = [1, 3, 2, 3, 1]\n",
    "print(\"Number of reverse pairs:\", count_reverse_pairs(arr))\n"
   ]
  },
  {
   "cell_type": "code",
   "execution_count": 10,
   "id": "861b7195",
   "metadata": {},
   "outputs": [
    {
     "name": "stdout",
     "output_type": "stream",
     "text": [
      "4\n"
     ]
    }
   ],
   "source": [
    "#Count number of subarrays with given xor K\n",
    "def count_subarrays_with_xor(arr, K):\n",
    "    freq = {}\n",
    "    count = 0\n",
    "    xor_sum = 0\n",
    "    for num in arr:\n",
    "        xor_sum ^= num\n",
    "        if xor_sum == K:\n",
    "            count += 1\n",
    "        count += freq.get(xor_sum ^ K, 0)\n",
    "        freq[xor_sum] = freq.get(xor_sum, 0) + 1\n",
    "    return count\n",
    "arr = [4, 2, 2, 6, 4]\n",
    "K = 6\n",
    "print(count_subarrays_with_xor(arr, K))  # Output: 4\n"
   ]
  },
  {
   "cell_type": "code",
   "execution_count": 7,
   "id": "b3691c10",
   "metadata": {},
   "outputs": [
    {
     "name": "stdout",
     "output_type": "stream",
     "text": [
      "3\n",
      "1\n",
      "3\n"
     ]
    }
   ],
   "source": [
    "#Longest Substring Without Repeating Characters\n",
    "def length_of_longest_substring(s):\n",
    "    # Map to store last seen index of characters (ASCII size: 256)\n",
    "    mpp = [-1] * 256\n",
    "\n",
    "    left = 0\n",
    "    max_len = 0\n",
    "\n",
    "    for right in range(len(s)):\n",
    "        ascii_val = ord(s[right])  # Convert character to ASCII index\n",
    "\n",
    "        if mpp[ascii_val] != -1:\n",
    "            # Move left only if it's behind the last occurrence\n",
    "            left = max(mpp[ascii_val] + 1, left)\n",
    "\n",
    "        # Update last seen index of character\n",
    "        mpp[ascii_val] = right\n",
    "\n",
    "        # Update max length of the substring\n",
    "        max_len = max(max_len, right - left + 1)\n",
    "\n",
    "    return max_len\n",
    "print(length_of_longest_substring(\"abcabcbb\"))  # Output: 3\n",
    "print(length_of_longest_substring(\"bbbbb\"))     # Output: 1\n",
    "print(length_of_longest_substring(\"pwwkew\"))    # Output: 3"
   ]
  },
  {
   "cell_type": "code",
   "execution_count": 25,
   "id": "7dafa4de",
   "metadata": {
    "scrolled": true
   },
   "outputs": [
    {
     "name": "stdout",
     "output_type": "stream",
     "text": [
      "Enter number of elements: 3\n",
      "Enter element 1: -2\n",
      "Enter element 2: 0\n",
      "Enter element 3: -1\n",
      "\n",
      "Original Array: [-2, 0, -1]\n",
      "Maximum Product of Subarray: 0\n"
     ]
    }
   ],
   "source": [
    "def maxProduct(nums):\n",
    "    if not nums:\n",
    "        return 0\n",
    "\n",
    "    curr_max = curr_min = max_product = nums[0]\n",
    "\n",
    "    for i in range(1, len(nums)):\n",
    "        num = nums[i]\n",
    "\n",
    "        if num < 0:\n",
    "            curr_max, curr_min = curr_min, curr_max  # swap when negative\n",
    "\n",
    "        curr_max = max(num, curr_max * num)\n",
    "        curr_min = min(num, curr_min * num)\n",
    "\n",
    "        max_product = max(max_product, curr_max)\n",
    "\n",
    "    return max_product\n",
    "\n",
    "if __name__ == \"__main__\":\n",
    "    n = int(input(\"Enter number of elements: \"))\n",
    "    nums = []\n",
    "    for i in range(n):\n",
    "        nums.append(int(input(f\"Enter element {i+1}: \")))\n",
    "\n",
    "    result = maxProduct(nums)\n",
    "    print(f\"\\nOriginal Array: {nums}\")\n",
    "    print(f\"Maximum Product of Subarray: {result}\")\n"
   ]
  },
  {
   "cell_type": "code",
   "execution_count": 1,
   "id": "0b68f05b",
   "metadata": {},
   "outputs": [
    {
     "name": "stdout",
     "output_type": "stream",
     "text": [
      "Element is present at index 3\n"
     ]
    }
   ],
   "source": [
    "#binary_search(1D array)\n",
    "def binary_search(arr, x):\n",
    "    low = 0\n",
    "    high = len(arr) - 1\n",
    "    \n",
    "    while low <= high:\n",
    "        mid = low + (high - low) // 2\n",
    "        \n",
    "        # Check if x is present at mid\n",
    "        if arr[mid] == x:\n",
    "            return mid\n",
    "        \n",
    "        # If x greater, ignore left half\n",
    "        elif arr[mid] < x:\n",
    "            low = mid + 1\n",
    "        \n",
    "        # If x is smaller, ignore right half\n",
    "        else:\n",
    "            high = mid - 1\n",
    "    \n",
    "    # Element is not present\n",
    "    return -1\n",
    "\n",
    "# Example usage\n",
    "arr = [2, 3, 4, 10, 40]\n",
    "x = 10\n",
    "\n",
    "result = binary_search(arr, x)\n",
    "\n",
    "if result != -1:\n",
    "    print(f\"Element is present at index {result}\")\n",
    "else:\n",
    "    print(\"Element is not present in array\")\n"
   ]
  },
  {
   "cell_type": "code",
   "execution_count": 2,
   "id": "b448ac15",
   "metadata": {},
   "outputs": [
    {
     "name": "stdout",
     "output_type": "stream",
     "text": [
      "Element is present at index 3\n"
     ]
    }
   ],
   "source": [
    "def binary_search_recursive(arr, low, high, x):\n",
    "    if low > high:\n",
    "        return -1  # Base case: not found\n",
    "\n",
    "    mid = low + (high - low) // 2\n",
    "\n",
    "    # If element is present at the middle\n",
    "    if arr[mid] == x:\n",
    "        return mid\n",
    "\n",
    "    # If element is smaller than mid, it must be in left subarray\n",
    "    elif arr[mid] > x:\n",
    "        return binary_search_recursive(arr, low, mid - 1, x)\n",
    "\n",
    "    # Else the element can only be present in right subarray\n",
    "    else:\n",
    "        return binary_search_recursive(arr, mid + 1, high, x)\n",
    "\n",
    "# Example usage\n",
    "arr = [2, 3, 4, 10, 40]\n",
    "x = 10\n",
    "\n",
    "result = binary_search_recursive(arr, 0, len(arr) - 1, x)\n",
    "\n",
    "if result != -1:\n",
    "    print(f\"Element is present at index {result}\")\n",
    "else:\n",
    "    print(\"Element is not present in array\")\n"
   ]
  },
  {
   "cell_type": "code",
   "execution_count": 25,
   "id": "2f40bcbf",
   "metadata": {},
   "outputs": [
    {
     "name": "stdout",
     "output_type": "stream",
     "text": [
      "Lower bound of 25 is at index 2 (value = 30)\n"
     ]
    }
   ],
   "source": [
    "#lower bound\n",
    "def lower_bound(arr, x):\n",
    "    low = 0\n",
    "    high = len(arr) - 1\n",
    "    ans = len(arr)  # Default: not found\n",
    "\n",
    "    while low <= high:\n",
    "        mid = low + (high - low) // 2\n",
    "        \n",
    "        if arr[mid] >= x:\n",
    "            ans = mid\n",
    "            high = mid - 1\n",
    "        else:\n",
    "            low = mid + 1\n",
    "\n",
    "    return ans\n",
    "\n",
    "# Example usage\n",
    "arr = [10,20,30,40,50]\n",
    "x = 25\n",
    "\n",
    "result = lower_bound(arr, x)\n",
    "\n",
    "if result != len(arr):\n",
    "    print(f\"Lower bound of {x} is at index {result} (value = {arr[result]})\")\n",
    "else:\n",
    "    print(f\"Lower bound of {x} is beyond array (index = {result})\")\n"
   ]
  },
  {
   "cell_type": "code",
   "execution_count": 21,
   "id": "edf2cadf",
   "metadata": {},
   "outputs": [
    {
     "name": "stdout",
     "output_type": "stream",
     "text": [
      "upper bound of 30 is at index 3 (value = 40)\n"
     ]
    }
   ],
   "source": [
    "#upper bound\n",
    "def upper_bound(arr, x):\n",
    "    low = 0\n",
    "    high = len(arr) - 1\n",
    "    ans = len(arr)  # Default: not found\n",
    "\n",
    "    while low <= high:\n",
    "        mid = low + (high - low) // 2\n",
    "        \n",
    "        if arr[mid] > x:\n",
    "            ans = mid\n",
    "            high = mid - 1\n",
    "        else:\n",
    "            low = mid + 1\n",
    "\n",
    "    return ans\n",
    "\n",
    "# Example usage\n",
    "arr = [10,20,30,40,50]\n",
    "x = 30\n",
    "\n",
    "result = upper_bound(arr, x)\n",
    "\n",
    "if result != len(arr):\n",
    "    print(f\"upper bound of {x} is at index {result} (value = {arr[result]})\")\n",
    "else:\n",
    "    print(f\"upper bound of {x} is beyond array (index = {result})\")\n"
   ]
  },
  {
   "cell_type": "code",
   "execution_count": 23,
   "id": "00649db6",
   "metadata": {},
   "outputs": [
    {
     "name": "stdout",
     "output_type": "stream",
     "text": [
      "search insert of 26 is at index 3 (value = 40)\n"
     ]
    }
   ],
   "source": [
    "#Search Insert Position\n",
    "def search_insert(arr, x):\n",
    "    low = 0\n",
    "    high = len(arr) - 1\n",
    "    ans = len(arr)  # Default: not found\n",
    "\n",
    "    while low <= high:\n",
    "        mid = low + (high - low) // 2\n",
    "        \n",
    "        if arr[mid] >= x:\n",
    "            ans = mid\n",
    "            high = mid - 1\n",
    "        else:\n",
    "            low = mid + 1\n",
    "\n",
    "    return ans\n",
    "\n",
    "# Example usage\n",
    "arr = [10,20,25,40,50]\n",
    "x = 26\n",
    "\n",
    "result = search_insert(arr, x)\n",
    "\n",
    "if result != len(arr):\n",
    "    print(f\"search insert of {x} is at index {result} (value = {arr[result]})\")\n",
    "else:\n",
    "    print(f\"search insert of {x} is beyond array (index = {result})\")\n"
   ]
  },
  {
   "cell_type": "code",
   "execution_count": 2,
   "id": "08e19829",
   "metadata": {},
   "outputs": [
    {
     "name": "stdout",
     "output_type": "stream",
     "text": [
      "Floor of 25 is 20\n",
      "Ceil of 25 is 30\n"
     ]
    }
   ],
   "source": [
    "#Floor/Ceil in Sorted Array\n",
    "def find_floor(arr, x):\n",
    "    low = 0\n",
    "    high = len(arr) - 1\n",
    "    floor_val = -1  # Use -1 to indicate \"no floor\" found\n",
    "\n",
    "    while low <= high:\n",
    "        mid = low + (high - low) // 2\n",
    "        \n",
    "        if arr[mid] == x:\n",
    "            return arr[mid]  # Exact match\n",
    "        elif arr[mid] < x:\n",
    "            floor_val = arr[mid]\n",
    "            low = mid + 1\n",
    "        else:\n",
    "            high = mid - 1\n",
    "\n",
    "    return floor_val\n",
    "\n",
    "\n",
    "def find_ceil(arr, x):\n",
    "    low = 0\n",
    "    high = len(arr) - 1\n",
    "    ceil_val = -1  # Use -1 to indicate \"no ceil\" found\n",
    "\n",
    "    while low <= high:\n",
    "        mid = low + (high - low) // 2\n",
    "        \n",
    "        if arr[mid] == x:\n",
    "            return arr[mid]  # Exact match\n",
    "        elif arr[mid] > x:\n",
    "            ceil_val = arr[mid]\n",
    "            high = mid - 1\n",
    "        else:\n",
    "            low = mid + 1\n",
    "\n",
    "    return ceil_val\n",
    "\n",
    "# Example usage\n",
    "arr = [10, 20, 30, 40, 50]\n",
    "x = 25\n",
    "\n",
    "floor_result = find_floor(arr, x)\n",
    "ceil_result = find_ceil(arr, x)\n",
    "\n",
    "print(f\"Floor of {x} is {floor_result}\")\n",
    "print(f\"Ceil of {x} is {ceil_result}\")\n"
   ]
  },
  {
   "cell_type": "code",
   "execution_count": 4,
   "id": "3ae16288",
   "metadata": {},
   "outputs": [
    {
     "name": "stdout",
     "output_type": "stream",
     "text": [
      "First and last occurrence of 5 : (-1, -1)\n"
     ]
    }
   ],
   "source": [
    "#Find the first or last occurrence of a given number in a sorted array\n",
    "def find_first_and_last(arr, x):\n",
    "    n = len(arr)\n",
    "    first = -1\n",
    "    last = -1\n",
    "\n",
    "    # Find first occurrence\n",
    "    low, high = 0, n - 1\n",
    "    while low <= high:\n",
    "        mid = low + (high - low) // 2\n",
    "        if arr[mid] == x:\n",
    "            first = mid\n",
    "            high = mid - 1  # keep searching left\n",
    "        elif arr[mid] < x:\n",
    "            low = mid + 1\n",
    "        else:\n",
    "            high = mid - 1\n",
    "\n",
    "    # Find last occurrence\n",
    "    low, high = 0, n - 1\n",
    "    while low <= high:\n",
    "        mid = low + (high - low) // 2\n",
    "        if arr[mid] == x:\n",
    "            last = mid\n",
    "            low = mid + 1  # keep searching right\n",
    "        elif arr[mid] < x:\n",
    "            low = mid + 1\n",
    "        else:\n",
    "            high = mid - 1\n",
    "\n",
    "    return (first, last)\n",
    "arr = [2, 4, 4, 4, 6, 8, 10]\n",
    "x = 5\n",
    "\n",
    "result = find_first_and_last(arr, x)\n",
    "print(\"First and last occurrence of\", x, \":\", result)\n"
   ]
  },
  {
   "cell_type": "code",
   "execution_count": 42,
   "id": "f2c6ac53",
   "metadata": {},
   "outputs": [
    {
     "name": "stdout",
     "output_type": "stream",
     "text": [
      "First and last occurrence of 6 : 1\n"
     ]
    }
   ],
   "source": [
    "#Count occurrences of a number in a sorted array with duplicates\n",
    "def count_occurence(arr, x):\n",
    "    n = len(arr)\n",
    "    first = -1\n",
    "    last = -1\n",
    "    # Find first occurrence\n",
    "    low, high = 0, n - 1\n",
    "    while low <= high:\n",
    "        mid = low + (high - low) // 2\n",
    "        if arr[mid] == x:\n",
    "            first = mid\n",
    "            high = mid - 1  # keep searching left\n",
    "        elif arr[mid] < x:\n",
    "            low = mid + 1\n",
    "        else:\n",
    "            high = mid - 1\n",
    "\n",
    "    # Find last occurrence\n",
    "    low, high = 0, n - 1\n",
    "    while low <= high:\n",
    "        mid = low + (high - low) // 2\n",
    "        if arr[mid] == x:\n",
    "            last = mid\n",
    "            low = mid + 1  # keep searching right\n",
    "        elif arr[mid] < x:\n",
    "            low = mid + 1\n",
    "        else:\n",
    "            high = mid - 1\n",
    "\n",
    "    if first == -1 or last == -1:\n",
    "        return 0  # x not found\n",
    "    else:\n",
    "        return (last - first + 1)\n",
    "arr = [2, 4, 4, 4, 6, 8, 10,10]\n",
    "x = 6\n",
    "\n",
    "result = count_occurence(arr, x)\n",
    "print(\"First and last occurrence of\", x, \":\", result)\n"
   ]
  },
  {
   "cell_type": "code",
   "execution_count": 3,
   "id": "7cbf4e43",
   "metadata": {},
   "outputs": [
    {
     "name": "stdout",
     "output_type": "stream",
     "text": [
      "4\n"
     ]
    }
   ],
   "source": [
    "# Search Element in Rotated Sorted Array - I\n",
    "def search(nums, target):\n",
    "    left, right = 0, len(nums) - 1\n",
    "\n",
    "    while left <= right:\n",
    "        mid = (left + right) // 2\n",
    "\n",
    "        if nums[mid] == target:\n",
    "            return mid\n",
    "\n",
    "        # Left half is sorted\n",
    "        if nums[left] <= nums[mid]:\n",
    "            if nums[left] <= target < nums[mid]:\n",
    "                right = mid - 1\n",
    "            else:\n",
    "                left = mid + 1\n",
    "        # Right half is sorted\n",
    "        else:\n",
    "            if nums[mid] < target <= nums[right]:\n",
    "                left = mid + 1\n",
    "            else:\n",
    "                right = mid - 1\n",
    "\n",
    "    return -1\n",
    "nums = [4,5,6,7,0,1,2]\n",
    "target = 0\n",
    "print(search(nums, target))  # Output: 4\n"
   ]
  },
  {
   "cell_type": "code",
   "execution_count": 6,
   "id": "acceec7f",
   "metadata": {},
   "outputs": [
    {
     "name": "stdout",
     "output_type": "stream",
     "text": [
      "True\n",
      "False\n"
     ]
    }
   ],
   "source": [
    "#Search in Rotated Sorted Array(if duplicate)\n",
    "def search(nums, target):\n",
    "    left, right = 0, len(nums) - 1\n",
    "\n",
    "    while left <= right:\n",
    "        mid = (left + right) // 2\n",
    "\n",
    "        if nums[mid] == target:\n",
    "#             return mid\n",
    "            return True\n",
    "\n",
    "        # If duplicates, we skip them\n",
    "        if nums[left] == nums[mid] == nums[right]:\n",
    "            left += 1\n",
    "            right -= 1\n",
    "        # Left half is sorted\n",
    "        elif nums[left] <= nums[mid]:\n",
    "            if nums[left] <= target < nums[mid]:\n",
    "                right = mid - 1\n",
    "            else:\n",
    "                left = mid + 1\n",
    "        # Right half is sorted\n",
    "        else:\n",
    "            if nums[mid] < target <= nums[right]:\n",
    "                left = mid + 1\n",
    "            else:\n",
    "                right = mid - 1\n",
    "\n",
    "    return False\n",
    "nums = [4,5,6,7,0,1,2]\n",
    "target = 0\n",
    "print(search(nums, target))  # Output: True\n",
    "\n",
    "target = 3\n",
    "print(search(nums, target))  # Output: False\n"
   ]
  },
  {
   "cell_type": "code",
   "execution_count": 8,
   "id": "f7033a5a",
   "metadata": {},
   "outputs": [
    {
     "name": "stdout",
     "output_type": "stream",
     "text": [
      "Enter the rotated sorted array (space-separated): 5\n",
      "Minimum element in the rotated sorted array is: 5\n"
     ]
    }
   ],
   "source": [
    "#Find minimum in Rotated Sorted Array\n",
    "def findMin(nums):\n",
    "    left, right = 0, len(nums) - 1\n",
    "\n",
    "    while left < right:\n",
    "        mid = (left + right) // 2\n",
    "\n",
    "        if nums[mid] > nums[right]:\n",
    "            left = mid + 1\n",
    "        else:\n",
    "            right = mid\n",
    "\n",
    "    return nums[left]\n",
    "\n",
    "# Take input from the user\n",
    "input_str = input(\"Enter the rotated sorted array (space-separated): \")\n",
    "nums = list(map(int, input_str.strip().split()))\n",
    "\n",
    "#  Call the function and print the result\n",
    "minimum = findMin(nums)\n",
    "print(\"Minimum element in the rotated sorted array is:\", minimum)\n"
   ]
  },
  {
   "cell_type": "code",
   "execution_count": 43,
   "id": "e4864c99",
   "metadata": {},
   "outputs": [
    {
     "name": "stdout",
     "output_type": "stream",
     "text": [
      "Array is rotated 4 times.\n"
     ]
    }
   ],
   "source": [
    "#Find out how many times has an array been rotated\n",
    "def countRotations(nums):\n",
    "    left, right = 0, len(nums) - 1\n",
    "\n",
    "    while left <= right:\n",
    "        # Case when the subarray is already sorted\n",
    "        if nums[left] <= nums[right]:\n",
    "            return left  # minimum is at the start of this subarray\n",
    "\n",
    "        mid = (left + right) // 2\n",
    "        next_idx = (mid + 1) % len(nums)\n",
    "        prev_idx = (mid - 1 + len(nums)) % len(nums)\n",
    "\n",
    "        # Check if mid is the minimum\n",
    "        if nums[mid] <= nums[next_idx] and nums[mid] <= nums[prev_idx]:\n",
    "            return mid\n",
    "\n",
    "        # Decide which half to choose\n",
    "        if nums[mid] >= nums[left]:\n",
    "            left = mid + 1\n",
    "        else:\n",
    "            right = mid - 1\n",
    "\n",
    "    return 0  # fallback (shouldn't happen if array is rotated sorted)\n",
    "arr = [4, 5, 6, 7, 0, 1, 2]\n",
    "print(\"Array is rotated\", countRotations(arr), \"times.\")\n",
    "# Output: Array is rotated 4 times."
   ]
  },
  {
   "cell_type": "code",
   "execution_count": 31,
   "id": "24e0c17a",
   "metadata": {},
   "outputs": [
    {
     "name": "stdout",
     "output_type": "stream",
     "text": [
      "2\n"
     ]
    }
   ],
   "source": [
    "#Single element in a Sorted Array\n",
    "arr=[1,1,2,3,3]\n",
    "for i in range(len(arr)):\n",
    "    c=0\n",
    "    for j in range(len(arr)):\n",
    "        if arr[i]==arr[j]:\n",
    "            c+=1\n",
    "    if c==1:\n",
    "        print(arr[i])\n",
    "        "
   ]
  },
  {
   "cell_type": "code",
   "execution_count": 35,
   "id": "53f5bb48",
   "metadata": {},
   "outputs": [
    {
     "name": "stdout",
     "output_type": "stream",
     "text": [
      "2\n"
     ]
    }
   ],
   "source": [
    "def singleNonDuplicate(nums):\n",
    "    left, right = 0, len(nums) - 1\n",
    "\n",
    "    while left < right:\n",
    "        mid = (left + right) // 2\n",
    "        # Ensure mid is even for comparison with mid+1\n",
    "        if mid % 2 == 1:\n",
    "            mid -= 1\n",
    "\n",
    "        if nums[mid] == nums[mid + 1]:\n",
    "            left = mid + 2\n",
    "        else:\n",
    "            right = mid\n",
    "\n",
    "    return nums[left]\n",
    "nums=[1,1,2,3,3,4,4,5,5]\n",
    "print(singleNonDuplicate(nums))"
   ]
  },
  {
   "cell_type": "code",
   "execution_count": 39,
   "id": "f9e4efdc",
   "metadata": {},
   "outputs": [
    {
     "name": "stdout",
     "output_type": "stream",
     "text": [
      "peak element value:  3\n"
     ]
    }
   ],
   "source": [
    "#Find peak element\n",
    "def findPeakElement(nums):\n",
    "    left, right = 0, len(nums) - 1\n",
    "\n",
    "    while left < right:\n",
    "        mid = (left + right) // 2\n",
    "        \n",
    "        if nums[mid] > nums[mid + 1]:\n",
    "            # Peak is in the left half (including mid)\n",
    "            right = mid\n",
    "        else:\n",
    "            # Peak is in the right half\n",
    "            left = mid + 1\n",
    "\n",
    "    return nums[left ] # or right (they are equal)\n",
    "nums = [1, 2, 3, 1]\n",
    "print(\"peak element value: \",findPeakElement(nums))"
   ]
  },
  {
   "cell_type": "markdown",
   "id": "40ae1201",
   "metadata": {},
   "source": [
    "# BS medium"
   ]
  },
  {
   "cell_type": "code",
   "execution_count": 6,
   "id": "b66779a1",
   "metadata": {},
   "outputs": [
    {
     "name": "stdout",
     "output_type": "stream",
     "text": [
      "5\n"
     ]
    }
   ],
   "source": [
    "#Find square root of a number in log n\n",
    "def integer_sqrt(n):\n",
    "    if n < 0:\n",
    "        raise ValueError(\"Negative input not allowed\")\n",
    "\n",
    "    if n == 0 or n == 1:\n",
    "        return n\n",
    "\n",
    "    low, high = 0, n\n",
    "    ans = 0\n",
    "\n",
    "    while low <= high:\n",
    "        mid = (low + high) // 2\n",
    "        if mid * mid == n:\n",
    "            return mid\n",
    "        elif mid * mid < n:\n",
    "            ans = mid\n",
    "            low = mid + 1\n",
    "        else:\n",
    "            high = mid - 1\n",
    "\n",
    "    return ans\n",
    "\n",
    "# Example\n",
    "print(integer_sqrt(28))\n"
   ]
  },
  {
   "cell_type": "code",
   "execution_count": 2,
   "id": "81613dc0",
   "metadata": {},
   "outputs": [
    {
     "name": "stdout",
     "output_type": "stream",
     "text": [
      "3\n"
     ]
    }
   ],
   "source": [
    "# The N-th root of an integer\n",
    "#Find the Nth root of a number using binary search\n",
    "def power(x, n):\n",
    "    \"\"\"Computes x^n using binary exponentiation.\"\"\"\n",
    "    result = 1\n",
    "    while n > 0:\n",
    "        if n % 2 == 1:\n",
    "            result *= x\n",
    "        x *= x\n",
    "        n //= 2\n",
    "    return result\n",
    "\n",
    "def nth_root_integer(m, n):\n",
    "    if m == 0 or m == 1:\n",
    "        return m\n",
    "\n",
    "    low = 1\n",
    "    high = m\n",
    "    ans = 0\n",
    "\n",
    "    while low <= high:\n",
    "        mid = (low + high) // 2\n",
    "        mid_pow = power(mid, n)\n",
    "\n",
    "        if mid_pow == m:\n",
    "            return mid\n",
    "        elif mid_pow < m:\n",
    "            ans = mid  # possible answer\n",
    "            low = mid + 1\n",
    "        else:\n",
    "            high = mid - 1\n",
    "\n",
    "    return ans\n",
    "\n",
    "# Examples:\n",
    "print(nth_root_integer(27, 3))   # Output: 3"
   ]
  },
  {
   "cell_type": "code",
   "execution_count": 9,
   "id": "9e45ff06",
   "metadata": {},
   "outputs": [
    {
     "name": "stdout",
     "output_type": "stream",
     "text": [
      "4\n"
     ]
    }
   ],
   "source": [
    "#Koko Eating Bananas\n",
    "import math\n",
    "\n",
    "def min_eating_speed(piles, h):\n",
    "    low = 1\n",
    "    high = max(piles)\n",
    "    result = high\n",
    "\n",
    "    while low <= high:\n",
    "        mid = (low + high) // 2\n",
    "        hours = sum(math.ceil(p / mid) for p in piles)\n",
    "\n",
    "        if hours <= h:\n",
    "            result = mid\n",
    "            high = mid - 1\n",
    "        else:\n",
    "            low = mid + 1\n",
    "\n",
    "    return result\n",
    "\n",
    "# Example usage:\n",
    "piles = [3, 6, 7, 11]\n",
    "h = 8\n",
    "print(min_eating_speed(piles, h))  # Output: 4\n"
   ]
  },
  {
   "cell_type": "code",
   "execution_count": 13,
   "id": "f000921d",
   "metadata": {},
   "outputs": [
    {
     "name": "stdout",
     "output_type": "stream",
     "text": [
      "3\n"
     ]
    }
   ],
   "source": [
    "#Minimum days to make M bouquets\n",
    "def minDays(bloomDay, m, k):\n",
    "    if m * k > len(bloomDay):\n",
    "        return -1  # Not enough flowers to ever make m bouquets\n",
    "\n",
    "    def canMake(day):\n",
    "        bouquets = 0\n",
    "        flowers = 0\n",
    "\n",
    "        for bloom in bloomDay:\n",
    "            if bloom <= day:\n",
    "                flowers += 1\n",
    "                if flowers == k:\n",
    "                    bouquets += 1\n",
    "                    flowers = 0\n",
    "            else:\n",
    "                flowers = 0  # reset if not bloomed\n",
    "        return bouquets >= m\n",
    "\n",
    "    low = min(bloomDay)\n",
    "    high = max(bloomDay)\n",
    "    result = -1\n",
    "\n",
    "    while low <= high:\n",
    "        mid = (low + high) // 2\n",
    "        if canMake(mid):\n",
    "            result = mid\n",
    "            high = mid - 1\n",
    "        else:\n",
    "            low = mid + 1\n",
    "\n",
    "    return result\n",
    "bloomDay = [1, 10, 3, 10, 2]\n",
    "m = 3\n",
    "k = 1\n",
    "print(minDays(bloomDay,m,k))"
   ]
  },
  {
   "cell_type": "code",
   "execution_count": 20,
   "id": "ee28e7f6",
   "metadata": {},
   "outputs": [
    {
     "name": "stdout",
     "output_type": "stream",
     "text": [
      "5\n"
     ]
    }
   ],
   "source": [
    "#smallestDivisor\n",
    "# 🧾 Problem Statement: Smallest Divisor \n",
    "# Given a Threshold\n",
    "# You are given an array of integers nums and an \n",
    "# integer threshold.\n",
    "\n",
    "# Your task is to find the smallest positive \n",
    "# integer divisor such that the sum of all \n",
    "# elements in the array when divided by this \n",
    "# divisor (rounded up to the nearest integer) is \n",
    "# less than or equal to the threshold.\n",
    "import math\n",
    "\n",
    "def smallestDivisor(nums, threshold):\n",
    "    # Helper function to compute the required sum for a given divisor\n",
    "    def compute_sum(divisor):\n",
    "        return sum(math.ceil(num / divisor) for num in nums)\n",
    "\n",
    "    # Binary search range\n",
    "    low = 1\n",
    "    high = max(nums)\n",
    "    result = high\n",
    "\n",
    "    while low <= high:\n",
    "        mid = (low + high) // 2\n",
    "        if compute_sum(mid) <= threshold:\n",
    "            result = mid       # possible answer, try smaller\n",
    "            high = mid - 1\n",
    "        else:\n",
    "            low = mid + 1      # need larger divisor\n",
    "\n",
    "    return result\n",
    "nums = [1, 2, 5, 9]\n",
    "threshold = 6\n",
    "\n",
    "print(smallestDivisor(nums, threshold))  # Output: 5\n"
   ]
  },
  {
   "cell_type": "code",
   "execution_count": null,
   "id": "c348987c",
   "metadata": {},
   "outputs": [],
   "source": [
    "#Kth Missing Positive Number\n",
    "def findKthPositive(arr, k):\n",
    "    left, right = 0, len(arr) - 1\n",
    "\n",
    "    # Binary search to find the smallest index with missing >= k\n",
    "    while left <= right:\n",
    "        mid = (left + right) // 2\n",
    "        missing = arr[mid] - (mid + 1)\n",
    "\n",
    "        if missing < k:\n",
    "            left = mid + 1\n",
    "        else:\n",
    "            right = mid - 1\n",
    "\n",
    "    # The kth missing number is left + k\n",
    "    return left + k\n",
    "arr = [2, 3, 4, 7, 11]\n",
    "k = 5\n",
    "print(findKthPositive(arr, k))  # Output: 9\n"
   ]
  },
  {
   "cell_type": "code",
   "execution_count": 24,
   "id": "4efc0e0a",
   "metadata": {},
   "outputs": [
    {
     "name": "stdout",
     "output_type": "stream",
     "text": [
      "11\n"
     ]
    }
   ],
   "source": [
    "#Capacity to Ship Packages within D Days\n",
    "def shipWithinDays(weights, D):\n",
    "    def can_ship(capacity):\n",
    "        days = 1\n",
    "        total = 0\n",
    "        for weight in weights:\n",
    "            if total + weight > capacity:\n",
    "                days += 1\n",
    "                total = 0\n",
    "            total += weight\n",
    "        return days <= D\n",
    "\n",
    "    low, high = max(weights), sum(weights)\n",
    "    while low < high:\n",
    "        mid = (low + high) // 2\n",
    "        if can_ship(mid):\n",
    "            high = mid\n",
    "        else:\n",
    "            low = mid + 1\n",
    "    return low\n",
    "weights = [1,2,3,4,5,6,7,8,9,10]\n",
    "D =6\n",
    "print(shipWithinDays(weights, D))  # Output: 15"
   ]
  },
  {
   "cell_type": "code",
   "execution_count": 27,
   "id": "4ad292ad",
   "metadata": {},
   "outputs": [
    {
     "name": "stdout",
     "output_type": "stream",
     "text": [
      "3\n"
     ]
    }
   ],
   "source": [
    "# Aggressive Cows Problem Statement:\n",
    "# You are given n stalls (numbered 1 through n) and k cows. The cows need to be placed in the stalls such that:\n",
    "\n",
    "# Each cow gets a stall.\n",
    "\n",
    "# Two cows cannot share the same stall.\n",
    "\n",
    "# You need to place the cows such that the minimum distance between any two cows is as large as possible.\n",
    "\n",
    "# Objective:\n",
    "# Maximize the minimum distance between the cows.\n",
    "def aggressive_cows(positions, cows):\n",
    "    positions.sort()\n",
    "    def is_possible(positions, cows, min_dist):\n",
    "        count = 1\n",
    "        last_pos = positions[0]\n",
    "\n",
    "        for i in range(1, len(positions)):\n",
    "            if positions[i] - last_pos >= min_dist:\n",
    "                count += 1\n",
    "                last_pos = positions[i]\n",
    "            if count == cows:\n",
    "                return True\n",
    "\n",
    "        return False\n",
    "    low = 1\n",
    "    high = positions[-1] - positions[0]\n",
    "    ans = -1\n",
    "\n",
    "    while low <= high:\n",
    "        mid = (low + high) // 2\n",
    "\n",
    "        if is_possible(positions, cows, mid):\n",
    "            ans = mid\n",
    "            low = mid + 1  # try for a larger min distance\n",
    "        else:\n",
    "            high = mid - 1  # reduce the distance\n",
    "\n",
    "    return ans\n",
    "positions = [1, 2, 8, 4, 9]\n",
    "cows = 3\n",
    "print(aggressive_cows(positions, cows))  # Output: 3\n"
   ]
  },
  {
   "cell_type": "code",
   "execution_count": 26,
   "id": "39b6ea51",
   "metadata": {},
   "outputs": [
    {
     "name": "stdout",
     "output_type": "stream",
     "text": [
      "113\n"
     ]
    }
   ],
   "source": [
    "# Book Allocation Problem Statement:\n",
    "# You are given an array pages[] of n books, where pages[i] is the number of pages in the i-th book. You are also given m students. The task is to assign books to students such that:\n",
    "\n",
    "# Each student is assigned contiguous books.\n",
    "\n",
    "# Each student gets at least one book.\n",
    "\n",
    "# The maximum number of pages assigned to a student is minimized.\n",
    "\n",
    "# Objective:\n",
    "# Minimize the maximum number of pages assigned to any student.\n",
    "def book_allocation(pages, students):\n",
    "    if students > len(pages):\n",
    "        return -1# If students are more than books, not possible\n",
    "    def is_possible(pages, students, max_pages):\n",
    "        count = 1  # Start with first student\n",
    "        total = 0  # Total pages assigned to current student\n",
    "\n",
    "        for page in pages:\n",
    "            # If adding this book exceeds the max limit\n",
    "            if total + page > max_pages:\n",
    "                count += 1  # Assign new student\n",
    "                total = page  # Start new student with this book\n",
    "                if count > students:  # More students required than available\n",
    "                    return False\n",
    "            else:\n",
    "                total += page  # Add book to current student\n",
    "\n",
    "        return True\n",
    "    low = max(pages)  # At least one student will get the largest book\n",
    "    high = sum(pages)  # One student gets all books\n",
    "    ans = -1  # Store the final answer\n",
    "\n",
    "    while low <= high:\n",
    "        mid = (low + high) // 2  # Mid value for the number of pages\n",
    "\n",
    "        if is_possible(pages, students, mid):\n",
    "            ans = mid  # This value is possible, so save it as a potential answer\n",
    "            high = mid - 1  # Try for a smaller max page limit\n",
    "        else:\n",
    "            low = mid + 1  # Try for a larger max page limit\n",
    "\n",
    "    return ans\n",
    "\n",
    "# Example Usage\n",
    "pages = [12, 34, 67, 90]\n",
    "students = 2\n",
    "print(book_allocation(pages, students))  # Output: 113\n"
   ]
  },
  {
   "cell_type": "code",
   "execution_count": 31,
   "id": "e2bfda62",
   "metadata": {},
   "outputs": [
    {
     "name": "stdout",
     "output_type": "stream",
     "text": [
      "60\n"
     ]
    }
   ],
   "source": [
    "#Split array - Largest Sum or Painter's Partition Problem\n",
    "# Painter's Partition Problem - Statement & Striver's Binary Search Solution\n",
    "# Problem Statement:\n",
    "# You are given:\n",
    "\n",
    "# An array boards[] where each element represents the length of a board.\n",
    "\n",
    "# k painters available to paint these boards.\n",
    "\n",
    "# Each painter takes 1 unit of time to paint 1 unit of board.\n",
    "\n",
    "# Objective:\n",
    "# Partition the boards among the painters such that:\n",
    "\n",
    "# Each painter gets contiguous sections of boards.\n",
    "\n",
    "# The time to paint all the boards is minimized.\n",
    "def painters_partition(boards, k):\n",
    "    if k > len(boards):\n",
    "        return max(boards)\n",
    "    def is_possible(boards, k, max_time):\n",
    "        painters = 1\n",
    "        current_time = 0\n",
    "        for board in boards:\n",
    "            if current_time + board <= max_time:\n",
    "                current_time += board\n",
    "            else:\n",
    "                painters += 1\n",
    "                if painters > k or board > max_time:\n",
    "                    return False\n",
    "                current_time = board\n",
    "        return True\n",
    "    low = max(boards)\n",
    "    high = sum(boards)\n",
    "    result = high\n",
    "    while low <= high:\n",
    "        mid = (low + high) // 2\n",
    "        if is_possible(boards, k, mid):\n",
    "            result = mid\n",
    "            high = mid - 1\n",
    "        else:\n",
    "            low = mid + 1\n",
    "    return result\n",
    "# Example\n",
    "boards = [10, 20, 30, 40]\n",
    "k = 2\n",
    "print(painters_partition(boards, k))  # Output: 60\n"
   ]
  },
  {
   "cell_type": "code",
   "execution_count": 29,
   "id": "3f629443",
   "metadata": {},
   "outputs": [
    {
     "name": "stdout",
     "output_type": "stream",
     "text": [
      "0.5\n"
     ]
    }
   ],
   "source": [
    "# Minimise Maximum Distance between Gas Stations\n",
    "import math\n",
    "def minmax_gas_dist(stations, k):\n",
    "    def is_possible(stations, k, max_dist):\n",
    "        count = 0\n",
    "        for i in range(len(stations) - 1):\n",
    "            dist = stations[i+1] - stations[i]\n",
    "            count += math.ceil(dist / max_dist) - 1\n",
    "        return count <= k\n",
    "    low = 0.0\n",
    "    high = stations[-1] - stations[0]\n",
    "    epsilon = 1e-6  # precision\n",
    "    \n",
    "    while high - low > epsilon:\n",
    "        mid = (low + high) / 2.0\n",
    "        if is_possible(stations, k, mid):\n",
    "            high = mid\n",
    "        else:\n",
    "            low = mid\n",
    "            \n",
    "    return round(high, 6)  # return rounded answer\n",
    "\n",
    "# Example\n",
    "stations = [1, 2, 3, 4, 5, 6, 7, 8, 9, 10]\n",
    "k = 9\n",
    "print(minmax_gas_dist(stations, k))  # Output: 0.5\n"
   ]
  },
  {
   "cell_type": "code",
   "execution_count": 36,
   "id": "dce2b989",
   "metadata": {},
   "outputs": [
    {
     "name": "stdout",
     "output_type": "stream",
     "text": [
      "Median of matrix is: 5\n"
     ]
    }
   ],
   "source": [
    "#Matrix Median\n",
    "def count_less_equal(row, mid):\n",
    "    \"\"\"\n",
    "    Count how many elements in 'row' are less than or equal to 'mid'\n",
    "    using binary search.\n",
    "    \"\"\"\n",
    "    low, high = 0, len(row)\n",
    "    while low < high:\n",
    "        m = (low + high) // 2\n",
    "        if row[m] <= mid:\n",
    "            low = m + 1\n",
    "        else:\n",
    "            high = m\n",
    "    return low\n",
    "\n",
    "def matrix_median(matrix):\n",
    "    \"\"\"\n",
    "    Find the median of a row-wise sorted matrix.\n",
    "    \"\"\"\n",
    "    rows = len(matrix)\n",
    "    cols = len(matrix[0])\n",
    "\n",
    "    # Define search range\n",
    "    low = min(row[0] for row in matrix)\n",
    "    high = max(row[-1] for row in matrix)\n",
    "\n",
    "    while low <= high:\n",
    "        mid = (low + high) // 2\n",
    "\n",
    "        # Count elements ≤ mid\n",
    "        count = 0\n",
    "        for row in matrix:\n",
    "            count += count_less_equal(row, mid)\n",
    "\n",
    "        if count <= (rows * cols) // 2:\n",
    "            low = mid + 1\n",
    "        else:\n",
    "            high = mid - 1\n",
    "\n",
    "    return low\n",
    "matrix = [\n",
    "    [1, 3, 5],\n",
    "    [2, 6, 9],\n",
    "    [3, 6, 9]\n",
    "]\n",
    "print(\"Median of matrix is:\", matrix_median(matrix))\n"
   ]
  },
  {
   "cell_type": "code",
   "execution_count": 5,
   "id": "8dc5569e",
   "metadata": {},
   "outputs": [
    {
     "name": "stdout",
     "output_type": "stream",
     "text": [
      "Median: 3.5\n"
     ]
    }
   ],
   "source": [
    "#Median of two Sorted Arrays of Different Sizes \n",
    "def find_median(a, b):\n",
    "    n1 = len(a)\n",
    "    n2 = len(b)\n",
    "    total_length = n1 + n2\n",
    "    mid1 = total_length // 2\n",
    "    mid2 = mid1 - 1\n",
    "\n",
    "    i = j = count = 0\n",
    "    median1 = median2 = -1\n",
    "\n",
    "    while i < n1 and j < n2:\n",
    "        if a[i] < b[j]:\n",
    "            current = a[i]\n",
    "            i += 1\n",
    "        else:\n",
    "            current = b[j]\n",
    "            j += 1\n",
    "\n",
    "        if count == mid1:\n",
    "            median1 = current\n",
    "        if count == mid2:\n",
    "            median2 = current\n",
    "        count += 1\n",
    "\n",
    "    while i < n1:\n",
    "        current = a[i]\n",
    "        if count == mid1:\n",
    "            median1 = current\n",
    "        if count == mid2:\n",
    "            median2 = current\n",
    "        count += 1\n",
    "        i += 1\n",
    "\n",
    "    while j < n2:\n",
    "        current = b[j]\n",
    "        if count == mid1:\n",
    "            median1 = current\n",
    "        if count == mid2:\n",
    "            median2 = current\n",
    "        count += 1\n",
    "        j += 1\n",
    "\n",
    "    if total_length % 2 == 0:\n",
    "        return (median1 + median2) / 2\n",
    "    else:\n",
    "        return median1\n",
    "a = [1, 3, 5]\n",
    "b = [2, 4, 6]\n",
    "print(\"Median:\", find_median(a, b))  # Output: 3.5\n"
   ]
  },
  {
   "cell_type": "code",
   "execution_count": 34,
   "id": "06875bb5",
   "metadata": {},
   "outputs": [
    {
     "name": "stdout",
     "output_type": "stream",
     "text": [
      "([4, 4, 4, 5, 5, 6, 6, 6, 6, 7, 8, 9, 9, 11, 12, 13, 13, 13], 'ans is', 6)\n"
     ]
    }
   ],
   "source": [
    "#K-th element of two sorted arrays\n",
    "def merge(arr1,arr2,k):\n",
    "    m=len(arr1)-1\n",
    "    n=len(arr2)-1\n",
    "    i=0\n",
    "    j=0\n",
    "    temp=[]\n",
    "    while i<=m and j<=n:\n",
    "        if arr1[i]<arr2[j]:\n",
    "            temp.append(arr1[i])\n",
    "            i+=1\n",
    "        else:\n",
    "            temp.append(arr2[j])\n",
    "            j+=1\n",
    "    while i<=m:\n",
    "        temp.append(arr1[i])\n",
    "        i+=1\n",
    "    while j<=n:\n",
    "        temp.append(arr2[j])\n",
    "        j+=1\n",
    "    return temp,\"ans is\", temp[k-1]\n",
    "arr1=[4, 5, 6 ,6 ,13]\n",
    "arr2=[4, 4, 5, 6, 6, 7, 8, 9, 9, 11, 12, 13, 13]\n",
    "k=9\n",
    "print(merge(arr1,arr2,k))"
   ]
  },
  {
   "cell_type": "code",
   "execution_count": 11,
   "id": "ecb0c691",
   "metadata": {},
   "outputs": [
    {
     "name": "stdout",
     "output_type": "stream",
     "text": [
      "True\n"
     ]
    }
   ],
   "source": [
    "#Search in a 2 D matrix\n",
    "def search_matrix(matrix, target):\n",
    "    if not matrix or not matrix[0]:\n",
    "        return False\n",
    "\n",
    "    rows = len(matrix)\n",
    "    cols = len(matrix[0])\n",
    "\n",
    "    low = 0\n",
    "    high = rows * cols - 1\n",
    "\n",
    "    while low <= high:\n",
    "        mid = (low + high) // 2\n",
    "        mid_value = matrix[mid // cols][mid % cols]\n",
    "\n",
    "        if mid_value == target:\n",
    "            return True\n",
    "        elif mid_value < target:\n",
    "            low = mid + 1\n",
    "        else:\n",
    "            high = mid - 1\n",
    "\n",
    "    return False\n",
    "matrix = [\n",
    "  [1, 3, 5, 7],\n",
    "  [10, 11, 16, 20],\n",
    "  [23, 30, 34, 60]\n",
    "]\n",
    "target = 3\n",
    "\n",
    "print(search_matrix(matrix, target))  # Output: True\n"
   ]
  },
  {
   "cell_type": "markdown",
   "id": "2fa87700",
   "metadata": {},
   "source": [
    "# STRING BASIC"
   ]
  },
  {
   "cell_type": "code",
   "execution_count": 10,
   "id": "fa20f1ff",
   "metadata": {},
   "outputs": [
    {
     "name": "stdout",
     "output_type": "stream",
     "text": [
      "blue is sky the\n"
     ]
    }
   ],
   "source": [
    "#Reverse Words in a String\n",
    "s=\"the sky is blue\"\n",
    "s=s.split( )\n",
    "s=\" \".join(s[::-1])\n",
    "print(s)"
   ]
  },
  {
   "cell_type": "code",
   "execution_count": 4,
   "id": "c7052df7",
   "metadata": {},
   "outputs": [
    {
     "name": "stdout",
     "output_type": "stream",
     "text": [
      "rudra is name my\n"
     ]
    }
   ],
   "source": [
    "#Reverse Words in a String\n",
    "def reverse_word(s):\n",
    "    s = s.strip()\n",
    "    s = s[::-1]\n",
    "#     print(s)\n",
    "    n = len(s)\n",
    "    i = 0\n",
    "    res = \"\"\n",
    "    while i < n:\n",
    "        if s[i] == ' ':\n",
    "            i += 1\n",
    "            continue\n",
    "        word = \"\"\n",
    "        while i < n and s[i] != ' ':\n",
    "            word += s[i]\n",
    "            i += 1\n",
    "        word = word[::-1]\n",
    "        if word:\n",
    "            res += \" \" + word\n",
    "    return res.strip()\n",
    "s = \"my name is rudra\"\n",
    "print(reverse_word(s))"
   ]
  },
  {
   "cell_type": "code",
   "execution_count": 13,
   "id": "ed64d18e",
   "metadata": {},
   "outputs": [
    {
     "name": "stdout",
     "output_type": "stream",
     "text": [
      "Length of Longest Common Subsequence is: 3\n"
     ]
    }
   ],
   "source": [
    "# longest common subsequence\n",
    "def lcs(X, Y):\n",
    "    # Create a 2D matrix to store the length of longest common subsequence\n",
    "    m = len(X)\n",
    "    n = len(Y)\n",
    "    \n",
    "    # Initialize the matrix with zeros\n",
    "    dp = [[0] * (n + 1) for _ in range(m + 1)]\n",
    "    \n",
    "    # Fill the matrix using dynamic programming approach\n",
    "    for i in range(1, m + 1):\n",
    "        for j in range(1, n + 1):\n",
    "            if X[i - 1] == Y[j - 1]:  # If characters match\n",
    "                dp[i][j] = dp[i - 1][j - 1] + 1\n",
    "            else:  # If characters don't match\n",
    "                dp[i][j] = max(dp[i - 1][j], dp[i][j - 1])\n",
    "    \n",
    "    # The value at dp[m][n] will be the length of LCS\n",
    "    return dp[m][n]\n",
    "\n",
    "# Example usage\n",
    "X = \"babad\"\n",
    "Y = \"dabab\"\n",
    "print(\"Length of Longest Common Subsequence is:\", lcs(X, Y))  # Output: 4"
   ]
  },
  {
   "cell_type": "code",
   "execution_count": 12,
   "id": "148740cc",
   "metadata": {},
   "outputs": [
    {
     "name": "stdout",
     "output_type": "stream",
     "text": [
      "Longest Palindromic Subsequence is: aba\n"
     ]
    }
   ],
   "source": [
    "#Longest Palindrome in a string\n",
    "def lcs(X, Y):\n",
    "    m = len(X)\n",
    "    n = len(Y)\n",
    "    \n",
    "    # Create a 2D matrix to store the length of longest common subsequence\n",
    "    dp = [[0] * (n + 1) for _ in range(m + 1)]\n",
    "    \n",
    "    # Fill the matrix using dynamic programming approach\n",
    "    for i in range(1, m + 1):\n",
    "        for j in range(1, n + 1):\n",
    "            if X[i - 1] == Y[j - 1]:  # If characters match\n",
    "                dp[i][j] = dp[i - 1][j - 1] + 1\n",
    "            else:  # If characters don't match\n",
    "                dp[i][j] = max(dp[i - 1][j], dp[i][j - 1])\n",
    "    \n",
    "    # Backtrack to find the LCS (Longest Common Subsequence)\n",
    "    lcs_string = []\n",
    "    i, j = m, n\n",
    "    while i > 0 and j > 0:\n",
    "        if X[i - 1] == Y[j - 1]:\n",
    "            lcs_string.append(X[i - 1])  # Add to result if characters match\n",
    "            i -= 1\n",
    "            j -= 1\n",
    "        elif dp[i - 1][j] > dp[i][j - 1]:\n",
    "            i -= 1\n",
    "        else:\n",
    "            j -= 1\n",
    "\n",
    "    # The LCS string is built in reverse order, so reverse it\n",
    "    return ''.join(reversed(lcs_string))\n",
    "\n",
    "def longest_palindromic_subsequence(s):\n",
    "    # Reverse the string\n",
    "    rev_s = s[::-1]\n",
    "    \n",
    "    # The longest palindromic subsequence is the LCS of the string and its reverse\n",
    "    return lcs(s, rev_s)\n",
    "\n",
    "# Example usage\n",
    "input_string = \"babad\"\n",
    "print(\"Longest Palindromic Subsequence is:\", longest_palindromic_subsequence(input_string))  # Output: \"babcbab\"\n"
   ]
  },
  {
   "cell_type": "code",
   "execution_count": 18,
   "id": "37e77dc0",
   "metadata": {},
   "outputs": [
    {
     "name": "stdout",
     "output_type": "stream",
     "text": [
      "Roman numeral III is equal to 3\n"
     ]
    }
   ],
   "source": [
    "#Roman Number to Integer \n",
    "def roman_to_int(roman):\n",
    "    \"\"\"\n",
    "    Converts a Roman numeral string to an integer.\n",
    "\n",
    "    :param roman: Roman numeral string.\n",
    "    :return: Corresponding integer value.\n",
    "    \"\"\"\n",
    "    # Mapping of Roman numerals to integer values\n",
    "    roman_map = {\n",
    "        'I': 1,\n",
    "        'V': 5,\n",
    "        'X': 10,\n",
    "        'L': 50,\n",
    "        'C': 100,\n",
    "        'D': 500,\n",
    "        'M': 1000\n",
    "    }\n",
    "    \n",
    "    total = 0\n",
    "    for i in range(len(roman)):\n",
    "        # If the current Roman numeral is less than the next numeral, subtract its value\n",
    "        if i + 1 < len(roman) and roman_map[roman[i]] < roman_map[roman[i + 1]]:\n",
    "            total -= roman_map[roman[i]]\n",
    "        else:\n",
    "            total += roman_map[roman[i]]\n",
    "    \n",
    "    return total\n",
    "\n",
    "# Example usage\n",
    "def main():\n",
    "    roman_numeral = \"III\"\n",
    "    print(f\"Roman numeral {roman_numeral} is equal to {roman_to_int(roman_numeral)}\")  # Output: 9\n",
    "\n",
    "if __name__ == \"__main__\":\n",
    "    main()\n"
   ]
  },
  {
   "cell_type": "code",
   "execution_count": 25,
   "id": "5c9bf8e2",
   "metadata": {},
   "outputs": [
    {
     "name": "stdout",
     "output_type": "stream",
     "text": [
      "-42\n",
      "1337\n",
      "0\n"
     ]
    }
   ],
   "source": [
    "#Implement ATOI/STRSTR\n",
    "def my_atoi(s: str) -> int:\n",
    "    s = s.lstrip()  # Remove leading whitespaces\n",
    "    if not s:\n",
    "        return 0\n",
    "\n",
    "    sign = 1\n",
    "    index = 0\n",
    "    if s[0] in ['-', '+']:\n",
    "        sign = -1 if s[0] == '-' else 1\n",
    "        index += 1\n",
    "\n",
    "    result = 0\n",
    "    while index < len(s) and s[index].isdigit():\n",
    "        result = result * 10 + int(s[index])\n",
    "        index += 1\n",
    "\n",
    "    result *= sign\n",
    "\n",
    "    # Clamp to 32-bit signed integer range\n",
    "    INT_MIN, INT_MAX = -2**31, 2**31 - 1\n",
    "    return max(min(result, INT_MAX), INT_MIN)\n",
    "\n",
    "# Example usage:\n",
    "def main():\n",
    "    print(my_atoi( \" -042\"))     # Output: -42\n",
    "    print(my_atoi(\"1337c0d3\"))  # Output: 1337\n",
    "    print(my_atoi(\"words and 987\"))    # Output: 0\n",
    "\n",
    "if __name__ == \"__main__\":\n",
    "    main()\n"
   ]
  },
  {
   "cell_type": "code",
   "execution_count": 8,
   "id": "5882d1d3",
   "metadata": {},
   "outputs": [
    {
     "name": "stdout",
     "output_type": "stream",
     "text": [
      "fl\n",
      "\n"
     ]
    }
   ],
   "source": [
    "#Longest Common Prefix\n",
    "def longest_common_prefix(strs: list[str]) -> str:\n",
    "    if not strs:\n",
    "        return \"\"\n",
    "    \n",
    "    # Take the first string as the base for comparison\n",
    "    prefix = strs[0]\n",
    "    \n",
    "    # Compare the prefix with each string\n",
    "    for s in strs[1:]:\n",
    "        while not s.startswith(prefix):\n",
    "            # Shorten prefix from the end until it matches\n",
    "            prefix = prefix[:-1]\n",
    "            if not prefix:\n",
    "                return \"\"\n",
    "    \n",
    "    return prefix\n",
    "\n",
    "# Example usage:\n",
    "def main():\n",
    "    print(longest_common_prefix([\"flower\", \"flow\", \"flight\"]))  # Output: \"fl\"\n",
    "    print(longest_common_prefix([\"dog\", \"racecar\", \"car\"]))     # Output: \"\"\n",
    "\n",
    "if __name__ == \"__main__\":\n",
    "    main()\n"
   ]
  },
  {
   "cell_type": "code",
   "execution_count": null,
   "id": "ffd280d3",
   "metadata": {},
   "outputs": [],
   "source": [
    "def rabin_karp(text, pattern):\n",
    "    n = len(text)\n",
    "    m = len(pattern)\n",
    "    d = 256        # Total number of characters in input (ASCII)\n",
    "    q = 101        # A prime number for hashing\n",
    "\n",
    "    h = 1\n",
    "    p = 0  # hash value for pattern\n",
    "    t = 0  # hash value for text\n",
    "\n",
    "    # The value of h would be \"pow(d, m-1) % q\"\n",
    "    for i in range(m - 1):\n",
    "        h = (h * d) % q\n",
    "\n",
    "    # Calculate the hash value of pattern and first window of text\n",
    "    for i in range(m):\n",
    "        p = (d * p + ord(pattern[i])) % q\n",
    "        t = (d * t + ord(text[i])) % q\n",
    "\n",
    "    # Slide the pattern over text one by one\n",
    "    for i in range(n - m + 1):\n",
    "        # Check the hash values\n",
    "        if p == t:\n",
    "            # Check characters one by one\n",
    "            if text[i:i + m] == pattern:\n",
    "                print(f\"Pattern found at index {i}\")\n",
    "\n",
    "        # Calculate hash value for next window\n",
    "        if i < n - m:\n",
    "            t = (d * (t - ord(text[i]) * h) + ord(text[i + m])) % q\n",
    "\n",
    "            # Make sure t is positive\n",
    "            if t < 0:\n",
    "                t = t + q\n",
    "\n",
    "# Example usage\n",
    "text = \"ababcabcabababd\"\n",
    "pattern = \"aba\"\n",
    "rabin_karp(text, pattern)"
   ]
  },
  {
   "cell_type": "code",
   "execution_count": 10,
   "id": "451bb6ff",
   "metadata": {},
   "outputs": [
    {
     "name": "stdout",
     "output_type": "stream",
     "text": [
      "3\n"
     ]
    }
   ],
   "source": [
    "def rabin_karp(haystack: str, needle: str, base=256, prime=101) -> bool:\n",
    "    \"\"\"Check if needle is a substring of haystack using Rabin-Karp.\"\"\"\n",
    "    n, m = len(haystack), len(needle)\n",
    "    if m > n:\n",
    "        return False\n",
    "\n",
    "    high_order = pow(base, m - 1, prime)\n",
    "    needle_hash = 0\n",
    "    window_hash = 0\n",
    "\n",
    "    # Compute initial hashes\n",
    "    for i in range(m):\n",
    "        needle_hash = (base * needle_hash + ord(needle[i])) % prime\n",
    "        window_hash = (base * window_hash + ord(haystack[i])) % prime\n",
    "\n",
    "    for i in range(n - m + 1):\n",
    "        if needle_hash == window_hash:\n",
    "            if haystack[i:i + m] == needle:\n",
    "                return True\n",
    "        if i < n - m:\n",
    "            window_hash = (base * (window_hash - ord(haystack[i]) * high_order) + ord(haystack[i + m])) % prime\n",
    "            if window_hash < 0:\n",
    "                window_hash += prime\n",
    "\n",
    "    return False\n",
    "\n",
    "def repeated_string_match_rk(a: str, b: str) -> int:\n",
    "    \"\"\"Return min number of times a needs to be repeated such that b is a substring (Rabin-Karp used).\"\"\"\n",
    "    repeated = \"\"\n",
    "    count = 0\n",
    "\n",
    "    # Repeat until repeated string length >= b\n",
    "    while len(repeated) < len(b):\n",
    "        repeated += a\n",
    "        count += 1\n",
    "\n",
    "    if rabin_karp(repeated, b):\n",
    "        return count\n",
    "\n",
    "    # One more repetition for overlap cases\n",
    "    repeated += a\n",
    "    if rabin_karp(repeated, b):\n",
    "        return count + 1\n",
    "\n",
    "    return -1\n",
    "def main():\n",
    "    print(repeated_string_match_rk(\"abcd\", \"cdabcdab\"))  # Output: 3\n",
    "#     print(repeated_string_match_rk(\"abc\", \"cabca\"))      # Output: 3\n",
    "#     print(repeated_string_match_rk(\"a\", \"aa\"))           # Output: 2\n",
    "#     print(repeated_string_match_rk(\"abc\", \"xyz\"))        # Output: -1\n",
    "\n",
    "if __name__ == \"__main__\":\n",
    "    main()\n"
   ]
  },
  {
   "cell_type": "markdown",
   "id": "f1603a0e",
   "metadata": {},
   "source": [
    "# string hard"
   ]
  },
  {
   "cell_type": "code",
   "execution_count": 1,
   "id": "701ca1bf",
   "metadata": {},
   "outputs": [
    {
     "name": "stdout",
     "output_type": "stream",
     "text": [
      "True\n",
      "False\n"
     ]
    }
   ],
   "source": [
    "# Valid Angram\n",
    "def valid_anagram(str1, str2):\n",
    "    # If lengths differ, they can't be anagrams\n",
    "    if len(str1) != len(str2):\n",
    "        return False\n",
    "\n",
    "    # Initialize count array for 26 lowercase letters\n",
    "    count = [0] * 26\n",
    "\n",
    "    # Increment count for str1 and decrement for str2\n",
    "    for i in range(len(str1)):\n",
    "        count[ord(str1[i]) - ord('a')] += 1\n",
    "        count[ord(str2[i]) - ord('a')] -= 1\n",
    "\n",
    "    # Check if all counts are zero\n",
    "    for c in count:\n",
    "        if c != 0:\n",
    "            return False\n",
    "\n",
    "    return True\n",
    "\n",
    "# Example usage\n",
    "print(valid_anagram(\"listen\", \"silent\"))  # True\n",
    "print(valid_anagram(\"hello\", \"world\"))    # False\n",
    "\n",
    "        \n",
    "    \n",
    "    \n",
    "\n"
   ]
  },
  {
   "cell_type": "code",
   "execution_count": 5,
   "id": "f01965f7",
   "metadata": {},
   "outputs": [
    {
     "name": "stdout",
     "output_type": "stream",
     "text": [
      "0\n",
      "-1\n",
      "2\n"
     ]
    }
   ],
   "source": [
    "# 28. Find the Index of the First \n",
    "# Occurrence in a String\n",
    "def is_match(text, pattern, start):\n",
    "    for i in range(len(pattern)):\n",
    "        if text[start + i] != pattern[i]:\n",
    "            return False\n",
    "    return True\n",
    "\n",
    "def find_first_occurrence(text, pattern):\n",
    "    if not pattern:\n",
    "        return 0  # Edge case: empty pattern matches at index 0\n",
    "\n",
    "    for i in range(len(text) - len(pattern) + 1):\n",
    "        if is_match(text, pattern, i):\n",
    "            return i\n",
    "    return -1  # No match found\n",
    "\n",
    "print(find_first_occurrence(\"sadbutsad\", \"sad\"))      # Output: 0\n",
    "print(find_first_occurrence(\"leetcode\", \"leeto\"))     # Output: -1\n",
    "print(find_first_occurrence(\"abcabcabc\", \"cab\"))      # Output: 2"
   ]
  },
  {
   "cell_type": "code",
   "execution_count": 17,
   "id": "26b33676",
   "metadata": {},
   "outputs": [
    {
     "name": "stdout",
     "output_type": "stream",
     "text": [
      "0\n",
      "-1\n"
     ]
    }
   ],
   "source": [
    "def compute_lps(needle):\n",
    "    \"\"\"\n",
    "    Computes the Longest Prefix Suffix (LPS) array for the KMP algorithm.\n",
    "    lps[i] = the length of the longest proper prefix which is also a suffix in needle[0...i]\n",
    "    \"\"\"\n",
    "    lps = [0] * len(needle)\n",
    "    length = 0  # length of the previous longest prefix-suffix\n",
    "    i = 1\n",
    "\n",
    "    while i < len(needle):\n",
    "        if needle[i] == needle[length]:\n",
    "            length += 1\n",
    "            lps[i] = length\n",
    "            i += 1\n",
    "        else:\n",
    "            if length != 0:\n",
    "                length = lps[length - 1]\n",
    "            else:\n",
    "                lps[i] = 0\n",
    "                i += 1\n",
    "    return lps\n",
    "\n",
    "def strStr(haystack: str, needle: str) -> int:\n",
    "    \"\"\"\n",
    "    Returns the index of the first occurrence of needle in haystack,\n",
    "    or -1 if needle is not part of haystack.\n",
    "    \"\"\"\n",
    "    if not needle:\n",
    "        return 0  # Edge case: empty needle\n",
    "\n",
    "    lps = compute_lps(needle)\n",
    "    i = j = 0  # i → haystack index, j → needle index\n",
    "\n",
    "    while i < len(haystack):\n",
    "        if haystack[i] == needle[j]:\n",
    "            i += 1\n",
    "            j += 1\n",
    "            if j == len(needle):\n",
    "                return i - j  # Match found\n",
    "        else:\n",
    "            if j != 0:\n",
    "                j = lps[j - 1]  # Use LPS to avoid full restart\n",
    "            else:\n",
    "                i += 1\n",
    "\n",
    "    return -1  # No match found\n",
    "print(strStr(\"sadbutsad\", \"sad\"))      # Output: 0\n",
    "print(strStr(\"leetcode\", \"leeto\"))     # Output: -1\n",
    "#tc O(n + m) sc->O(m)"
   ]
  },
  {
   "cell_type": "code",
   "execution_count": 20,
   "id": "1f81bd16",
   "metadata": {},
   "outputs": [
    {
     "name": "stdout",
     "output_type": "stream",
     "text": [
      "True\n",
      "False\n",
      "True\n"
     ]
    }
   ],
   "source": [
    "#isomorphic string\n",
    "def isIsomorphic(s: str, t: str) -> bool:\n",
    "    \"\"\"\n",
    "    Checks if two strings s and t are isomorphic.\n",
    "    Each character in s must map to one and only one character in t, and vice versa.\n",
    "    \"\"\"\n",
    "    if len(s) != len(t):\n",
    "        return False  # Different lengths can't be isomorphic\n",
    "\n",
    "    s_to_t = {}  # Mapping from s -> t\n",
    "    t_to_s = {}  # Mapping from t -> s\n",
    "\n",
    "    for ch1, ch2 in zip(s, t):\n",
    "        # Check for consistent mapping in both directions\n",
    "        if (ch1 in s_to_t and s_to_t[ch1] != ch2) or (ch2 in t_to_s and t_to_s[ch2] != ch1):\n",
    "            return False\n",
    "\n",
    "        s_to_t[ch1] = ch2\n",
    "        t_to_s[ch2] = ch1\n",
    "\n",
    "    return True\n",
    "print(isIsomorphic(\"egg\", \"add\"))     # Output: True\n",
    "print(isIsomorphic(\"foo\", \"bar\"))     # Output: False\n",
    "print(isIsomorphic(\"paper\", \"title\")) # Output: True\n"
   ]
  },
  {
   "cell_type": "code",
   "execution_count": 2,
   "id": "82745cc8",
   "metadata": {},
   "outputs": [
    {
     "name": "stdout",
     "output_type": "stream",
     "text": [
      "3\n"
     ]
    }
   ],
   "source": [
    "#Minimum Insertions to Make String Palindrome\n",
    "def minInsertions(s: str) -> int:\n",
    "    n = len(s)\n",
    "    dp = [[0] * n for _ in range(n)]\n",
    "\n",
    "    # Fill dp table\n",
    "    for i in range(n - 1, -1, -1):       # from right to left\n",
    "        dp[i][i] = 1                     # each char is a palindrome of length 1\n",
    "        for j in range(i + 1, n):        # from left to right\n",
    "            if s[i] == s[j]:\n",
    "                dp[i][j] = 2 + dp[i + 1][j - 1]\n",
    "            else:\n",
    "                dp[i][j] = max(dp[i + 1][j], dp[i][j - 1])\n",
    "\n",
    "    lps_length = dp[0][n - 1]\n",
    "    return n - lps_length\n",
    "s = \"abcdaa\"\n",
    "# LPS is \"aba\" or \"aca\", so length = 3\n",
    "# Min insertions = 5 - 3 = 2\n",
    "print(minInsertions(s))  # Output: 2"
   ]
  },
  {
   "cell_type": "code",
   "execution_count": 27,
   "id": "10db68c7",
   "metadata": {},
   "outputs": [
    {
     "name": "stdout",
     "output_type": "stream",
     "text": [
      "1\n",
      "11\n",
      "21\n",
      "1211\n",
      "111221\n"
     ]
    }
   ],
   "source": [
    "#count and say\n",
    "# 1. \"1\"\n",
    "# 2. \"11\"          (one 1)\n",
    "# 3. \"21\"          (two 1s)\n",
    "# 4. \"1211\"        (one 2, one 1)\n",
    "# 5. \"111221\"      (one 1, one 2, two 1s)\n",
    "# 6. \"312211\"      (three 1s, two 2s, one 1)\n",
    "def countAndSay(n: int) -> str:\n",
    "    if n == 1:\n",
    "        return \"1\"\n",
    "    \n",
    "    prev = countAndSay(n - 1)  # recursive call\n",
    "    result = \"\"\n",
    "    i = 0\n",
    "\n",
    "    while i < len(prev):\n",
    "        count = 1\n",
    "        while i + 1 < len(prev) and prev[i] == prev[i + 1]:\n",
    "            count += 1\n",
    "            i += 1\n",
    "        result += str(count) + prev[i]\n",
    "        i += 1\n",
    "\n",
    "    return result\n",
    "print(countAndSay(1))  # Output: \"1\"\n",
    "print(countAndSay(2))  # Output: \"11\"\n",
    "print(countAndSay(3))  # Output: \"21\"\n",
    "print(countAndSay(4))  # Output: \"1211\"\n",
    "print(countAndSay(5))  # Output: \"111221\"\n",
    "\n"
   ]
  },
  {
   "cell_type": "code",
   "execution_count": 31,
   "id": "be39da91",
   "metadata": {},
   "outputs": [
    {
     "name": "stdout",
     "output_type": "stream",
     "text": [
      "0\n",
      "0\n",
      "1\n",
      "-1\n"
     ]
    }
   ],
   "source": [
    "# 165. Compare Version Numbers\n",
    "def compareVersion(version1: str, version2: str) -> int:\n",
    "    v1 = list(map(int, version1.split('.')))\n",
    "    v2 = list(map(int, version2.split('.')))\n",
    "\n",
    "    # Pad the shorter version with zeros\n",
    "    length = max(len(v1), len(v2))\n",
    "    v1 += [0] * (length - len(v1))\n",
    "    v2 += [0] * (length - len(v2))\n",
    "\n",
    "    # Compare each part\n",
    "    for i in range(length):\n",
    "        if v1[i] < v2[i]:\n",
    "            return -1\n",
    "        elif v1[i] > v2[i]:\n",
    "            return 1\n",
    "\n",
    "    return 0\n",
    "print(compareVersion(\"1.01\", \"1.001\"))   # Output: 0\n",
    "print(compareVersion(\"1.0\", \"1.0.0\"))    # Output: 0\n",
    "print(compareVersion(\"1.0.1\", \"1\") )     # Output: 1\n",
    "print(compareVersion(\"7.5.2.4\", \"7.5.3\"))# Output: -1\n"
   ]
  },
  {
   "cell_type": "code",
   "execution_count": null,
   "id": "ea25c48b",
   "metadata": {},
   "outputs": [],
   "source": [
    "#LINKED LIST"
   ]
  },
  {
   "cell_type": "code",
   "execution_count": 5,
   "id": "6e3ca23d",
   "metadata": {},
   "outputs": [
    {
     "name": "stdout",
     "output_type": "stream",
     "text": [
      "10 -> 20 -> 30 -> None\n"
     ]
    }
   ],
   "source": [
    "# Node class\n",
    "class Node:\n",
    "    def __init__(self, data):\n",
    "        self.data = data  # Assign data\n",
    "        self.next = None  # Initialize next as null\n",
    "\n",
    "# Linked List class\n",
    "class LinkedList:\n",
    "    def __init__(self):\n",
    "        self.head = None\n",
    "\n",
    "    # Insert at the end\n",
    "    def append(self, data):\n",
    "        new_node = Node(data)\n",
    "        if not self.head:\n",
    "            self.head = new_node\n",
    "            return\n",
    "        last = self.head\n",
    "        while last.next:\n",
    "            last = last.next\n",
    "        last.next = new_node\n",
    "\n",
    "    # Display the linked list\n",
    "    def display(self):\n",
    "        current = self.head\n",
    "        while current:\n",
    "            print(current.data, end=\" -> \")\n",
    "            current = current.next\n",
    "        print(\"None\")\n",
    "\n",
    "# Example usage\n",
    "llist = LinkedList()\n",
    "llist.append(10)\n",
    "llist.append(20)\n",
    "llist.append(30)\n",
    "llist.display()\n"
   ]
  },
  {
   "cell_type": "code",
   "execution_count": 2,
   "id": "8ea64421",
   "metadata": {},
   "outputs": [
    {
     "name": "stdout",
     "output_type": "stream",
     "text": [
      "Original list:\n",
      "1 -> 2 -> 3 -> None\n",
      "Reversed list:\n",
      "3 -> 2 -> 1 -> None\n"
     ]
    }
   ],
   "source": [
    "#revesrse linked list\n",
    "# Node class\n",
    "class Node:\n",
    "    def __init__(self, data):\n",
    "        self.data = data\n",
    "        self.next = None\n",
    "\n",
    "# Linked List class\n",
    "class LinkedList:\n",
    "    def __init__(self):\n",
    "        self.head = None\n",
    "\n",
    "    def append(self, data):\n",
    "        new_node = Node(data)\n",
    "        if not self.head:\n",
    "            self.head = new_node\n",
    "            return\n",
    "        last = self.head\n",
    "        while last.next:\n",
    "            last = last.next\n",
    "        last.next = new_node\n",
    "\n",
    "    def display(self):\n",
    "        current = self.head\n",
    "        while current:\n",
    "            print(current.data, end=\" -> \")\n",
    "            current = current.next\n",
    "        print(\"None\")\n",
    "\n",
    "    def reverse(self):\n",
    "        prev = None\n",
    "        current = self.head\n",
    "\n",
    "        while current:\n",
    "            next_node = current.next\n",
    "            current.next = prev\n",
    "            prev = current\n",
    "            current = next_node\n",
    "\n",
    "        self.head = prev\n",
    "\n",
    "# Example usage\n",
    "llist = LinkedList()\n",
    "llist.append(1)\n",
    "llist.append(2)\n",
    "llist.append(3)\n",
    "\n",
    "print(\"Original list:\")\n",
    "llist.display()\n",
    "\n",
    "llist.reverse()\n",
    "print(\"Reversed list:\")\n",
    "llist.display()\n"
   ]
  },
  {
   "cell_type": "code",
   "execution_count": 6,
   "id": "1a3ae3a8",
   "metadata": {},
   "outputs": [
    {
     "name": "stdout",
     "output_type": "stream",
     "text": [
      "10 -> 20 -> 30 -> 40 -> 50 -> None\n",
      "Middle node: 30\n"
     ]
    }
   ],
   "source": [
    "#middle of the linked list\n",
    "# Node class\n",
    "class Node:\n",
    "    def __init__(self, data):\n",
    "        self.data = data\n",
    "        self.next = None\n",
    "\n",
    "# Linked List class\n",
    "class LinkedList:\n",
    "    def __init__(self):\n",
    "        self.head = None\n",
    "\n",
    "    def append(self, data):\n",
    "        new_node = Node(data)\n",
    "        if not self.head:\n",
    "            self.head = new_node\n",
    "            return\n",
    "        last = self.head\n",
    "        while last.next:\n",
    "            last = last.next\n",
    "        last.next = new_node\n",
    "\n",
    "    def display(self):\n",
    "        current = self.head\n",
    "        while current:\n",
    "            print(current.data, end=\" -> \")\n",
    "            current = current.next\n",
    "        print(\"None\")\n",
    "\n",
    "    def find_middle(self):\n",
    "        slow = self.head\n",
    "        fast = self.head\n",
    "\n",
    "        while fast and fast.next:\n",
    "            slow = slow.next\n",
    "            fast = fast.next.next\n",
    "\n",
    "        if slow:\n",
    "            print(\"Middle node:\", slow.data)\n",
    "        else:\n",
    "            print(\"The list is empty.\")\n",
    "\n",
    "# Example usage\n",
    "llist = LinkedList()\n",
    "for val in [10, 20, 30, 40, 50]:\n",
    "    llist.append(val)\n",
    "\n",
    "llist.display()\n",
    "llist.find_middle()\n"
   ]
  },
  {
   "cell_type": "code",
   "execution_count": 9,
   "id": "4f7e2ba5",
   "metadata": {},
   "outputs": [
    {
     "name": "stdout",
     "output_type": "stream",
     "text": [
      "List 1:\n",
      "1 -> 3 -> 5 -> 7 -> None\n",
      "List 2:\n",
      "2 -> 4 -> 6 -> 8 -> None\n",
      "Merged List:\n",
      "1 -> 2 -> 3 -> 4 -> 5 -> 6 -> 7 -> 8 -> None\n"
     ]
    }
   ],
   "source": [
    "#merge two sorted linked list\n",
    "class Node:\n",
    "    def __init__(self, data):\n",
    "        self.data = data\n",
    "        self.next = None\n",
    "\n",
    "class LinkedList:\n",
    "    def __init__(self):\n",
    "        self.head = None\n",
    "\n",
    "    # Append node to the end\n",
    "    def append(self, data):\n",
    "        new_node = Node(data)\n",
    "        if not self.head:\n",
    "            self.head = new_node\n",
    "            return\n",
    "        last = self.head\n",
    "        while last.next:\n",
    "            last = last.next\n",
    "        last.next = new_node\n",
    "\n",
    "    # Display the list\n",
    "    def display(self):\n",
    "        current = self.head\n",
    "        while current:\n",
    "            print(current.data, end=\" -> \")\n",
    "            current = current.next\n",
    "        print(\"None\")\n",
    "\n",
    "# Optimized merge of two sorted linked lists\n",
    "def merge_sorted_lists(head1, head2):\n",
    "    if not head1: return head2\n",
    "    if not head2: return head1\n",
    "\n",
    "    # Always start with the smaller head\n",
    "    if head1.data > head2.data:\n",
    "        head1, head2 = head2, head1\n",
    "\n",
    "    merged_head = head1\n",
    "\n",
    "    while head1 and head2:\n",
    "        prev = None\n",
    "        # Move head1 forward while its value is <= head2\n",
    "        while head1 and head1.data <= head2.data:\n",
    "            prev = head1\n",
    "            head1 = head1.next\n",
    "        # Insert node from head2 between prev and head1\n",
    "        prev.next = head2\n",
    "        # Swap head1 and head2\n",
    "        head1, head2 = head2, head1\n",
    "\n",
    "    return merged_head\n",
    "\n",
    "# ---------- Example Usage ----------\n",
    "\n",
    "# Create two sorted linked lists\n",
    "list1 = LinkedList()\n",
    "list2 = LinkedList()\n",
    "\n",
    "for val in [1, 3, 5, 7]:\n",
    "    list1.append(val)\n",
    "\n",
    "for val in [2, 4, 6, 8]:\n",
    "    list2.append(val)\n",
    "\n",
    "print(\"List 1:\")\n",
    "list1.display()\n",
    "\n",
    "print(\"List 2:\")\n",
    "list2.display()\n",
    "\n",
    "# Merge\n",
    "merged_head = merge_sorted_lists(list1.head, list2.head)\n",
    "\n",
    "# Display merged list\n",
    "print(\"Merged List:\")\n",
    "current = merged_head\n",
    "while current:\n",
    "    print(current.data, end=\" -> \")\n",
    "    current = current.next\n",
    "print(\"None\")\n"
   ]
  },
  {
   "cell_type": "code",
   "execution_count": 1,
   "id": "d5e25463",
   "metadata": {},
   "outputs": [
    {
     "name": "stdout",
     "output_type": "stream",
     "text": [
      "Original Linked List:\n",
      "10 -> 20 -> 30 -> 40 -> 50 -> None\n",
      "Linked List after removing 2th node from end:\n",
      "10 -> 20 -> 30 -> 50 -> None\n"
     ]
    }
   ],
   "source": [
    "# Remove Nth Node From End of Linked List\n",
    "# Node class\n",
    "class Node:\n",
    "    def __init__(self, data):\n",
    "        self.data = data\n",
    "        self.next = None\n",
    "\n",
    "# Linked List class\n",
    "class LinkedList:\n",
    "    def __init__(self):\n",
    "        self.head = None\n",
    "\n",
    "    # Insert at the end\n",
    "    def append(self, data):\n",
    "        new_node = Node(data)\n",
    "        if not self.head:\n",
    "            self.head = new_node\n",
    "            return\n",
    "        last = self.head\n",
    "        while last.next:\n",
    "            last = last.next\n",
    "        last.next = new_node\n",
    "\n",
    "    # Display the linked list\n",
    "    def display(self):\n",
    "        current = self.head\n",
    "        while current:\n",
    "            print(current.data, end=\" -> \")\n",
    "            current = current.next\n",
    "        print(\"None\")\n",
    "\n",
    "    # Remove Nth node from the end\n",
    "    def remove_nth_from_end(self, n):\n",
    "        dummy = Node(0)\n",
    "        dummy.next = self.head\n",
    "        fast = dummy\n",
    "        slow = dummy\n",
    "\n",
    "        # Move fast ahead by n+1 steps\n",
    "        for _ in range(n + 1):\n",
    "            if fast:\n",
    "                fast = fast.next\n",
    "\n",
    "        # Move both fast and slow\n",
    "        while fast:\n",
    "            fast = fast.next\n",
    "            slow = slow.next\n",
    "\n",
    "        # Delete the node\n",
    "        if slow.next:\n",
    "            slow.next = slow.next.next\n",
    "\n",
    "        # Update head (in case first node was removed)\n",
    "        self.head = dummy.next\n",
    "# Example\n",
    "llist = LinkedList()\n",
    "llist.append(10)\n",
    "llist.append(20)\n",
    "llist.append(30)\n",
    "llist.append(40)\n",
    "llist.append(50)\n",
    "\n",
    "print(\"Original Linked List:\")\n",
    "llist.display()\n",
    "\n",
    "n = 2\n",
    "llist.remove_nth_from_end(n)\n",
    "\n",
    "print(f\"Linked List after removing {n}th node from end:\")\n",
    "llist.display()\n"
   ]
  },
  {
   "cell_type": "code",
   "execution_count": 2,
   "id": "cc36cabc",
   "metadata": {},
   "outputs": [
    {
     "name": "stdout",
     "output_type": "stream",
     "text": [
      "First Number:\n",
      "2 -> 4 -> 3 -> None\n",
      "Second Number:\n",
      "5 -> 6 -> 4 -> None\n",
      "Resultant Sum:\n",
      "7 -> 0 -> 8 -> None\n"
     ]
    }
   ],
   "source": [
    "# Add Two Numbers Given as LinkedLists\n",
    "# 2 + 5 = 7  -> carry = 0   → Result: 7\n",
    "# 4 + 6 = 10 -> carry = 1   → Result: 0\n",
    "# 3 + 4 + 1 = 8 -> carry = 0 → Result: 8\n",
    "# Node class\n",
    "class Node:\n",
    "    def __init__(self, data):\n",
    "        self.data = data\n",
    "        self.next = None\n",
    "\n",
    "# Linked List class\n",
    "class LinkedList:\n",
    "    def __init__(self):\n",
    "        self.head = None\n",
    "\n",
    "    # Insert at the end\n",
    "    def append(self, data):\n",
    "        new_node = Node(data)\n",
    "        if not self.head:\n",
    "            self.head = new_node\n",
    "            return\n",
    "        last = self.head\n",
    "        while last.next:\n",
    "            last = last.next\n",
    "        last.next = new_node\n",
    "\n",
    "    # Display the linked list\n",
    "    def display(self):\n",
    "        current = self.head\n",
    "        while current:\n",
    "            print(current.data, end=\" -> \")\n",
    "            current = current.next\n",
    "        print(\"None\")\n",
    "\n",
    "    # Add two linked lists (returns a new LinkedList)\n",
    "    @staticmethod\n",
    "    def add_two_numbers(l1, l2):\n",
    "        p1 = l1.head\n",
    "        p2 = l2.head\n",
    "        carry = 0\n",
    "        result = LinkedList()\n",
    "\n",
    "        while p1 or p2 or carry:\n",
    "            val1 = p1.data if p1 else 0\n",
    "            val2 = p2.data if p2 else 0\n",
    "            total = val1 + val2 + carry\n",
    "\n",
    "            carry = total // 10\n",
    "            result.append(total % 10)\n",
    "\n",
    "            if p1: p1 = p1.next\n",
    "            if p2: p2 = p2.next\n",
    "\n",
    "        return result\n",
    "# Create first number: 342 => 2 -> 4 -> 3\n",
    "l1 = LinkedList()\n",
    "l1.append(2)\n",
    "l1.append(4)\n",
    "l1.append(3)\n",
    "\n",
    "# Create second number: 465 => 5 -> 6 -> 4\n",
    "l2 = LinkedList()\n",
    "l2.append(5)\n",
    "l2.append(6)\n",
    "l2.append(4)\n",
    "\n",
    "print(\"First Number:\")\n",
    "l1.display()\n",
    "\n",
    "print(\"Second Number:\") \n",
    "l2.display()\n",
    "\n",
    "# Add the numbers\n",
    "result = LinkedList.add_two_numbers(l1, l2)\n",
    "print(\"Resultant Sum:\")\n",
    "result.display()\n"
   ]
  },
  {
   "cell_type": "code",
   "execution_count": 4,
   "id": "fdfa955d",
   "metadata": {},
   "outputs": [
    {
     "name": "stdout",
     "output_type": "stream",
     "text": [
      "10->20->None\n",
      "10->None\n"
     ]
    }
   ],
   "source": [
    "# #delete a node linked list\n",
    "# # Node class\n",
    "# class Node:\n",
    "#     def __init__(self, data):\n",
    "#         self.data = data\n",
    "#         self.next = None\n",
    "\n",
    "# # Linked List class\n",
    "# class LinkedList:\n",
    "#     def __init__(self):\n",
    "#         self.head = None\n",
    "\n",
    "#     # Append to end\n",
    "#     def append(self, data):\n",
    "#         new_node = Node(data)\n",
    "#         if not self.head:\n",
    "#             self.head = new_node\n",
    "#             return\n",
    "#         temp = self.head\n",
    "#         while temp.next:\n",
    "#             temp = temp.next\n",
    "#         temp.next = new_node\n",
    "\n",
    "#     # Display list\n",
    "#     def display(self):\n",
    "#         temp = self.head\n",
    "#         while temp:\n",
    "#             print(temp.data, end=\" -> \")\n",
    "#             temp = temp.next\n",
    "#         print(\"None\")\n",
    "\n",
    "#     # Delete first node with given value\n",
    "#     def delete_by_value(self, value):\n",
    "#         temp = self.head\n",
    "\n",
    "#         # If head itself needs to be deleted\n",
    "#         if temp and temp.data == value:\n",
    "#             self.head = temp.next\n",
    "#             return\n",
    "\n",
    "#         # Find the node to delete\n",
    "#         prev = None\n",
    "#         while temp and temp.data != value:\n",
    "#             prev = temp\n",
    "#             temp = temp.next\n",
    "\n",
    "#         # Value not found\n",
    "#         if not temp:\n",
    "#             print(f\"Value {value} not found!\")\n",
    "#             return\n",
    "\n",
    "#         # Unlink the node\n",
    "#         prev.next = temp.next\n",
    "# ll = LinkedList()\n",
    "# ll.append(10)\n",
    "# ll.append(20)\n",
    "# ll.append(30)\n",
    "# ll.append(40)\n",
    "\n",
    "# print(\"Original List:\")\n",
    "# ll.display()\n",
    "\n",
    "# ll.delete_by_value(30)\n",
    "# print(\"After deleting 30:\")\n",
    "# ll.display()\n",
    "\n",
    "# ll.delete_by_value(10)\n",
    "# print(\"After deleting head (10):\")\n",
    "# ll.display()\n",
    "class Node:\n",
    "    def __init__(self,data):\n",
    "        self.data=data\n",
    "        self.next=None\n",
    "class LinkedList:\n",
    "    def __init__(self):\n",
    "        self.head=None\n",
    "    def append(self,data):\n",
    "        new_node=Node(data)\n",
    "        if not self.head:\n",
    "            self.head=new_node\n",
    "            return\n",
    "        last=self.head\n",
    "        while last.next:\n",
    "            last=last.next\n",
    "        last.next=new_node\n",
    "    def display(self):\n",
    "        current=self.head\n",
    "        while current:\n",
    "            print(current.data,end=\"->\")\n",
    "            current=current.next\n",
    "        print(\"None\")\n",
    "    def delete_node(self,value):\n",
    "        current=self.head\n",
    "        if current and current.data==value:\n",
    "            self.head=current.next\n",
    "            return \n",
    "        prev=None\n",
    "        while current and current.data!=value:\n",
    "            prev=current\n",
    "            current=current.next\n",
    "        if not current:\n",
    "            print(\"not found\")\n",
    "            return\n",
    "        prev.next=current.next\n",
    "list1=LinkedList()\n",
    "list1.append(10)\n",
    "list1.append(20)\n",
    "list1.display()\n",
    "list1.delete_node(20)\n",
    "list1.display()\n"
   ]
  },
  {
   "cell_type": "code",
   "execution_count": 1,
   "id": "cb056066",
   "metadata": {},
   "outputs": [
    {
     "name": "stdout",
     "output_type": "stream",
     "text": [
      "List A:\n",
      "1 -> 2 -> 3 -> 6 -> 7 -> None\n",
      "List B:\n",
      "4 -> 5 -> 6 -> 7 -> None\n",
      "Intersection at node with value: 6\n"
     ]
    }
   ],
   "source": [
    "#linked list medium\n",
    "# Find intersection point of Y LinkedList\n",
    "class Node:\n",
    "    def __init__(self, data):\n",
    "        self.data = data\n",
    "        self.next = None\n",
    "\n",
    "class LinkedList:\n",
    "    def __init__(self):\n",
    "        self.head = None\n",
    "\n",
    "    def append(self, data):\n",
    "        new_node = Node(data)\n",
    "        if not self.head:\n",
    "            self.head = new_node\n",
    "            return\n",
    "        last = self.head\n",
    "        while last.next:\n",
    "            last = last.next\n",
    "        last.next = new_node\n",
    "\n",
    "    def display(self):\n",
    "        current = self.head\n",
    "        while current:\n",
    "            print(current.data, end=\" -> \")\n",
    "            current = current.next\n",
    "        print(\"None\")\n",
    "\n",
    "def get_intersection_node(headA, headB):\n",
    "    \"\"\"\n",
    "    Finds the intersection point of two singly linked lists.\n",
    "    Returns the intersecting node or None if no intersection.\n",
    "    \"\"\"\n",
    "    a = headA\n",
    "    b = headB\n",
    "\n",
    "    while a != b:\n",
    "        a = a.next if a else headB\n",
    "        b = b.next if b else headA\n",
    "\n",
    "    return a\n",
    "\n",
    "# ---------- Example Usage ----------\n",
    "\n",
    "# Shared part: 6 -> 7\n",
    "shared = Node(6)\n",
    "shared.next = Node(7)\n",
    "\n",
    "# First list: 1 -> 2 -> 3 -> 6 -> 7\n",
    "listA = LinkedList()\n",
    "listA.append(1)\n",
    "listA.append(2)\n",
    "listA.append(3)\n",
    "lastA = listA.head\n",
    "while lastA.next:\n",
    "    lastA = lastA.next\n",
    "lastA.next = shared  # Connect to shared part\n",
    "\n",
    "# Second list: 4 -> 5 -> 6 -> 7\n",
    "listB = LinkedList()\n",
    "listB.append(4)\n",
    "listB.append(5)\n",
    "lastB = listB.head\n",
    "while lastB.next:\n",
    "    lastB = lastB.next\n",
    "lastB.next = shared  # Connect to shared part\n",
    "\n",
    "# Display both lists\n",
    "print(\"List A:\")\n",
    "listA.display()\n",
    "print(\"List B:\")\n",
    "listB.display()\n",
    "\n",
    "# Find and display intersection\n",
    "intersection = get_intersection_node(listA.head, listB.head)\n",
    "if intersection:\n",
    "    print(f\"Intersection at node with value: {intersection.data}\")\n",
    "else:\n",
    "    print(\"No intersection found.\")\n"
   ]
  },
  {
   "cell_type": "code",
   "execution_count": 7,
   "id": "3f8e6351",
   "metadata": {},
   "outputs": [
    {
     "name": "stdout",
     "output_type": "stream",
     "text": [
      "Cycle detected? True\n",
      "Linked List:\n",
      "1 -> 2 -> 3 -> 4 -> 5 -> 3 -> 4 -> 5 -> 3 -> 4 -> 5 -> 3 -> 4 -> 5 -> 3 -> 4 -> 5 -> 3 -> 4 -> 5 -> ...Cycle Detected (Truncated)...\n"
     ]
    }
   ],
   "source": [
    "# Detect a cycle in Linked List\n",
    "class Node:\n",
    "    def __init__(self, data):\n",
    "        self.data = data\n",
    "        self.next = None\n",
    "\n",
    "class LinkedList:\n",
    "    def __init__(self):\n",
    "        self.head = None\n",
    "\n",
    "    def append(self, data):\n",
    "        new_node = Node(data)\n",
    "        if not self.head:\n",
    "            self.head = new_node\n",
    "            return\n",
    "        last = self.head\n",
    "        while last.next:\n",
    "            last = last.next\n",
    "        last.next = new_node\n",
    "\n",
    "    def display(self, limit=20):\n",
    "        \"\"\"\n",
    "        Safely display list. Limit used to avoid infinite loop if cycle exists.\n",
    "        \"\"\"\n",
    "        current = self.head\n",
    "        count = 0\n",
    "        while current and count < limit:\n",
    "            print(current.data, end=\" -> \")\n",
    "            current = current.next\n",
    "            count += 1\n",
    "        print(\"None\" if count < limit else \"...Cycle Detected (Truncated)...\")\n",
    "\n",
    "    def create_cycle(self, pos):\n",
    "        \"\"\"\n",
    "        Create a cycle in the list by connecting the last node to the node at 'pos' (0-indexed).\n",
    "        \"\"\"\n",
    "        if pos < 0:\n",
    "            return\n",
    "        cycle_start = None\n",
    "        current = self.head\n",
    "        index = 0\n",
    "        prev = None\n",
    "        while current:\n",
    "            if index == pos:\n",
    "                cycle_start = current\n",
    "            prev = current\n",
    "            current = current.next\n",
    "            index += 1\n",
    "        if prev and cycle_start:\n",
    "            prev.next = cycle_start  # Create the cycle\n",
    "\n",
    "def has_cycle(head):\n",
    "    \"\"\"\n",
    "    Detects if a cycle exists in the linked list using Floyd’s Cycle Detection.\n",
    "    Returns True if cycle exists, else False.\n",
    "    \"\"\"\n",
    "    slow = head\n",
    "    fast = head\n",
    "\n",
    "    while fast and fast.next:\n",
    "        slow = slow.next          # move by 1 step\n",
    "        fast = fast.next.next     # move by 2 steps\n",
    "        if slow == fast:\n",
    "            return True           # cycle detected\n",
    "\n",
    "    return False                  # no cycle\n",
    "\n",
    "# ---------- Example Usage ----------\n",
    "\n",
    "# Create a Linked List\n",
    "ll = LinkedList()\n",
    "for value in [1, 2, 3, 4, 5]:\n",
    "    ll.append(value)\n",
    "\n",
    "# Optional: Create a cycle at position 2 (node with value 3)\n",
    "ll.create_cycle(2)\n",
    "\n",
    "# Detect Cycle\n",
    "print(\"Cycle detected?\" , has_cycle(ll.head))\n",
    "\n",
    "# Display list (for visual testing, will auto-stop after 20 nodes if there's a cycle)\n",
    "print(\"Linked List:\")\n",
    "ll.display()\n"
   ]
  },
  {
   "cell_type": "code",
   "execution_count": 2,
   "id": "c7762fa2",
   "metadata": {},
   "outputs": [
    {
     "name": "stdout",
     "output_type": "stream",
     "text": [
      "Original List:\n",
      "1 -> 2 -> 3 -> 4 -> 5 -> 6 -> 7 -> 8 -> None\n",
      "List after reversing in groups of size 3:\n",
      "3 -> 2 -> 1 -> 6 -> 5 -> 4 -> 7 -> 8 -> None\n"
     ]
    }
   ],
   "source": [
    "#Reverse a LinkedList in groups of size k.\n",
    "class Node:\n",
    "    def __init__(self, data):\n",
    "        self.data = data\n",
    "        self.next = None\n",
    "\n",
    "class LinkedList:\n",
    "    def __init__(self):\n",
    "        self.head = None\n",
    "\n",
    "    def append(self, data):\n",
    "        new_node = Node(data)\n",
    "        if not self.head:\n",
    "            self.head = new_node\n",
    "            return\n",
    "        last = self.head\n",
    "        while last.next:\n",
    "            last = last.next\n",
    "        last.next = new_node\n",
    "\n",
    "    def display(self):\n",
    "        current = self.head\n",
    "        while current:\n",
    "            print(current.data, end=\" -> \")\n",
    "            current = current.next\n",
    "        print(\"None\")\n",
    "\n",
    "    def reverse_k_group(self, k):\n",
    "        \"\"\"\n",
    "        Reverses the linked list in groups of size k.\n",
    "        \"\"\"\n",
    "        self.head = self._reverse_k_group(self.head, k)\n",
    "\n",
    "    def _reverse_k_group(self, head, k):\n",
    "        current = head\n",
    "        prev = None\n",
    "        count = 0\n",
    "\n",
    "        # Count k nodes\n",
    "        temp = head\n",
    "        for i in range(k):\n",
    "            if not temp:\n",
    "                return head  # Less than k nodes, return as is\n",
    "            temp = temp.next\n",
    "\n",
    "        # Reverse k nodes\n",
    "        while current and count < k:\n",
    "            next_node = current.next\n",
    "            current.next = prev\n",
    "            prev = current\n",
    "            current = next_node\n",
    "            count += 1\n",
    "\n",
    "        # Recur for the next group\n",
    "        if current:\n",
    "            head.next = self._reverse_k_group(current, k)\n",
    "\n",
    "        return prev\n",
    "# Create and populate the list\n",
    "ll = LinkedList()\n",
    "for i in range(1, 9):\n",
    "    ll.append(i)\n",
    "\n",
    "print(\"Original List:\")\n",
    "ll.display()\n",
    "\n",
    "# Reverse in groups of size k\n",
    "k = 3\n",
    "ll.reverse_k_group(k)\n",
    "\n",
    "print(f\"List after reversing in groups of size {k}:\")\n",
    "ll.display()\n"
   ]
  },
  {
   "cell_type": "code",
   "execution_count": 1,
   "id": "a1cae981",
   "metadata": {},
   "outputs": [
    {
     "name": "stdout",
     "output_type": "stream",
     "text": [
      "Is Palindrome: True\n"
     ]
    }
   ],
   "source": [
    "# Check for Palindromic Linked List\n",
    "class Node:\n",
    "    def __init__(self, data):\n",
    "        self.data = data\n",
    "        self.next = None\n",
    "\n",
    "class LinkedList:\n",
    "    def __init__(self):\n",
    "        self.head = None\n",
    "\n",
    "    def append(self, data):\n",
    "        new_node = Node(data)\n",
    "        if not self.head:\n",
    "            self.head = new_node\n",
    "            return\n",
    "        curr = self.head\n",
    "        while curr.next:\n",
    "            curr = curr.next\n",
    "        curr.next = new_node\n",
    "\n",
    "    def is_palindrome(self):\n",
    "        if not self.head or not self.head.next:\n",
    "            return True\n",
    "\n",
    "        # Step 1: Find middle (slow will point to mid)\n",
    "        slow = fast = self.head\n",
    "        while fast and fast.next:\n",
    "            slow = slow.next\n",
    "            fast = fast.next.next\n",
    "\n",
    "        # Step 2: Reverse second half of list\n",
    "        prev = None\n",
    "        curr = slow\n",
    "        while curr:\n",
    "            next_node = curr.next\n",
    "            curr.next = prev\n",
    "            prev = curr\n",
    "            curr = next_node\n",
    "\n",
    "        # Step 3: Compare both halves\n",
    "        left = self.head\n",
    "        right = prev  # Head of reversed second half\n",
    "        while right:\n",
    "            if left.data != right.data:\n",
    "                return False\n",
    "            left = left.next\n",
    "            right = right.next\n",
    "\n",
    "        return True\n",
    "ll = LinkedList()\n",
    "for val in [1, 2, 3, 2, 1]:\n",
    "    ll.append(val)\n",
    "\n",
    "print(\"Is Palindrome:\", ll.is_palindrome())  # Output: True\n"
   ]
  },
  {
   "cell_type": "code",
   "execution_count": 2,
   "id": "59b96e25",
   "metadata": {},
   "outputs": [
    {
     "name": "stdout",
     "output_type": "stream",
     "text": [
      "Cycle starts at node with value: 2\n"
     ]
    }
   ],
   "source": [
    "#Find the starting point of the Loop of LinkedList\n",
    "class Node:\n",
    "    def __init__(self, data):\n",
    "        self.data = data\n",
    "        self.next = None\n",
    "\n",
    "class LinkedList:\n",
    "    def __init__(self):\n",
    "        self.head = None\n",
    "\n",
    "    def append(self, data):\n",
    "        new_node = Node(data)\n",
    "        if not self.head:\n",
    "            self.head = new_node\n",
    "            return new_node\n",
    "        curr = self.head\n",
    "        while curr.next:\n",
    "            curr = curr.next\n",
    "        curr.next = new_node\n",
    "        return new_node\n",
    "\n",
    "    def find_cycle_start(self):\n",
    "        slow = fast = self.head\n",
    "\n",
    "        # Step 1: Detect cycle\n",
    "        while fast and fast.next:\n",
    "            slow = slow.next\n",
    "            fast = fast.next.next\n",
    "            if slow == fast:\n",
    "                break\n",
    "        else:\n",
    "            return None  # No cycle\n",
    "\n",
    "        # Step 2: Find the start of the cycle\n",
    "        slow = self.head\n",
    "        while slow != fast:\n",
    "            slow = slow.next\n",
    "            fast = fast.next\n",
    "\n",
    "        return slow  # Starting node of the cycle\n",
    "ll = LinkedList()\n",
    "n1 = ll.append(3)\n",
    "n2 = ll.append(2)\n",
    "n3 = ll.append(0)\n",
    "n4 = ll.append(-4)\n",
    "\n",
    "n4.next = n2  # Create cycle at node with value 2\n",
    "\n",
    "cycle_start = ll.find_cycle_start()\n",
    "if cycle_start:\n",
    "    print(\"Cycle starts at node with value:\", cycle_start.data)\n",
    "else:\n",
    "    print(\"No cycle found.\")\n"
   ]
  },
  {
   "cell_type": "code",
   "execution_count": 4,
   "id": "b7bead2d",
   "metadata": {},
   "outputs": [
    {
     "name": "stdout",
     "output_type": "stream",
     "text": [
      "5 7 8 10 19 20 22 28 30 35 40 45 50 \n"
     ]
    }
   ],
   "source": [
    "# Flattening of a LinkedList\n",
    "class Node:\n",
    "    def __init__(self, data):\n",
    "        self.data = data\n",
    "        self.next = None\n",
    "        self.bottom = None\n",
    "\n",
    "class LinkedList:\n",
    "    def __init__(self):\n",
    "        self.head = None\n",
    "\n",
    "    def merge(self, a, b):\n",
    "        # Base cases\n",
    "        if not a: return b\n",
    "        if not b: return a\n",
    "\n",
    "        # Compare and merge\n",
    "        if a.data < b.data:\n",
    "            result = a\n",
    "            result.bottom = self.merge(a.bottom, b)\n",
    "        else:\n",
    "            result = b\n",
    "            result.bottom = self.merge(a, b.bottom)\n",
    "        \n",
    "        return result\n",
    "\n",
    "    def flatten(self, root):\n",
    "        # Base case\n",
    "        if not root or not root.next:\n",
    "            return root\n",
    "\n",
    "        # Recursively flatten the rest\n",
    "        root.next = self.flatten(root.next)\n",
    "\n",
    "        # Merge this list with the flattened list\n",
    "        root = self.merge(root, root.next)\n",
    "\n",
    "        return root\n",
    "\n",
    "    def print_flattened(self, node):\n",
    "        while node:\n",
    "            print(node.data, end=\" \")\n",
    "            node = node.bottom\n",
    "        print()\n",
    "ll = LinkedList()\n",
    "ll.head = Node(5)\n",
    "ll.head.bottom = Node(7)\n",
    "ll.head.bottom.bottom = Node(8)\n",
    "ll.head.bottom.bottom.bottom = Node(30)\n",
    "\n",
    "ll.head.next = Node(10)\n",
    "ll.head.next.bottom = Node(20)\n",
    "\n",
    "ll.head.next.next = Node(19)\n",
    "ll.head.next.next.bottom = Node(22)\n",
    "ll.head.next.next.bottom.bottom = Node(50)\n",
    "\n",
    "ll.head.next.next.next = Node(28)\n",
    "ll.head.next.next.next.bottom = Node(35)\n",
    "ll.head.next.next.next.bottom.bottom = Node(40)\n",
    "ll.head.next.next.next.bottom.bottom.bottom = Node(45)\n",
    "\n",
    "flattened = ll.flatten(ll.head)\n",
    "ll.print_flattened(flattened)\n"
   ]
  },
  {
   "cell_type": "code",
   "execution_count": 1,
   "id": "02bdb31d",
   "metadata": {},
   "outputs": [
    {
     "name": "stdout",
     "output_type": "stream",
     "text": [
      "Original List:\n",
      "1 → 2 → 3 → 4 → 5 → None\n",
      "After Rotation by 2:\n",
      "4 → 5 → 1 → 2 → 3 → None\n"
     ]
    }
   ],
   "source": [
    "# Rotate a LinkedList\n",
    "class Node:\n",
    "    def __init__(self, data):\n",
    "        self.data = data\n",
    "        self.next = None\n",
    "\n",
    "class LinkedList:\n",
    "    def __init__(self):\n",
    "        self.head = None\n",
    "\n",
    "    def append(self, data):\n",
    "        new_node = Node(data)\n",
    "        if not self.head:\n",
    "            self.head = new_node\n",
    "            return\n",
    "        last = self.head\n",
    "        while last.next:\n",
    "            last = last.next\n",
    "        last.next = new_node\n",
    "\n",
    "    def display(self):\n",
    "        temp = self.head\n",
    "        while temp:\n",
    "            print(temp.data, end=' → ')\n",
    "            temp = temp.next\n",
    "        print(\"None\")\n",
    "\n",
    "    def rotate_right(self, k):\n",
    "        if not self.head or k == 0:\n",
    "            return\n",
    "\n",
    "        # Step 1: Count the number of nodes\n",
    "        last = self.head\n",
    "        length = 1\n",
    "        while last.next:\n",
    "            last = last.next\n",
    "            length += 1\n",
    "\n",
    "        # Step 2: Make it a circular list\n",
    "        last.next = self.head\n",
    "\n",
    "        # Step 3: Find the new tail position (length - k % length)\n",
    "        k = k % length\n",
    "        steps_to_new_tail = length - k\n",
    "        new_tail = self.head\n",
    "        for _ in range(steps_to_new_tail - 1):\n",
    "            new_tail = new_tail.next\n",
    "\n",
    "        # Step 4: Break the circle and update head\n",
    "        self.head = new_tail.next\n",
    "        new_tail.next = None\n",
    "ll = LinkedList()\n",
    "for i in [1, 2, 3, 4, 5]:\n",
    "    ll.append(i)\n",
    "\n",
    "print(\"Original List:\")\n",
    "ll.display()\n",
    "\n",
    "ll.rotate_right(2)\n",
    "print(\"After Rotation by 2:\")\n",
    "ll.display()"
   ]
  },
  {
   "cell_type": "code",
   "execution_count": 1,
   "id": "91da3fee",
   "metadata": {},
   "outputs": [
    {
     "name": "stdout",
     "output_type": "stream",
     "text": [
      "Original List:\n",
      "Data: 1, Random: 3\n",
      "Data: 2, Random: 1\n",
      "Data: 3, Random: 2\n",
      "\n",
      "Cloned List:\n",
      "Data: 1, Random: 3\n",
      "Data: 2, Random: 1\n",
      "Data: 3, Random: 2\n"
     ]
    }
   ],
   "source": [
    "# //Clone a LinkedList with Next and Random Pointers\n",
    "class Node:\n",
    "    def __init__(self, data, next=None, random=None):\n",
    "        self.data = data\n",
    "        self.next = next\n",
    "        self.random = random\n",
    "\n",
    "class LinkedList:\n",
    "    def __init__(self):\n",
    "        self.head = None\n",
    "\n",
    "    def append(self, data):\n",
    "        new_node = Node(data)\n",
    "        if not self.head:\n",
    "            self.head = new_node\n",
    "            return\n",
    "        curr = self.head\n",
    "        while curr.next:\n",
    "            curr = curr.next\n",
    "        curr.next = new_node\n",
    "\n",
    "    def print_list(self):\n",
    "        curr = self.head\n",
    "        while curr:\n",
    "            rand = curr.random.data if curr.random else \"None\"\n",
    "            print(f\"Data: {curr.data}, Random: {rand}\")\n",
    "            curr = curr.next\n",
    "\n",
    "    def clone(self):\n",
    "        if not self.head:\n",
    "            return None\n",
    "\n",
    "        # Step 1: Insert cloned nodes after original nodes\n",
    "        curr = self.head\n",
    "        while curr:\n",
    "            new_node = Node(curr.data, curr.next)\n",
    "            curr.next = new_node\n",
    "            curr = new_node.next\n",
    "\n",
    "        # Step 2: Set random pointers\n",
    "        curr = self.head\n",
    "        while curr:\n",
    "            if curr.random:\n",
    "                curr.next.random = curr.random.next\n",
    "            curr = curr.next.next\n",
    "\n",
    "        # Step 3: Separate the original and cloned list\n",
    "        original = self.head\n",
    "        clone_head = self.head.next\n",
    "        clone = clone_head\n",
    "        while original:\n",
    "            original.next = original.next.next\n",
    "            if clone.next:\n",
    "                clone.next = clone.next.next\n",
    "            original = original.next\n",
    "            clone = clone.next\n",
    "\n",
    "        return clone_head\n",
    "# Create original list with random links\n",
    "ll = LinkedList()\n",
    "ll.append(1)\n",
    "ll.append(2)\n",
    "ll.append(3)\n",
    "\n",
    "# Manually set random pointers\n",
    "ll.head.random = ll.head.next.next  # 1 -> 3\n",
    "ll.head.next.random = ll.head       # 2 -> 1\n",
    "ll.head.next.next.random = ll.head.next  # 3 -> 2\n",
    "\n",
    "print(\"Original List:\")\n",
    "ll.print_list()\n",
    "\n",
    "# Clone list\n",
    "cloned_head = ll.clone()\n",
    "\n",
    "# Print cloned list\n",
    "print(\"\\nCloned List:\")\n",
    "curr = cloned_head\n",
    "while curr:\n",
    "    rand = curr.random.data if curr.random else \"None\"\n",
    "    print(f\"Data: {curr.data}, Random: {rand}\")\n",
    "    curr = curr.next\n"
   ]
  },
  {
   "cell_type": "code",
   "execution_count": 2,
   "id": "1939b74b",
   "metadata": {},
   "outputs": [
    {
     "name": "stdout",
     "output_type": "stream",
     "text": [
      "Selected meeting indices: [1, 2, 4, 5]\n",
      "Max meetings: 4\n"
     ]
    }
   ],
   "source": [
    "#greedy algorithm\n",
    "# N Meeting in One Room \n",
    "def max_meetings(start, end, n):\n",
    "    meetings = []\n",
    "\n",
    "    # Store: (end_time, start_time, original_index)\n",
    "    for i in range(n):\n",
    "        meetings.append((end[i], start[i], i + 1))  # +1 for 1-based index\n",
    "\n",
    "    # Sort by end time\n",
    "    meetings.sort()\n",
    "\n",
    "    result = []\n",
    "    last_end_time = 0\n",
    "\n",
    "    for end_time, start_time, index in meetings:\n",
    "        if start_time > last_end_time:\n",
    "            result.append(index)\n",
    "            last_end_time = end_time\n",
    "\n",
    "    print(\"Selected meeting indices:\", result)\n",
    "    return len(result)\n",
    "start = [1, 3, 0, 5, 8, 5]\n",
    "end   = [2, 4, 6, 7, 9, 9]\n",
    "n = len(start)\n",
    "\n",
    "print(\"Max meetings:\", max_meetings(start, end, n))\n",
    "\n"
   ]
  },
  {
   "cell_type": "code",
   "execution_count": 3,
   "id": "11fbc78c",
   "metadata": {},
   "outputs": [
    {
     "name": "stdout",
     "output_type": "stream",
     "text": [
      "3\n"
     ]
    }
   ],
   "source": [
    "# Minimum number of platforms required in a railway station\n",
    "def find_min_platforms(arr, dep, n):\n",
    "    arr.sort()\n",
    "    dep.sort()\n",
    "\n",
    "    platform_needed = 0\n",
    "    max_platforms = 0\n",
    "    i = 0  # pointer for arrivals\n",
    "    j = 0  # pointer for departures\n",
    "\n",
    "    while i < n and j < n:\n",
    "        if arr[i] <= dep[j]:\n",
    "            platform_needed += 1\n",
    "            i += 1\n",
    "        else:\n",
    "            platform_needed -= 1\n",
    "            j += 1\n",
    "\n",
    "        max_platforms = max(max_platforms, platform_needed)\n",
    "\n",
    "    return max_platforms\n",
    "arr = [900, 940, 950, 1100, 1500, 1800]\n",
    "dep = [910, 1200, 1120, 1130, 1900, 2000]\n",
    "n = len(arr)\n",
    "\n",
    "print(find_min_platforms(arr, dep, n))  # Output: 3\n"
   ]
  },
  {
   "cell_type": "code",
   "execution_count": 5,
   "id": "0bbcba9a",
   "metadata": {},
   "outputs": [
    {
     "name": "stdout",
     "output_type": "stream",
     "text": [
      "(2, 60)\n"
     ]
    }
   ],
   "source": [
    "#Job sequencing Problem\n",
    "def job_sequencing(jobs):\n",
    "    # Each job is (id, deadline, profit)\n",
    "    # Step 1: Sort jobs by profit descending\n",
    "    jobs.sort(key=lambda x: x[2], reverse=True)\n",
    "\n",
    "    n = max(job[1] for job in jobs)  # max deadline to size the slots\n",
    "    slots = [False] * n\n",
    "    job_done = 0\n",
    "    total_profit = 0\n",
    "\n",
    "    for job in jobs:\n",
    "        job_id, deadline, profit = job\n",
    "\n",
    "        # Step 2: Find a free slot from (deadline-1) to 0\n",
    "        for j in range(min(n, deadline)-1, -1, -1):\n",
    "            if not slots[j]:\n",
    "                slots[j] = True\n",
    "                job_done += 1\n",
    "                total_profit += profit\n",
    "                break\n",
    "\n",
    "    return job_done, total_profit\n",
    "jobs = [(1, 4, 20), (2, 1, 10), (3, 1, 40), (4, 1, 30)]\n",
    "print(job_sequencing(jobs))"
   ]
  },
  {
   "cell_type": "code",
   "execution_count": 6,
   "id": "90da6b6d",
   "metadata": {},
   "outputs": [
    {
     "name": "stdout",
     "output_type": "stream",
     "text": [
      "240.0\n"
     ]
    }
   ],
   "source": [
    "#Fractional Knapsack Problem\n",
    "def fractional_knapsack(value, weight, capacity):\n",
    "    n = len(value)\n",
    "    items = []\n",
    "\n",
    "    for i in range(n):\n",
    "        items.append((value[i], weight[i], value[i] / weight[i]))  # (value, weight, ratio)\n",
    "\n",
    "    # Step 1: Sort by value/weight ratio in descending order\n",
    "    items.sort(key=lambda x: x[2], reverse=True)\n",
    "\n",
    "    total_value = 0.0\n",
    "    for val, wt, ratio in items:\n",
    "        if capacity >= wt:\n",
    "            capacity -= wt\n",
    "            total_value += val\n",
    "        else:\n",
    "            total_value += ratio * capacity\n",
    "            break\n",
    "\n",
    "    return total_value\n",
    "value = [60, 100, 120]\n",
    "weight = [10, 20, 30]\n",
    "capacity = 50\n",
    "\n",
    "print(fractional_knapsack(value, weight, capacity))  # Output: 240.0"
   ]
  },
  {
   "cell_type": "code",
   "execution_count": 9,
   "id": "d95acd78",
   "metadata": {},
   "outputs": [
    {
     "name": "stdout",
     "output_type": "stream",
     "text": [
      "coins_used=  [50, 20, 20, 2, 1]\n",
      "min_no_of_coins=  5\n"
     ]
    }
   ],
   "source": [
    "#Greedy algorithm to find minimum number of coins\n",
    "def min_coins(coins, amount):\n",
    "    coins.sort(reverse=True)  # Sort coins in descending order\n",
    "    result = []\n",
    "    \n",
    "    for coin in coins:\n",
    "        while amount >= coin:\n",
    "            amount -= coin\n",
    "            result.append(coin)\n",
    "     \n",
    "    return result,len(result)  # returns the list of coins used\n",
    "coins = [1, 2, 5, 10, 20, 50, 100, 500, 2000]\n",
    "amount = 93\n",
    "coins_used,min_no_of_coins=min_coins(coins, amount)\n",
    "print(\"coins_used= \",coins_used)\n",
    "print(\"min_no_of_coins= \",min_no_of_coins)"
   ]
  },
  {
   "cell_type": "code",
   "execution_count": 10,
   "id": "f0f52cc9",
   "metadata": {},
   "outputs": [
    {
     "name": "stdout",
     "output_type": "stream",
     "text": [
      "1\n"
     ]
    }
   ],
   "source": [
    "#Assign Cookies\n",
    "def find_content_children(g, s):\n",
    "    g.sort()\n",
    "    s.sort()\n",
    "\n",
    "    child = 0  # index for g\n",
    "    cookie = 0  # index for s\n",
    "\n",
    "    while child < len(g) and cookie < len(s):\n",
    "        if s[cookie] >= g[child]:\n",
    "            child += 1  # child is satisfied\n",
    "        cookie += 1  # move to next cookie regardless\n",
    "\n",
    "    return child\n",
    "g = [1, 2, 3]\n",
    "s = [1, 1]\n",
    "\n",
    "print(find_content_children(g, s))  # Output: 1\n"
   ]
  },
  {
   "cell_type": "markdown",
   "id": "de4c224c",
   "metadata": {},
   "source": [
    "# recursion"
   ]
  },
  {
   "cell_type": "code",
   "execution_count": 2,
   "id": "5edf6400",
   "metadata": {},
   "outputs": [
    {
     "name": "stdout",
     "output_type": "stream",
     "text": [
      "[6, 3, 4, 1, 5, 2, 3, 0]\n"
     ]
    }
   ],
   "source": [
    "#Subset Sum I\n",
    "def subset_sums(i, arr, n, sum_, result):\n",
    "    if i == n:\n",
    "        result.append(sum_)\n",
    "        return\n",
    "\n",
    "    # Include current element\n",
    "    subset_sums(i + 1, arr, n, sum_ + arr[i], result)\n",
    "    # Exclude current element\n",
    "    subset_sums(i + 1, arr, n, sum_, result)\n",
    "\n",
    "def get_all_subset_sums(arr):\n",
    "    result = []\n",
    "    subset_sums(0, arr, len(arr), 0, result)\n",
    "    return result\n",
    "\n",
    "arr = [1, 2, 3]\n",
    "print(get_all_subset_sums(arr))  # Output: [6, 3, 4, 1, 5, 2, 3, 0]\n"
   ]
  },
  {
   "cell_type": "code",
   "execution_count": 5,
   "id": "a2ae713f",
   "metadata": {},
   "outputs": [
    {
     "name": "stdout",
     "output_type": "stream",
     "text": [
      "[[], [1], [1, 2], [1, 2, 2], [2], [2, 2]]\n"
     ]
    }
   ],
   "source": [
    "#Subset Sum II for duplicate arrr\n",
    "def subsetsWithDup(arr):\n",
    "    res = []\n",
    "    arr.sort()\n",
    "\n",
    "    def backtrack(index, path):\n",
    "        res.append(path[:])\n",
    "        for i in range(index, len(arr)):\n",
    "            # Skip duplicates\n",
    "            if i > index and arr[i] == arr[i - 1]:\n",
    "                continue\n",
    "            path.append(arr[i])\n",
    "            backtrack(i + 1, path)\n",
    "            path.pop()\n",
    "\n",
    "    backtrack(0, [])\n",
    "    return res\n",
    "\n",
    "# Example\n",
    "arr = [1, 2, 2]\n",
    "print(subsetsWithDup(arr))\n"
   ]
  },
  {
   "cell_type": "code",
   "execution_count": 4,
   "id": "51d34efd",
   "metadata": {},
   "outputs": [
    {
     "name": "stdout",
     "output_type": "stream",
     "text": [
      "[[2, 2, 3], [7]]\n"
     ]
    }
   ],
   "source": [
    "#Combination Sum I\n",
    "def combination_sum(candidates, target):\n",
    "    def backtrack(start, path, total):\n",
    "        if total == target:\n",
    "            result.append(path[:])\n",
    "            return\n",
    "        if total > target:\n",
    "            return\n",
    "\n",
    "        for i in range(start, len(candidates)):\n",
    "            path.append(candidates[i])                        # Choose\n",
    "            backtrack(i, path, total + candidates[i])         # Explore (same index for reuse)\n",
    "            path.pop()                                         # Un-choose (backtrack)\n",
    "\n",
    "    result = []\n",
    "    backtrack(0, [], 0)\n",
    "    return result\n",
    "candidates = [2, 3, 6, 7]\n",
    "target = 7\n",
    "print(combination_sum(candidates, target))\n"
   ]
  },
  {
   "cell_type": "code",
   "execution_count": 4,
   "id": "841a6a6a",
   "metadata": {},
   "outputs": [
    {
     "name": "stdout",
     "output_type": "stream",
     "text": [
      "[[1, 1, 6], [1, 2, 5], [1, 7], [2, 6]]\n"
     ]
    }
   ],
   "source": [
    "#combination II\n",
    "def combination_sum_2(candidates, target):\n",
    "    def backtrack(start, target, path):\n",
    "        if target == 0:\n",
    "            result.append(path[:])\n",
    "            return\n",
    "        for i in range(start, len(candidates)):\n",
    "            if i > start and candidates[i] == candidates[i - 1]:\n",
    "                continue  # skip duplicates\n",
    "            if candidates[i] > target:\n",
    "                break  # pruning\n",
    "            path.append(candidates[i])\n",
    "            backtrack(i + 1, target - candidates[i], path)\n",
    "            path.pop()\n",
    "\n",
    "    candidates.sort()\n",
    "    result = []\n",
    "    backtrack(0, target, [])\n",
    "    return result\n",
    "\n",
    "# Example usage\n",
    "candidates = [10, 1, 2, 7, 6, 1, 5]\n",
    "target = 8\n",
    "print(combination_sum_2(candidates, target))\n",
    "# Output: [[1, 1, 6], [1, 2, 5], [1, 7], [2, 6]]\n",
    "\n"
   ]
  },
  {
   "cell_type": "code",
   "execution_count": 3,
   "id": "ac4b0f86",
   "metadata": {},
   "outputs": [
    {
     "name": "stdout",
     "output_type": "stream",
     "text": [
      "[['a', 'a', 'b'], ['aa', 'b']]\n"
     ]
    }
   ],
   "source": [
    "#partitioning palindrome\n",
    "def is_palindrome(s):\n",
    "    return s == s[::-1]\n",
    "\n",
    "def backtrack(s, start, path, result):\n",
    "    if start == len(s):\n",
    "        result.append(path[:])\n",
    "        return\n",
    "    for end in range(start + 1, len(s) + 1):\n",
    "        substring = s[start:end]\n",
    "        if is_palindrome(substring):\n",
    "            path.append(substring)\n",
    "            backtrack(s, end, path, result)\n",
    "            path.pop()\n",
    "\n",
    "def palindrome_partition(s):\n",
    "    result = []\n",
    "    backtrack(s, 0, [], result)\n",
    "    return result\n",
    "print(palindrome_partition(\"aab\"))\n",
    "# Output: [['a', 'a', 'b'], ['aa', 'b']]"
   ]
  },
  {
   "cell_type": "code",
   "execution_count": 6,
   "id": "8198e6e0",
   "metadata": {},
   "outputs": [
    {
     "name": "stdout",
     "output_type": "stream",
     "text": [
      "3412\n"
     ]
    }
   ],
   "source": [
    "#K-th Permutation Sequence \n",
    "def get_permutation(n, k):\n",
    "    from math import factorial\n",
    "\n",
    "    numbers = [str(i) for i in range(1, n + 1)]\n",
    "    k -= 1  # convert to 0-based index\n",
    "    result = \"\"\n",
    "\n",
    "    for i in range(n, 0, -1):\n",
    "        f = factorial(i - 1)\n",
    "        index = k // f\n",
    "        result += numbers.pop(index)\n",
    "        k %= f\n",
    "\n",
    "    return result\n",
    "print(get_permutation(4, 17))  # Output: \"213\""
   ]
  },
  {
   "cell_type": "markdown",
   "id": "3d37d302",
   "metadata": {},
   "source": [
    "# recursion with backtrack"
   ]
  },
  {
   "cell_type": "code",
   "execution_count": 1,
   "id": "5c6a1c7f",
   "metadata": {},
   "outputs": [
    {
     "name": "stdout",
     "output_type": "stream",
     "text": [
      "[1, 2, 3]\n",
      "[1, 3, 2]\n",
      "[2, 1, 3]\n",
      "[2, 3, 1]\n",
      "[3, 2, 1]\n",
      "[3, 1, 2]\n"
     ]
    }
   ],
   "source": [
    "#Print all Permutations of a String/Array\n",
    "def permute_array(arr, index):\n",
    "    if index == len(arr):\n",
    "        print(arr)\n",
    "    else:\n",
    "        for i in range(index, len(arr)):\n",
    "            arr[index], arr[i] = arr[i], arr[index]  # swap\n",
    "            permute_array(arr, index + 1)\n",
    "            arr[index], arr[i] = arr[i], arr[index]  # backtrack\n",
    "\n",
    "# Example\n",
    "arr = [1, 2, 3]\n",
    "permute_array(arr, 0)\n"
   ]
  },
  {
   "cell_type": "code",
   "execution_count": 2,
   "id": "66862fb5",
   "metadata": {},
   "outputs": [
    {
     "name": "stdout",
     "output_type": "stream",
     "text": [
      "Total solutions for 4-Queens: 2\n",
      "\n",
      "Solution 1:\n",
      ".Q..\n",
      "...Q\n",
      "Q...\n",
      "..Q.\n",
      "\n",
      "Solution 2:\n",
      "..Q.\n",
      "Q...\n",
      "...Q\n",
      ".Q..\n",
      "\n"
     ]
    }
   ],
   "source": [
    "#N-Queens\n",
    "def solve_n_queens(n):\n",
    "    res = []\n",
    "    board = []\n",
    "\n",
    "    def backtrack(row, cols, pos_diags, neg_diags):\n",
    "        if row == n:\n",
    "            # Construct the board from column positions in 'board'\n",
    "            solution = [\".\" * c + \"Q\" + \".\" * (n - c - 1) for c in board]\n",
    "            res.append(solution)\n",
    "            return\n",
    "\n",
    "        for col in range(n):\n",
    "            if col in cols or (row + col) in pos_diags or (row - col) in neg_diags:\n",
    "                continue\n",
    "\n",
    "            board.append(col)\n",
    "            backtrack(\n",
    "                row + 1,\n",
    "                cols | {col},\n",
    "                pos_diags | {row + col},\n",
    "                neg_diags | {row - col}\n",
    "            )\n",
    "            board.pop()\n",
    "\n",
    "    backtrack(0, set(), set(), set())\n",
    "    return res\n",
    "\n",
    "# Example usage\n",
    "n = 4\n",
    "solutions = solve_n_queens(n)\n",
    "print(f\"Total solutions for {n}-Queens: {len(solutions)}\\n\")\n",
    "for i, sol in enumerate(solutions, 1):\n",
    "    print(f\"Solution {i}:\")\n",
    "    for row in sol:\n",
    "        print(row)\n",
    "    print()\n"
   ]
  },
  {
   "cell_type": "code",
   "execution_count": 3,
   "id": "fe4d4bca",
   "metadata": {},
   "outputs": [
    {
     "name": "stdout",
     "output_type": "stream",
     "text": [
      "5 3 4 6 7 8 9 1 2\n",
      "6 7 2 1 9 5 3 4 8\n",
      "1 9 8 3 4 2 5 6 7\n",
      "8 5 9 7 6 1 4 2 3\n",
      "4 2 6 8 5 3 7 9 1\n",
      "7 1 3 9 2 4 8 5 6\n",
      "9 6 1 5 3 7 2 8 4\n",
      "2 8 7 4 1 9 6 3 5\n",
      "3 4 5 2 8 6 1 7 9\n"
     ]
    }
   ],
   "source": [
    "#Sudoko Solver\n",
    "def solve_sudoku(board):\n",
    "    def is_valid(r, c, ch):\n",
    "        for i in range(9):\n",
    "            if board[r][i] == ch or board[i][c] == ch:\n",
    "                return False\n",
    "            if board[3 * (r // 3) + i // 3][3 * (c // 3) + i % 3] == ch:\n",
    "                return False\n",
    "        return True\n",
    "\n",
    "    def backtrack():\n",
    "        for r in range(9):\n",
    "            for c in range(9):\n",
    "                if board[r][c] == '.':\n",
    "                    for ch in '123456789':\n",
    "                        if is_valid(r, c, ch):\n",
    "                            board[r][c] = ch\n",
    "                            if backtrack():\n",
    "                                return True\n",
    "                            board[r][c] = '.'  # Backtrack\n",
    "                    return False  # No valid digit found\n",
    "        return True  # Solved\n",
    "\n",
    "    backtrack()\n",
    "board = [\n",
    "    [\"5\",\"3\",\".\",\".\",\"7\",\".\",\".\",\".\",\".\"],\n",
    "    [\"6\",\".\",\".\",\"1\",\"9\",\"5\",\".\",\".\",\".\"],\n",
    "    [\".\",\"9\",\"8\",\".\",\".\",\".\",\".\",\"6\",\".\"],\n",
    "    [\"8\",\".\",\".\",\".\",\"6\",\".\",\".\",\".\",\"3\"],\n",
    "    [\"4\",\".\",\".\",\"8\",\".\",\"3\",\".\",\".\",\"1\"],\n",
    "    [\"7\",\".\",\".\",\".\",\"2\",\".\",\".\",\".\",\"6\"],\n",
    "    [\".\",\"6\",\".\",\".\",\".\",\".\",\"2\",\"8\",\".\"],\n",
    "    [\".\",\".\",\".\",\"4\",\"1\",\"9\",\".\",\".\",\"5\"],\n",
    "    [\".\",\".\",\".\",\".\",\"8\",\".\",\".\",\"7\",\"9\"]\n",
    "]\n",
    "\n",
    "solve_sudoku(board)\n",
    "\n",
    "for row in board:\n",
    "    print(\" \".join(row))\n"
   ]
  },
  {
   "cell_type": "code",
   "execution_count": 5,
   "id": "7240be20",
   "metadata": {},
   "outputs": [
    {
     "name": "stdout",
     "output_type": "stream",
     "text": [
      "cat sand dog\n",
      "cats and dog\n"
     ]
    }
   ],
   "source": [
    "#Word Break (print all ways)\n",
    "def word_break(s, wordDict):\n",
    "    word_set = set(wordDict)\n",
    "    memo = {}\n",
    "\n",
    "    def backtrack(start):\n",
    "        if start == len(s):\n",
    "            return [[]]  # Return a list with an empty list to start building sentences\n",
    "\n",
    "        if start in memo:\n",
    "            return memo[start]\n",
    "\n",
    "        result = []\n",
    "        for end in range(start + 1, len(s) + 1):\n",
    "            word = s[start:end]\n",
    "            if word in word_set:\n",
    "                for sublist in backtrack(end):\n",
    "                    result.append([word] + sublist)\n",
    "\n",
    "        memo[start] = result\n",
    "        return result\n",
    "\n",
    "    # Build sentences from list of words\n",
    "    sentences = backtrack(0)\n",
    "    for words in sentences:\n",
    "        print(\" \".join(words))\n",
    "s = \"catsanddog\"\n",
    "wordDict = [\"cat\", \"cats\", \"and\", \"sand\", \"dog\"]\n",
    "word_break(s, wordDict)\n"
   ]
  },
  {
   "cell_type": "code",
   "execution_count": null,
   "id": "4b0c29fb",
   "metadata": {},
   "outputs": [],
   "source": [
    "#HEAP"
   ]
  },
  {
   "cell_type": "code",
   "execution_count": 15,
   "id": "8e39edf6",
   "metadata": {},
   "outputs": [
    {
     "name": "stdout",
     "output_type": "stream",
     "text": [
      "Max: 20\n",
      "Extracted: 20\n"
     ]
    }
   ],
   "source": [
    "# MAX HEAP\n",
    "import heapq\n",
    "class MaxHeap:\n",
    "    def __init__(self):\n",
    "        self.heap = []\n",
    "\n",
    "    def insert(self, val):\n",
    "        heapq.heappush(self.heap, -val)\n",
    "\n",
    "    def get_max(self):\n",
    "        return -self.heap[0] if self.heap else None\n",
    "\n",
    "    def extract_max(self):\n",
    "        if not self.heap:\n",
    "            return None\n",
    "        return -heapq.heappop(self.heap)\n",
    "\n",
    "    def heapify(self, iterable):\n",
    "        self.heap = [-val for val in iterable]\n",
    "        heapq.heapify(self.heap)\n",
    "\n",
    "    def size(self):\n",
    "        return len(self.heap)\n",
    "\n",
    "    def is_empty(self):\n",
    "        return not self.heap\n",
    "max_heap = MaxHeap()\n",
    "max_heap.insert(10)\n",
    "max_heap.insert(5)\n",
    "max_heap.insert(20)\n",
    "print(\"Max:\", max_heap.get_max())  # Output: 20\n",
    "print(\"Extracted:\", max_heap.extract_max())  # Output: 20"
   ]
  },
  {
   "cell_type": "code",
   "execution_count": 2,
   "id": "03fafe04",
   "metadata": {},
   "outputs": [
    {
     "name": "stdout",
     "output_type": "stream",
     "text": [
      "Min: 5\n",
      "Extracted: 5\n"
     ]
    }
   ],
   "source": [
    "#MIN-HEAP\n",
    "import heapq\n",
    "\n",
    "class MinHeap:\n",
    "    def __init__(self):\n",
    "        self.heap = []\n",
    "\n",
    "    def insert(self, val):\n",
    "        heapq.heappush(self.heap, val)\n",
    "\n",
    "    def get_min(self):\n",
    "        return self.heap[0] if self.heap else None\n",
    "\n",
    "    def extract_min(self):\n",
    "        if not self.heap:\n",
    "            return None\n",
    "        return heapq.heappop(self.heap)\n",
    "\n",
    "    def heapify(self, iterable):\n",
    "        self.heap = list(iterable)\n",
    "        heapq.heapify(self.heap)\n",
    "\n",
    "    def size(self):\n",
    "        return len(self.heap)\n",
    "\n",
    "    def is_empty(self):\n",
    "        return not self.heap\n",
    "min_heap = MinHeap()\n",
    "min_heap.insert(10)\n",
    "min_heap.insert(5)\n",
    "min_heap.insert(20)\n",
    "print(\"Min:\", min_heap.get_min())  # Output: 5\n",
    "print(\"Extracted:\", min_heap.extract_min())  # Output: 5"
   ]
  },
  {
   "cell_type": "code",
   "execution_count": 4,
   "id": "8e5bb64c",
   "metadata": {},
   "outputs": [
    {
     "name": "stdout",
     "output_type": "stream",
     "text": [
      "3th largest element is: 4\n"
     ]
    }
   ],
   "source": [
    "#FInd kth largest element heap\n",
    "import heapq\n",
    "\n",
    "def find_kth_largest(nums, k):\n",
    "    # Create a min heap of the first k elements\n",
    "    min_heap = nums[:k]\n",
    "    heapq.heapify(min_heap)\n",
    "\n",
    "    # Process the remaining elements\n",
    "    for i in range(k, len(nums)):\n",
    "        if nums[i] > min_heap[0]:\n",
    "            heapq.heappushpop(min_heap, nums[i])\n",
    "\n",
    "    # Top of the min heap is the kth largest\n",
    "    return min_heap[0]\n",
    "\n",
    "# ----------- Example Usage ------------\n",
    "\n",
    "if __name__ == \"__main__\":\n",
    "    nums = [3, 2, 1, 5, 6, 4]\n",
    "    k = 3\n",
    "    result = find_kth_largest(nums, k)\n",
    "    print(f\"{k}th largest element is: {result}\")  # Output: 5\n"
   ]
  },
  {
   "cell_type": "code",
   "execution_count": 7,
   "id": "d91cece6",
   "metadata": {},
   "outputs": [
    {
     "name": "stdout",
     "output_type": "stream",
     "text": [
      "Top K max sum combinations: [10, 9, 9, 8]\n"
     ]
    }
   ],
   "source": [
    "# Maximum Sum Combination\n",
    "import heapq\n",
    "\n",
    "def max_sum_combinations(A, B, K):\n",
    "    A.sort(reverse=True)\n",
    "    B.sort(reverse=True)\n",
    "    N = len(A)\n",
    "\n",
    "    # Max heap\n",
    "    max_heap = []\n",
    "    visited = set()\n",
    "\n",
    "    # Initial pair (0,0)\n",
    "    initial_sum = A[0] + B[0]\n",
    "    heapq.heappush(max_heap, (-initial_sum, 0, 0))\n",
    "    visited.add((0, 0))\n",
    "\n",
    "    result = []\n",
    "\n",
    "    for _ in range(K):\n",
    "        curr_sum, i, j = heapq.heappop(max_heap)\n",
    "        result.append(-curr_sum)\n",
    "\n",
    "        # Next combination (i+1, j)\n",
    "        if i + 1 < N and (i + 1, j) not in visited:\n",
    "            heapq.heappush(max_heap, (-(A[i + 1] + B[j]), i + 1, j))\n",
    "            visited.add((i + 1, j))\n",
    "\n",
    "        # Next combination (i, j+1)\n",
    "        if j + 1 < N and (i, j + 1) not in visited:\n",
    "            heapq.heappush(max_heap, (-(A[i] + B[j + 1]), i, j + 1))\n",
    "            visited.add((i, j + 1))\n",
    "\n",
    "    return result\n",
    "A = [1, 4, 2, 3]\n",
    "B = [2, 5, 1, 6]\n",
    "K = 4\n",
    "\n",
    "print(\"Top K max sum combinations:\", max_sum_combinations(A, B, K))\n",
    "# Output: [10, 9, 9, 8]\n"
   ]
  },
  {
   "cell_type": "code",
   "execution_count": 1,
   "id": "82cf4450",
   "metadata": {},
   "outputs": [
    {
     "name": "stdout",
     "output_type": "stream",
     "text": [
      "1.5\n",
      "2\n"
     ]
    }
   ],
   "source": [
    "#Find Median from Data Streamf\n",
    "import heapq\n",
    "\n",
    "class MedianFinder:\n",
    "    def __init__(self):\n",
    "        self.lower = []  # Max heap (invert values for max behavior)\n",
    "        self.higher = [] # Min heap\n",
    "\n",
    "    def addNum(self, num: int) -> None:\n",
    "        # Push to max heap (invert sign because heapq is min heap)\n",
    "        heapq.heappush(self.lower, -num)\n",
    "        \n",
    "        # Balance max-heap's largest to min-heap\n",
    "        heapq.heappush(self.higher, -heapq.heappop(self.lower))\n",
    "        \n",
    "        # Keep sizes balanced\n",
    "        if len(self.higher) > len(self.lower):\n",
    "            heapq.heappush(self.lower, -heapq.heappop(self.higher))\n",
    "\n",
    "    def findMedian(self) -> float:\n",
    "        if len(self.lower) > len(self.higher):\n",
    "            return -self.lower[0]\n",
    "        else:\n",
    "            return (-self.lower[0] + self.higher[0]) / 2.0\n",
    "mf = MedianFinder()\n",
    "mf.addNum(1)\n",
    "mf.addNum(2)\n",
    "print(mf.findMedian())  # Output: 1.5\n",
    "mf.addNum(3)\n",
    "print(mf.findMedian())  # Output: 2"
   ]
  },
  {
   "cell_type": "code",
   "execution_count": 2,
   "id": "43d8e311",
   "metadata": {},
   "outputs": [
    {
     "name": "stdout",
     "output_type": "stream",
     "text": [
      "[1, 1, 2, 3, 4, 4, 5, 6]\n"
     ]
    }
   ],
   "source": [
    "#Merge K sorted arrays\n",
    "import heapq\n",
    "\n",
    "def merge_k_sorted_arrays(arrays):\n",
    "    result = []\n",
    "    min_heap = []\n",
    "\n",
    "    # Step 1: Put the first element of each array into the heap\n",
    "    for i, array in enumerate(arrays):\n",
    "        if array:\n",
    "            heapq.heappush(min_heap, (array[0], i, 0))  # (value, array_index, element_index)\n",
    "\n",
    "    # Step 2: Extract-min and push the next element from that array\n",
    "    while min_heap:\n",
    "        val, row, col = heapq.heappop(min_heap)\n",
    "        result.append(val)\n",
    "\n",
    "        if col + 1 < len(arrays[row]):\n",
    "            next_val = arrays[row][col + 1]\n",
    "            heapq.heappush(min_heap, (next_val, row, col + 1))\n",
    "\n",
    "    return result\n",
    "arrays = [\n",
    "    [1, 4, 5],\n",
    "    [1, 3, 4],\n",
    "    [2, 6]\n",
    "]\n",
    "\n",
    "merged = merge_k_sorted_arrays(arrays)\n",
    "print(merged)  # Output: [1, 1, 2, 3, 4, 4, 5, 6]\n"
   ]
  },
  {
   "cell_type": "code",
   "execution_count": 8,
   "id": "a5f4e2ff",
   "metadata": {},
   "outputs": [
    {
     "name": "stdout",
     "output_type": "stream",
     "text": [
      "[2, 1]\n"
     ]
    }
   ],
   "source": [
    "#K most frequent elements\n",
    "import heapq\n",
    "from collections import Counter\n",
    "\n",
    "def top_k_frequent(nums, k):\n",
    "    freq_map = Counter(nums)  # Count frequency of each element\n",
    "\n",
    "    # Build a min-heap of size k using (frequency, element)\n",
    "    min_heap = []\n",
    "    for num, freq in freq_map.items():\n",
    "        heapq.heappush(min_heap, (freq, num))\n",
    "#         print(min_heap)\n",
    "        if len(min_heap) > k:\n",
    "            heapq.heappop(min_heap)\n",
    "    # Extract the elements from the heap\n",
    "    return [num for freq, num in min_heap]\n",
    "nums = [1,1,1,2,2,3]\n",
    "k = 2\n",
    "print(top_k_frequent(nums, k))  # Output: [1, 2]\n"
   ]
  },
  {
   "cell_type": "markdown",
   "id": "8f2275bb",
   "metadata": {},
   "source": [
    "# stack Queue "
   ]
  },
  {
   "cell_type": "code",
   "execution_count": 1,
   "id": "a2caf55b",
   "metadata": {},
   "outputs": [
    {
     "name": "stdout",
     "output_type": "stream",
     "text": [
      "Stack from top to bottom:\n",
      "30\n",
      "20\n",
      "10\n",
      "Popped: 30\n",
      "Top Element: 20\n",
      "Stack from top to bottom:\n",
      "20\n",
      "10\n"
     ]
    }
   ],
   "source": [
    "#stack using array\n",
    "class Stack:\n",
    "    def __init__(self, size):\n",
    "        self.stack = [None] * size  # Array of fixed size\n",
    "        self.top = -1  # Stack is initially empty\n",
    "        self.max_size = size\n",
    "\n",
    "    # Push element to stack\n",
    "    def push(self, data):\n",
    "        if self.top >= self.max_size - 1:\n",
    "            print(\"Stack Overflow!\")\n",
    "            return\n",
    "        self.top += 1\n",
    "        self.stack[self.top] = data\n",
    "\n",
    "    # Pop element from stack\n",
    "    def pop(self):\n",
    "        if self.top == -1:\n",
    "            print(\"Stack Underflow!\")\n",
    "            return None\n",
    "        popped_element = self.stack[self.top]\n",
    "        self.stack[self.top] = None\n",
    "        self.top -= 1\n",
    "        return popped_element\n",
    "\n",
    "    # Peek at the top element\n",
    "    def peek(self):\n",
    "        if self.top == -1:\n",
    "            print(\"Stack is empty!\")\n",
    "            return None\n",
    "        return self.stack[self.top]\n",
    "\n",
    "    # Check if stack is empty\n",
    "    def is_empty(self):\n",
    "        return self.top == -1\n",
    "\n",
    "    # Display stack contents\n",
    "    def display(self):\n",
    "        if self.top == -1:\n",
    "            print(\"Stack is empty!\")\n",
    "        else:\n",
    "            print(\"Stack from top to bottom:\")\n",
    "            for i in range(self.top, -1, -1):\n",
    "                print(self.stack[i])\n",
    "\n",
    "# Example Usage\n",
    "if __name__ == \"__main__\":\n",
    "    s = Stack(5)\n",
    "    s.push(10)\n",
    "    s.push(20)\n",
    "    s.push(30)\n",
    "    s.display()\n",
    "    print(\"Popped:\", s.pop())\n",
    "    print(\"Top Element:\", s.peek())\n",
    "    s.display()\n"
   ]
  },
  {
   "cell_type": "code",
   "execution_count": 2,
   "id": "a69a887b",
   "metadata": {},
   "outputs": [
    {
     "name": "stdout",
     "output_type": "stream",
     "text": [
      "Queue elements:\n",
      "10\n",
      "20\n",
      "30\n",
      "Dequeued: 10\n",
      "Front Element: 20\n",
      "Queue elements:\n",
      "20\n",
      "30\n"
     ]
    }
   ],
   "source": [
    "#queue using array\n",
    "class Queue:\n",
    "    def __init__(self, size):\n",
    "        self.queue = [None] * size\n",
    "        self.front = 0\n",
    "        self.rear = -1\n",
    "        self.max_size = size\n",
    "        self.count = 0  # Number of elements in queue\n",
    "\n",
    "    # Enqueue operation\n",
    "    def enqueue(self, data):\n",
    "        if self.count == self.max_size:\n",
    "            print(\"Queue Overflow!\")\n",
    "            return\n",
    "        self.rear = (self.rear + 1) % self.max_size\n",
    "        self.queue[self.rear] = data\n",
    "        self.count += 1\n",
    "\n",
    "    # Dequeue operation\n",
    "    def dequeue(self):\n",
    "        if self.count == 0:\n",
    "            print(\"Queue Underflow!\")\n",
    "            return None\n",
    "        removed = self.queue[self.front]\n",
    "        self.queue[self.front] = None\n",
    "        self.front = (self.front + 1) % self.max_size\n",
    "        self.count -= 1\n",
    "        return removed\n",
    "\n",
    "    # Peek front element\n",
    "    def peek(self):\n",
    "        if self.count == 0:\n",
    "            print(\"Queue is empty!\")\n",
    "            return None\n",
    "        return self.queue[self.front]\n",
    "\n",
    "    # Check if queue is empty\n",
    "    def is_empty(self):\n",
    "        return self.count == 0\n",
    "\n",
    "    # Display queue elements\n",
    "    def display(self):\n",
    "        if self.count == 0:\n",
    "            print(\"Queue is empty!\")\n",
    "            return\n",
    "        print(\"Queue elements:\")\n",
    "        idx = self.front\n",
    "        for _ in range(self.count):\n",
    "            print(self.queue[idx])\n",
    "            idx = (idx + 1) % self.max_size\n",
    "\n",
    "# Example Usage\n",
    "if __name__ == \"__main__\":\n",
    "    q = Queue(5)\n",
    "    q.enqueue(10)\n",
    "    q.enqueue(20)\n",
    "    q.enqueue(30)\n",
    "    q.display()\n",
    "    print(\"Dequeued:\", q.dequeue())\n",
    "    print(\"Front Element:\", q.peek())\n",
    "    q.display()\n"
   ]
  },
  {
   "cell_type": "code",
   "execution_count": 4,
   "id": "11300d99",
   "metadata": {},
   "outputs": [
    {
     "name": "stdout",
     "output_type": "stream",
     "text": [
      "Next Greater Elements: [4, 2, 4, -1, -1]\n"
     ]
    }
   ],
   "source": [
    "#Next Greater Element\n",
    "def next_greater_elements(arr):\n",
    "    n = len(arr)\n",
    "    res = [-1] * n\n",
    "    stack = []  # This will store elements in decreasing order\n",
    "\n",
    "    for i in range(n - 1, -1, -1):\n",
    "        # Maintain decreasing order in stack\n",
    "        while stack and stack[-1] <= arr[i]:\n",
    "            stack.pop()\n",
    "        \n",
    "        if stack:\n",
    "            res[i] = stack[-1]\n",
    "        \n",
    "        # Push current element to stack\n",
    "        stack.append(arr[i])\n",
    "\n",
    "    return res\n",
    "\n",
    "# Example usage\n",
    "arr = [2, 1, 2, 4, 3]\n",
    "print(\"Next Greater Elements:\", next_greater_elements(arr))\n"
   ]
  },
  {
   "cell_type": "code",
   "execution_count": 5,
   "id": "1772be02",
   "metadata": {},
   "outputs": [
    {
     "name": "stdout",
     "output_type": "stream",
     "text": [
      "Original Stack: [30, -5, 18, 14, -3]\n",
      "Sorted Stack: [-5, -3, 14, 18, 30]\n"
     ]
    }
   ],
   "source": [
    "#sort stack\n",
    "def sort_stack(stack):\n",
    "    if len(stack) <= 1:\n",
    "        return\n",
    "    top = stack.pop()\n",
    "    sort_stack(stack)\n",
    "    insert_sorted(stack, top)\n",
    "\n",
    "def insert_sorted(stack, element):\n",
    "    # Base condition: stack is empty or top element is smaller\n",
    "    if not stack or element > stack[-1]:\n",
    "        stack.append(element)\n",
    "        return\n",
    "    temp = stack.pop()\n",
    "    insert_sorted(stack, element)\n",
    "    stack.append(temp)\n",
    "\n",
    "# Example usage\n",
    "stack = [30, -5, 18, 14, -3]\n",
    "print(\"Original Stack:\", stack)\n",
    "sort_stack(stack)\n",
    "print(\"Sorted Stack:\", stack)\n"
   ]
  },
  {
   "cell_type": "code",
   "execution_count": 10,
   "id": "1cd35036",
   "metadata": {},
   "outputs": [
    {
     "name": "stdout",
     "output_type": "stream",
     "text": [
      "##########\n",
      "15\n",
      "10\n",
      "5\n",
      "##########\n",
      "15\n",
      "15\n",
      "10\n",
      "10\n",
      "False\n",
      "5\n",
      "True\n"
     ]
    }
   ],
   "source": [
    "#stack using queue\n",
    "class Stack:\n",
    "    def __init__(self):\n",
    "        self.queue = []\n",
    "\n",
    "    def push(self, x):\n",
    "        self.queue.append(x)\n",
    "        # Rotate the queue to simulate stack behavior (LIFO)\n",
    "        for _ in range(len(self.queue) - 1):\n",
    "            self.queue.append(self.queue.pop(0))\n",
    "\n",
    "    def pop(self):\n",
    "        if self.is_empty():\n",
    "            return \"Stack Underflow\"\n",
    "        return self.queue.pop(0)\n",
    "\n",
    "    def top(self):\n",
    "        if self.is_empty():\n",
    "            return \"Stack is empty\"\n",
    "        return self.queue[0]\n",
    "\n",
    "    def is_empty(self):\n",
    "        return len(self.queue) == 0\n",
    "    def display(self):\n",
    "        if self.is_empty():\n",
    "            return \"Queue overflow\"\n",
    "        for i in range(len(self.queue)):\n",
    "            print(self.queue[i])\n",
    "        \n",
    "s = Stack()\n",
    "s.push(5)\n",
    "s.push(10)\n",
    "s.push(15)\n",
    "print(\"##########\")\n",
    "s.display()\n",
    "print(\"##########\")\n",
    "print(s.top())     # Output: 15\n",
    "print(s.pop())     # Output: 15\n",
    "print(s.top())     # Output: 10\n",
    "print(s.pop())     # Output: 10\n",
    "print(s.is_empty())  # Output: False\n",
    "print(s.pop())     # Output: 5\n",
    "print(s.is_empty())  # Output: True\n"
   ]
  },
  {
   "cell_type": "code",
   "execution_count": 3,
   "id": "d49bd1f0",
   "metadata": {},
   "outputs": [
    {
     "name": "stdout",
     "output_type": "stream",
     "text": [
      "10\n",
      "10\n",
      "20\n",
      "20\n",
      "False\n",
      "30\n",
      "True\n"
     ]
    }
   ],
   "source": [
    "#Queue using stack\n",
    "class Queue:\n",
    "    def __init__(self):\n",
    "        self.stack1 = []  # for enqueue\n",
    "        self.stack2 = []  # for dequeue\n",
    "\n",
    "    def enqueue(self, x):\n",
    "        self.stack1.append(x)\n",
    "\n",
    "    def dequeue(self):\n",
    "        if self.is_empty():\n",
    "            return \"Queue Underflow\"\n",
    "        \n",
    "        if not self.stack2:\n",
    "            while self.stack1:\n",
    "                self.stack2.append(self.stack1.pop())\n",
    "\n",
    "        return self.stack2.pop()\n",
    "\n",
    "    def front(self):\n",
    "        if self.is_empty():\n",
    "            return \"Queue is empty\"\n",
    "        \n",
    "        if not self.stack2:\n",
    "            while self.stack1:\n",
    "                self.stack2.append(self.stack1.pop())\n",
    "        \n",
    "        return self.stack2[-1]\n",
    "\n",
    "    def is_empty(self):\n",
    "        return not self.stack1 and not self.stack2\n",
    "q = Queue()\n",
    "q.enqueue(10)\n",
    "q.enqueue(20)\n",
    "q.enqueue(30)\n",
    "\n",
    "print(q.front())     # Output: 10\n",
    "print(q.dequeue())   # Output: 10\n",
    "print(q.front())     # Output: 20\n",
    "print(q.dequeue())   # Output: 20\n",
    "print(q.is_empty())  # Output: False\n",
    "print(q.dequeue())   # Output: 30\n",
    "print(q.is_empty())  # Output: True\n"
   ]
  },
  {
   "cell_type": "code",
   "execution_count": 4,
   "id": "73ce9a17",
   "metadata": {},
   "outputs": [
    {
     "name": "stdout",
     "output_type": "stream",
     "text": [
      "True\n",
      "False\n",
      "True\n",
      "False\n"
     ]
    }
   ],
   "source": [
    "#Check for Balanced Parentheses \n",
    "def is_balanced(expression):\n",
    "    stack = []\n",
    "    opening = \"({[\"\n",
    "    matching =  {')': '(', '}': '{', ']': '['}\n",
    "\n",
    "    for char in expression:\n",
    "        if char in opening:\n",
    "            stack.append(char)\n",
    "        elif char in matching:\n",
    "            if not stack or stack[-1] != matching[char]:\n",
    "                return False\n",
    "            stack.pop()\n",
    "    \n",
    "    return len(stack) == 0\n",
    "expr1 = \"({[]})\"\n",
    "expr2 = \"(([]){}\"\n",
    "expr3 = \"{[()]}\"\n",
    "expr4 = \"[{(})]\"\n",
    "\n",
    "print(is_balanced(expr1))  # True\n",
    "print(is_balanced(expr2))  # False\n",
    "print(is_balanced(expr3))  # True\n",
    "print(is_balanced(expr4))  # False\n"
   ]
  },
  {
   "cell_type": "code",
   "execution_count": null,
   "id": "02da2058",
   "metadata": {},
   "outputs": [],
   "source": [
    "# trapping rain water\n",
    "def trap(height):\n",
    "    if not height:\n",
    "        return 0\n",
    "\n",
    "    left, right = 0, len(height) - 1\n",
    "    left_max, right_max = height[left], height[right]\n",
    "    water = 0\n",
    "\n",
    "    while left < right:\n",
    "        if left_max < right_max:\n",
    "            left += 1\n",
    "            left_max = max(left_max, height[left])\n",
    "            water += left_max - height[left]\n",
    "        else:\n",
    "            right -= 1\n",
    "            right_max = max(right_max, height[right])\n",
    "            water += right_max - height[right]\n",
    "    \n",
    "    return water\n",
    "heights = [0,1,0,2,1,0,1,3,2,1,2,1]\n",
    "print(trap(heights))  # Output: 6\n"
   ]
  },
  {
   "cell_type": "code",
   "execution_count": 11,
   "id": "edd35b31",
   "metadata": {},
   "outputs": [],
   "source": [
    "#stack queue part II"
   ]
  },
  {
   "cell_type": "code",
   "execution_count": 3,
   "id": "a1d1d426",
   "metadata": {},
   "outputs": [
    {
     "name": "stdout",
     "output_type": "stream",
     "text": [
      "Next Smaller Elements: [1, -1, -1, 3, -1]\n"
     ]
    }
   ],
   "source": [
    "# Next Smaller Element\n",
    "#Next Greater Element\n",
    "def next_Smaller_elements(arr):\n",
    "    n = len(arr)\n",
    "    res = [-1] * n\n",
    "    stack = []  # This will store elements in decreasing order\n",
    "\n",
    "    for i in range(n - 1, -1, -1):\n",
    "        # Maintain decreasing order in stack\n",
    "        while stack and arr[i]<=stack[-1]:\n",
    "            stack.pop()\n",
    "        \n",
    "        if stack:\n",
    "            res[i] = stack[-1]\n",
    "        \n",
    "        # Push current element to stack\n",
    "        stack.append(arr[i])\n",
    "\n",
    "    return res\n",
    "\n",
    "# Example usage\n",
    "arr = [2, 1, 2, 4, 3]\n",
    "print(\"Next Smaller Elements:\", next_Smaller_elements(arr))\n"
   ]
  },
  {
   "cell_type": "code",
   "execution_count": 4,
   "id": "acbe353b",
   "metadata": {},
   "outputs": [
    {
     "name": "stdout",
     "output_type": "stream",
     "text": [
      "1\n",
      "-1\n",
      "-1\n",
      "3\n",
      "4\n"
     ]
    }
   ],
   "source": [
    "#  Implement LRU Cache\n",
    "from collections import OrderedDict\n",
    "\n",
    "class LRUCache:\n",
    "    def __init__(self, capacity: int):\n",
    "        self.cache = OrderedDict()\n",
    "        self.capacity = capacity\n",
    "\n",
    "    def get(self, key: int) -> int:\n",
    "        if key not in self.cache:\n",
    "            return -1\n",
    "        # Move the key to the end to show that it was recently used\n",
    "        self.cache.move_to_end(key)\n",
    "        return self.cache[key]\n",
    "\n",
    "    def put(self, key: int, value: int) -> None:\n",
    "        if key in self.cache:\n",
    "            # Remove old value\n",
    "            self.cache.move_to_end(key)\n",
    "        self.cache[key] = value\n",
    "        if len(self.cache) > self.capacity:\n",
    "            # Pop the first item (least recently used)\n",
    "            self.cache.popitem(last=False)\n",
    "lru = LRUCache(2)\n",
    "lru.put(1, 1)\n",
    "lru.put(2, 2)\n",
    "print(lru.get(1))    # Returns 1\n",
    "lru.put(3, 3)        # Evicts key 2\n",
    "print(lru.get(2))    # Returns -1 (not found)\n",
    "lru.put(4, 4)        # Evicts key 1\n",
    "print(lru.get(1))    # Returns -1 (not found)\n",
    "print(lru.get(3))    # Returns 3\n",
    "print(lru.get(4))    # Returns 4\n"
   ]
  },
  {
   "cell_type": "code",
   "execution_count": 6,
   "id": "80a7574d",
   "metadata": {},
   "outputs": [
    {
     "name": "stdout",
     "output_type": "stream",
     "text": [
      "1\n",
      "-1\n",
      "-1\n",
      "3\n",
      "4\n"
     ]
    }
   ],
   "source": [
    "#interview purpose\n",
    "class Node:\n",
    "    def __init__(self, key, value):\n",
    "        self.key = key\n",
    "        self.value = value\n",
    "        self.prev = None\n",
    "        self.next = None\n",
    "\n",
    "class LRUCache:\n",
    "    def __init__(self, capacity: int):\n",
    "        self.capacity = capacity\n",
    "        self.cache = {}  # key -> Node\n",
    "        # Dummy head and tail nodes\n",
    "        self.head = Node(0, 0)\n",
    "        self.tail = Node(0, 0)\n",
    "        self.head.next = self.tail\n",
    "        self.tail.prev = self.head\n",
    "\n",
    "    def _remove(self, node):\n",
    "        # Remove node from list\n",
    "        prev = node.prev\n",
    "        nxt = node.next\n",
    "        prev.next = nxt\n",
    "        nxt.prev = prev\n",
    "\n",
    "    def _add(self, node):\n",
    "        # Add node right after head\n",
    "        node.prev = self.head\n",
    "        node.next = self.head.next\n",
    "        self.head.next.prev = node\n",
    "        self.head.next = node\n",
    "\n",
    "    def get(self, key: int) -> int:\n",
    "        if key in self.cache:\n",
    "            node = self.cache[key]\n",
    "            self._remove(node)\n",
    "            self._add(node)  # Move to front\n",
    "            return node.value\n",
    "        return -1\n",
    "\n",
    "    def put(self, key: int, value: int) -> None:\n",
    "        if key in self.cache:\n",
    "            self._remove(self.cache[key])\n",
    "        node = Node(key, value)\n",
    "        self._add(node)\n",
    "        self.cache[key] = node\n",
    "\n",
    "        if len(self.cache) > self.capacity:\n",
    "            # Remove LRU from list and dict\n",
    "            lru = self.tail.prev\n",
    "            self._remove(lru)\n",
    "            del self.cache[lru.key]\n",
    "lru = LRUCache(2)\n",
    "lru.put(1, 1)\n",
    "lru.put(2, 2)\n",
    "print(lru.get(1))    # 1\n",
    "lru.put(3, 3)        # Removes key 2\n",
    "print(lru.get(2))    # -1\n",
    "lru.put(4, 4)        # Removes key 1\n",
    "print(lru.get(1))    # -1\n",
    "print(lru.get(3))    # 3\n",
    "print(lru.get(4))    # 4\n"
   ]
  },
  {
   "cell_type": "code",
   "execution_count": 7,
   "id": "2386ae67",
   "metadata": {},
   "outputs": [
    {
     "name": "stdout",
     "output_type": "stream",
     "text": [
      "1\n",
      "-1\n",
      "3\n"
     ]
    }
   ],
   "source": [
    "# LFU cache\n",
    "from collections import defaultdict, OrderedDict\n",
    "\n",
    "class LFUCache:\n",
    "    def __init__(self, capacity: int):\n",
    "        self.capacity = capacity\n",
    "        self.key_to_val_freq = {}\n",
    "        self.freq_to_keys = defaultdict(OrderedDict)\n",
    "        self.min_freq = 0\n",
    "\n",
    "    def _update_freq(self, key):\n",
    "        value, freq = self.key_to_val_freq[key]\n",
    "        # Remove from current freq bucket\n",
    "        del self.freq_to_keys[freq][key]\n",
    "        if not self.freq_to_keys[freq]:\n",
    "            del self.freq_to_keys[freq]\n",
    "            if freq == self.min_freq:\n",
    "                self.min_freq += 1\n",
    "\n",
    "        # Add to next freq bucket\n",
    "        self.freq_to_keys[freq + 1][key] = None\n",
    "        self.key_to_val_freq[key] = (value, freq + 1)\n",
    "\n",
    "    def get(self, key: int) -> int:\n",
    "        if key not in self.key_to_val_freq:\n",
    "            return -1\n",
    "        self._update_freq(key)\n",
    "        return self.key_to_val_freq[key][0]\n",
    "\n",
    "    def put(self, key: int, value: int) -> None:\n",
    "        if self.capacity == 0:\n",
    "            return\n",
    "\n",
    "        if key in self.key_to_val_freq:\n",
    "            # Update value and freq\n",
    "            self.key_to_val_freq[key] = (value, self.key_to_val_freq[key][1])\n",
    "            self._update_freq(key)\n",
    "        else:\n",
    "            # Evict if full\n",
    "            if len(self.key_to_val_freq) >= self.capacity:\n",
    "                # Remove LRU from min_freq bucket\n",
    "                evict_key, _ = self.freq_to_keys[self.min_freq].popitem(last=False)\n",
    "                del self.key_to_val_freq[evict_key]\n",
    "                if not self.freq_to_keys[self.min_freq]:\n",
    "                    del self.freq_to_keys[self.min_freq]\n",
    "\n",
    "            # Insert new key\n",
    "            self.key_to_val_freq[key] = (value, 1)\n",
    "            self.freq_to_keys[1][key] = None\n",
    "            self.min_freq = 1\n",
    "lfu = LFUCache(2)\n",
    "lfu.put(1, 1)\n",
    "lfu.put(2, 2)\n",
    "print(lfu.get(1))  # 1 → freq(1)=2\n",
    "lfu.put(3, 3)      # Evicts key 2 (freq=1 < freq=2)\n",
    "print(lfu.get(2))  # -1\n",
    "print(lfu.get(3))  # 3"
   ]
  },
  {
   "cell_type": "code",
   "execution_count": 8,
   "id": "adc753cc",
   "metadata": {},
   "outputs": [
    {
     "name": "stdout",
     "output_type": "stream",
     "text": [
      "10\n"
     ]
    }
   ],
   "source": [
    "# Largest Rectangle in Histogram\n",
    "def largestRectangleArea(heights):\n",
    "    stack = []  # stores indices\n",
    "    max_area = 0\n",
    "    n = len(heights)\n",
    "\n",
    "    for i in range(n + 1):\n",
    "        # Use 0 as a virtual bar at the end\n",
    "        h = 0 if i == n else heights[i]\n",
    "        while stack and h < heights[stack[-1]]:\n",
    "            height = heights[stack.pop()]\n",
    "            width = i if not stack else i - stack[-1] - 1\n",
    "            max_area = max(max_area, height * width)\n",
    "        stack.append(i)\n",
    "\n",
    "    return max_area\n",
    "heights = [2, 1, 5, 6, 2, 3]\n",
    "print(largestRectangleArea(heights))  # Output: 10\n"
   ]
  },
  {
   "cell_type": "code",
   "execution_count": 10,
   "id": "88075d7d",
   "metadata": {},
   "outputs": [
    {
     "name": "stdout",
     "output_type": "stream",
     "text": [
      "[3, 3, 5, 5, 6, 7]\n"
     ]
    }
   ],
   "source": [
    "# Sliding Window Maximum \n",
    "from collections import deque\n",
    "\n",
    "def maxSlidingWindow(nums, k):\n",
    "    n = len(nums)\n",
    "    q = deque()  # stores indices\n",
    "    result = []\n",
    "\n",
    "    for i in range(n):\n",
    "        # Remove elements out of the current window from front\n",
    "        if q and q[0] <= i - k:\n",
    "            q.popleft()\n",
    "\n",
    "        # Remove all elements smaller than current from back (maintain decreasing order)\n",
    "        while q and nums[q[-1]] < nums[i]:\n",
    "            q.pop()\n",
    "\n",
    "        q.append(i)\n",
    "\n",
    "        # Append the max to result starting from i >= k - 1\n",
    "        if i >= k - 1:\n",
    "            result.append(nums[q[0]])\n",
    "\n",
    "    return result\n",
    "nums = [1,3,-1,-3,5,3,6,7]\n",
    "k = 3  \n",
    "print(maxSlidingWindow(nums, k))"
   ]
  },
  {
   "cell_type": "code",
   "execution_count": 1,
   "id": "956e010a",
   "metadata": {},
   "outputs": [
    {
     "name": "stdout",
     "output_type": "stream",
     "text": [
      "3\n",
      "3\n",
      "3\n",
      "5\n"
     ]
    }
   ],
   "source": [
    "#Implement Min Stack\n",
    "class MinStack:\n",
    "    def __init__(self):\n",
    "        self.stack = []      # Main stack\n",
    "        self.min_stack = []  # Stack to keep track of minimums\n",
    "\n",
    "    def push(self, val: int) -> None:\n",
    "        self.stack.append(val)\n",
    "        # Push the minimum so far to min_stack\n",
    "        if not self.min_stack or val <= self.min_stack[-1]:\n",
    "            self.min_stack.append(val)\n",
    "\n",
    "    def pop(self) -> None:\n",
    "        if self.stack:\n",
    "            val = self.stack.pop()\n",
    "            if val == self.min_stack[-1]:\n",
    "                self.min_stack.pop()\n",
    "\n",
    "    def top(self) -> int:\n",
    "        if self.stack:\n",
    "            return self.stack[-1]\n",
    "\n",
    "    def getMin(self) -> int:\n",
    "        if self.min_stack:\n",
    "            return self.min_stack[-1]\n",
    "min_stack = MinStack()\n",
    "min_stack.push(5)\n",
    "min_stack.push(3)\n",
    "min_stack.push(7)\n",
    "print(min_stack.getMin())  # Output: 3\n",
    "min_stack.pop()\n",
    "print(min_stack.top())     # Output: 3\n",
    "print(min_stack.getMin())  # Output: 3\n",
    "min_stack.pop()\n",
    "print(min_stack.getMin())  # Output: 5\n"
   ]
  },
  {
   "cell_type": "code",
   "execution_count": 2,
   "id": "5b946075",
   "metadata": {},
   "outputs": [
    {
     "name": "stdout",
     "output_type": "stream",
     "text": [
      "4\n"
     ]
    }
   ],
   "source": [
    "#Rotten Oranges using BFS\n",
    "from collections import deque\n",
    "\n",
    "def orangesRotting(grid):\n",
    "    rows, cols = len(grid), len(grid[0])\n",
    "    queue = deque()\n",
    "    fresh = 0\n",
    "\n",
    "    # Step 1: Initialize the queue with all initially rotten oranges\n",
    "    for r in range(rows):\n",
    "        for c in range(cols):\n",
    "            if grid[r][c] == 2:\n",
    "                queue.append((r, c, 0))  # (row, col, time)\n",
    "            elif grid[r][c] == 1:\n",
    "                fresh += 1\n",
    "\n",
    "    directions = [(0, 1), (0, -1), (1, 0), (-1, 0)]\n",
    "    time = 0\n",
    "\n",
    "    # Step 2: BFS traversal\n",
    "    while queue:\n",
    "        r, c, t = queue.popleft()\n",
    "        time = max(time, t)\n",
    "#         //delta row,new row    \n",
    "        for dr, dc in directions:\n",
    "            nr, nc = r + dr, c + dc\n",
    "\n",
    "            if 0 <= nr < rows and 0 <= nc < cols and grid[nr][nc] == 1:\n",
    "                grid[nr][nc] = 2  # rot the fresh orange\n",
    "                fresh -= 1\n",
    "                queue.append((nr, nc, t + 1))\n",
    "\n",
    "    return time if fresh == 0 else -1\n",
    "grid = [\n",
    "    [2,1,1],\n",
    "    [1,1,0],\n",
    "    [0,1,1]\n",
    "]\n",
    "print(orangesRotting(grid))  # Output: 4\n"
   ]
  },
  {
   "cell_type": "code",
   "execution_count": 8,
   "id": "2b97496a",
   "metadata": {},
   "outputs": [
    {
     "name": "stdout",
     "output_type": "stream",
     "text": [
      "[1, 1, 1, 2, 1, 4, 6]\n"
     ]
    }
   ],
   "source": [
    "#Stock span problem\n",
    "def calculateSpan(prices):\n",
    "    n = len(prices)\n",
    "    span = [0] * n\n",
    "    stack = []  # Will store indices\n",
    "\n",
    "    for i in range(n):\n",
    "        # Pop prices less than or equal to current\n",
    "        while stack and prices[stack[-1]] <= prices[i]:\n",
    "            stack.pop()\n",
    "\n",
    "        # If stack is empty, all previous prices are smaller\n",
    "        span[i] = i + 1 if not stack else i - stack[-1]\n",
    "\n",
    "        # Push current index\n",
    "        stack.append(i)\n",
    "\n",
    "    return span\n",
    "prices = [100, 80, 60, 70, 60, 75, 85]\n",
    "print(calculateSpan(prices))  # Output: [1, 1, 1, 2, 1, 4, 6]\n"
   ]
  },
  {
   "cell_type": "code",
   "execution_count": 10,
   "id": "75f84002",
   "metadata": {},
   "outputs": [
    {
     "name": "stdout",
     "output_type": "stream",
     "text": [
      "[70, 30, 20, 10, 10, 10, 10]\n"
     ]
    }
   ],
   "source": [
    "def max_of_minimums(arr):\n",
    "    n = len(arr)\n",
    "    res = [0] * (n + 1)\n",
    "    prev = [-1] * n\n",
    "    next_ = [n] * n\n",
    "    stack = []\n",
    "\n",
    "    # Previous Smaller Element\n",
    "    for i in range(n):\n",
    "        while stack and arr[stack[-1]] >= arr[i]:\n",
    "            stack.pop()\n",
    "        if stack:\n",
    "            prev[i] = stack[-1]\n",
    "        stack.append(i)\n",
    "\n",
    "    stack.clear()\n",
    "#     print(\"previous smaller: \",prev)\n",
    "\n",
    "    # Next Smaller Element\n",
    "    for i in range(n - 1, -1, -1):\n",
    "        while stack and arr[stack[-1]] >= arr[i]:\n",
    "            stack.pop()\n",
    "        if stack:\n",
    "            next_[i] = stack[-1]\n",
    "        stack.append(i)\n",
    "#     print(\"next smaller:\",next_)\n",
    "    # Find max of mins for every window size\n",
    "    for i in range(n):\n",
    "        length = next_[i] - prev[i] - 1\n",
    "        res[length] = max(res[length], arr[i])\n",
    "\n",
    "    # Fill remaining entries\n",
    "    for i in range(n - 1, 0, -1):\n",
    "        res[i] = max(res[i], res[i + 1])\n",
    "\n",
    "    return res[1:]\n",
    "arr = [10, 20, 30, 50, 10, 70, 30]\n",
    "print(max_of_minimums(arr))\n",
    "# Output: [70, 30, 20, 10, 10, 10, 10]\n"
   ]
  },
  {
   "cell_type": "code",
   "execution_count": 11,
   "id": "20f8ed6a",
   "metadata": {},
   "outputs": [
    {
     "name": "stdout",
     "output_type": "stream",
     "text": [
      "2\n"
     ]
    }
   ],
   "source": [
    "# The Celebrity Problem\n",
    "def findCelebrity(M, n):\n",
    "    stack = [i for i in range(n)]\n",
    "\n",
    "    # Step 1: Narrow down to one candidate\n",
    "    while len(stack) > 1:\n",
    "        a = stack.pop()\n",
    "        b = stack.pop()\n",
    "\n",
    "        if M[a][b] == 1:\n",
    "            # a knows b → a cannot be celebrity\n",
    "            stack.append(b)\n",
    "        else:\n",
    "            # a doesn't know b → b cannot be celebrity\n",
    "            stack.append(a)\n",
    "\n",
    "    if not stack:\n",
    "        return -1\n",
    "\n",
    "    candidate = stack.pop()\n",
    "\n",
    "    # Step 2: Verify candidate\n",
    "    for i in range(n):\n",
    "        if i != candidate:\n",
    "            if M[candidate][i] == 1 or M[i][candidate] == 0:\n",
    "                return -1\n",
    "\n",
    "    return candidate\n",
    "M = [\n",
    "    [0, 1, 1],\n",
    "    [0, 0, 1],\n",
    "    [0, 0, 0]\n",
    "]\n",
    "print(findCelebrity(M, 3))  # Output: 2\n"
   ]
  }
 ],
 "metadata": {
  "kernelspec": {
   "display_name": "Python 3 (ipykernel)",
   "language": "python",
   "name": "python3"
  },
  "language_info": {
   "codemirror_mode": {
    "name": "ipython",
    "version": 3
   },
   "file_extension": ".py",
   "mimetype": "text/x-python",
   "name": "python",
   "nbconvert_exporter": "python",
   "pygments_lexer": "ipython3",
   "version": "3.9.7"
  }
 },
 "nbformat": 4,
 "nbformat_minor": 5
}
